{
 "cells": [
  {
   "cell_type": "markdown",
   "id": "0a1b59a6-5cd5-4e39-be88-cfc23201c5f2",
   "metadata": {},
   "source": [
    "print komutu ve kullanımı"
   ]
  },
  {
   "cell_type": "code",
   "execution_count": 1,
   "id": "093d87bc-06bd-4b89-a181-f55816be55f5",
   "metadata": {},
   "outputs": [
    {
     "name": "stdout",
     "output_type": "stream",
     "text": [
      "Hello Word\n"
     ]
    }
   ],
   "source": [
    "print(\"Hello Word\")"
   ]
  },
  {
   "cell_type": "code",
   "execution_count": 2,
   "id": "ac41a82d-ed1b-4431-bb8c-5890b52e1126",
   "metadata": {},
   "outputs": [
    {
     "name": "stdout",
     "output_type": "stream",
     "text": [
      "Selam\n"
     ]
    }
   ],
   "source": [
    "print(\"Selam\")"
   ]
  },
  {
   "cell_type": "code",
   "execution_count": 3,
   "id": "44e75658-38f6-43ae-ba8b-0116fd22ad9e",
   "metadata": {},
   "outputs": [
    {
     "name": "stdout",
     "output_type": "stream",
     "text": [
      "Merhaba Yakın Kampüs\n"
     ]
    }
   ],
   "source": [
    "print('Merhaba Yakın Kampüs')"
   ]
  },
  {
   "cell_type": "code",
   "execution_count": 4,
   "id": "0ee03c39-91b6-48da-9384-5d4ce80c93d7",
   "metadata": {},
   "outputs": [
    {
     "name": "stdout",
     "output_type": "stream",
     "text": [
      "Merhaba \n",
      " Yakın Kampüs\n"
     ]
    }
   ],
   "source": [
    "print('Merhaba \\n Yakın Kampüs')"
   ]
  },
  {
   "cell_type": "code",
   "execution_count": 5,
   "id": "a42760e4-517d-4afe-a77b-356394f90c6a",
   "metadata": {},
   "outputs": [
    {
     "name": "stdout",
     "output_type": "stream",
     "text": [
      "Merhaba \n",
      "Yakın Kampüs\n",
      "Merhaba \tYakın Kampüs\n"
     ]
    }
   ],
   "source": [
    "print('Merhaba \\nYakın Kampüs')\n",
    "print('Merhaba \\tYakın Kampüs')"
   ]
  },
  {
   "cell_type": "code",
   "execution_count": 13,
   "id": "78b5a9b0-c348-4eea-9c4b-e6ccdbd19cd8",
   "metadata": {},
   "outputs": [
    {
     "name": "stdout",
     "output_type": "stream",
     "text": [
      "Benim adim Özgür\n",
      "Benim adim Özgür, yasim 20\n",
      "Benim adim Özgür, yasim 20\n",
      "Benim adim 20, yasim Özgür\n",
      "Benim adim Özgür, yasim 20\n",
      "Benim adim Özgür, yasim 20\n"
     ]
    }
   ],
   "source": [
    "print(\"Benim adim {}\".format('Özgür'))\n",
    "print(\"Benim adim {}, yasim {}\".format('Özgür', 20))\n",
    "\n",
    "print(\"Benim adim {0}, yasim {1}\".format('Özgür', 20))\n",
    "print(\"Benim adim {1}, yasim {0}\".format('Özgür', 20))\n",
    "\n",
    "\n",
    "print(\"Benim adim {ad}, yasim {yas}\".format(ad='Özgür', yas=20))\n",
    "\n",
    "print(\"Benim adim {ad}, yasim {yas}\".format(yas=20 , ad='Özgür'))"
   ]
  },
  {
   "cell_type": "markdown",
   "id": "f4aea266-c118-4a45-928b-c76b8e8f88c6",
   "metadata": {},
   "source": [
    "#Degiskenler\n",
    "#Kabul edilmeyen deisken isim atamları\n",
    "#sayı ile başlamak\n",
    "#bosluk icermek\n",
    "#\"*(/ gibi semboller içermek\n",
    "#rezerve edilmis isimleri kullanmak"
   ]
  },
  {
   "cell_type": "code",
   "execution_count": 16,
   "id": "035576f0-0cd8-456e-88ff-4caa1f64f258",
   "metadata": {},
   "outputs": [
    {
     "name": "stdout",
     "output_type": "stream",
     "text": [
      "10\n"
     ]
    }
   ],
   "source": [
    "sayi = 10\n",
    "print(sayi)"
   ]
  },
  {
   "cell_type": "code",
   "execution_count": 17,
   "id": "f4a547e5-8271-4923-877b-97e8797cc158",
   "metadata": {},
   "outputs": [
    {
     "name": "stdout",
     "output_type": "stream",
     "text": [
      "11\n"
     ]
    }
   ],
   "source": [
    "sayi = 11\n",
    "print(sayi)"
   ]
  },
  {
   "cell_type": "code",
   "execution_count": 19,
   "id": "ee5256d2-dde8-4439-9c23-096adc7c305c",
   "metadata": {},
   "outputs": [
    {
     "name": "stdout",
     "output_type": "stream",
     "text": [
      "12\n"
     ]
    }
   ],
   "source": [
    "sayi = sayi + 1\n",
    "print(sayi)"
   ]
  },
  {
   "cell_type": "code",
   "execution_count": 20,
   "id": "3f16f578-b273-4480-82aa-0dcf8920aee6",
   "metadata": {},
   "outputs": [
    {
     "name": "stdout",
     "output_type": "stream",
     "text": [
      "10\n"
     ]
    }
   ],
   "source": [
    "sayi_ilk = 10\n",
    "print(sayi_ilk)"
   ]
  },
  {
   "cell_type": "code",
   "execution_count": 21,
   "id": "947dac4f-d5c6-4098-a17b-551a75b07bfc",
   "metadata": {},
   "outputs": [
    {
     "ename": "SyntaxError",
     "evalue": "invalid decimal literal (4261394191.py, line 1)",
     "output_type": "error",
     "traceback": [
      "\u001b[1;36m  Cell \u001b[1;32mIn[21], line 1\u001b[1;36m\u001b[0m\n\u001b[1;33m    1sayi = 10\u001b[0m\n\u001b[1;37m    ^\u001b[0m\n\u001b[1;31mSyntaxError\u001b[0m\u001b[1;31m:\u001b[0m invalid decimal literal\n"
     ]
    }
   ],
   "source": [
    "1sayi = 10"
   ]
  },
  {
   "cell_type": "code",
   "execution_count": 22,
   "id": "f7cabdf5-6780-413b-baac-b9404b1e7411",
   "metadata": {},
   "outputs": [],
   "source": [
    "sayi_ilk = 10\n",
    "_ = 20\n",
    "a = 33"
   ]
  },
  {
   "cell_type": "code",
   "execution_count": 23,
   "id": "6d566544-77eb-4dfc-9b90-2b3f9d2f5899",
   "metadata": {},
   "outputs": [
    {
     "name": "stdout",
     "output_type": "stream",
     "text": [
      "Hello Word\n"
     ]
    }
   ],
   "source": [
    "print(\"Hello Word\")"
   ]
  },
  {
   "cell_type": "markdown",
   "id": "0a6702e2-edf9-4461-a73d-4c0a32f78c71",
   "metadata": {},
   "source": [
    "# Özgür Güngör"
   ]
  },
  {
   "cell_type": "code",
   "execution_count": 28,
   "id": "c9526489-21df-47f6-90be-161c459871be",
   "metadata": {},
   "outputs": [
    {
     "data": {
      "text/plain": [
       "int"
      ]
     },
     "execution_count": 28,
     "metadata": {},
     "output_type": "execute_result"
    }
   ],
   "source": [
    "type(3)"
   ]
  },
  {
   "cell_type": "code",
   "execution_count": 29,
   "id": "e7ee2d85-8fd6-4fba-b489-adcee0053fc3",
   "metadata": {},
   "outputs": [
    {
     "data": {
      "text/plain": [
       "float"
      ]
     },
     "execution_count": 29,
     "metadata": {},
     "output_type": "execute_result"
    }
   ],
   "source": [
    "type(1.5)"
   ]
  },
  {
   "cell_type": "code",
   "execution_count": 32,
   "id": "6c07e448-fc75-4ec5-9e93-ba7a4263388a",
   "metadata": {},
   "outputs": [
    {
     "data": {
      "text/plain": [
       "13"
      ]
     },
     "execution_count": 32,
     "metadata": {},
     "output_type": "execute_result"
    }
   ],
   "source": [
    "3+2*5"
   ]
  },
  {
   "cell_type": "code",
   "execution_count": 33,
   "id": "0d8d4093-dfc6-4934-b979-8f167e370b60",
   "metadata": {},
   "outputs": [
    {
     "data": {
      "text/plain": [
       "6.0"
      ]
     },
     "execution_count": 33,
     "metadata": {},
     "output_type": "execute_result"
    }
   ],
   "source": [
    "3.5 + 2.5"
   ]
  },
  {
   "cell_type": "code",
   "execution_count": 37,
   "id": "8750671c-5116-460c-87be-058795b6c34e",
   "metadata": {},
   "outputs": [
    {
     "name": "stdout",
     "output_type": "stream",
     "text": [
      "Python\n"
     ]
    }
   ],
   "source": [
    "strvar = \"Python\"\n",
    "print(strvar)"
   ]
  },
  {
   "cell_type": "code",
   "execution_count": 38,
   "id": "d2735d9e-f8ee-425f-a8ab-b28e5a9827a7",
   "metadata": {},
   "outputs": [
    {
     "data": {
      "text/plain": [
       "'h'"
      ]
     },
     "execution_count": 38,
     "metadata": {},
     "output_type": "execute_result"
    }
   ],
   "source": [
    "strvar[-3]"
   ]
  },
  {
   "cell_type": "code",
   "execution_count": 39,
   "id": "8ee7382f-ee40-41c8-97cd-d8af06638dc8",
   "metadata": {},
   "outputs": [
    {
     "data": {
      "text/plain": [
       "'thon'"
      ]
     },
     "execution_count": 39,
     "metadata": {},
     "output_type": "execute_result"
    }
   ],
   "source": [
    "strvar[2:]"
   ]
  },
  {
   "cell_type": "code",
   "execution_count": 42,
   "id": "bd7c211d-be5a-482b-9923-a0fdfbf894fb",
   "metadata": {},
   "outputs": [
    {
     "data": {
      "text/plain": [
       "'Pyt'"
      ]
     },
     "execution_count": 42,
     "metadata": {},
     "output_type": "execute_result"
    }
   ],
   "source": [
    "strvar[:3]"
   ]
  },
  {
   "cell_type": "code",
   "execution_count": 43,
   "id": "01238084-6d23-421c-9739-6c43482cd394",
   "metadata": {},
   "outputs": [
    {
     "data": {
      "text/plain": [
       "'tho'"
      ]
     },
     "execution_count": 43,
     "metadata": {},
     "output_type": "execute_result"
    }
   ],
   "source": [
    "strvar[2:5]"
   ]
  },
  {
   "cell_type": "code",
   "execution_count": 46,
   "id": "1498fad4-73dd-4ca8-a92e-2905e165fd43",
   "metadata": {},
   "outputs": [
    {
     "data": {
      "text/plain": [
       "'Pto'"
      ]
     },
     "execution_count": 46,
     "metadata": {},
     "output_type": "execute_result"
    }
   ],
   "source": [
    "strvar[::2]"
   ]
  },
  {
   "cell_type": "raw",
   "id": "29e2e15d-8468-42e1-9347-9a987dd1ed76",
   "metadata": {},
   "source": [
    "[] # tek bir eleman alınır\n",
    "[:] ## baslangic ve bitis arasindaki elemanlar alınır\n",
    "[::] ## baslangic ve bitis arasindaki elemanlar ücüncü kısımdaki degere gore atlayarak degerler alinir"
   ]
  },
  {
   "cell_type": "code",
   "execution_count": 47,
   "id": "f11215b7-64cb-43fc-bc9a-c1297ed79875",
   "metadata": {},
   "outputs": [
    {
     "data": {
      "text/plain": [
       "6"
      ]
     },
     "execution_count": 47,
     "metadata": {},
     "output_type": "execute_result"
    }
   ],
   "source": [
    "len(strvar)"
   ]
  },
  {
   "cell_type": "code",
   "execution_count": 49,
   "id": "6a85b335-7591-4d2f-9e15-189a2e81acc7",
   "metadata": {},
   "outputs": [
    {
     "data": {
      "text/plain": [
       "'Pythonogren!'"
      ]
     },
     "execution_count": 49,
     "metadata": {},
     "output_type": "execute_result"
    }
   ],
   "source": [
    "strvar = strvar + \"ogren!\"\n",
    "strvar"
   ]
  },
  {
   "cell_type": "code",
   "execution_count": 50,
   "id": "7202865d-27a6-4c9b-9fd6-c577ae508015",
   "metadata": {},
   "outputs": [
    {
     "data": {
      "text/plain": [
       "'Pythonogren!Pythonogren!Pythonogren!Pythonogren!Pythonogren!'"
      ]
     },
     "execution_count": 50,
     "metadata": {},
     "output_type": "execute_result"
    }
   ],
   "source": [
    "strvar * 5"
   ]
  },
  {
   "cell_type": "code",
   "execution_count": 51,
   "id": "4d19f324-47ec-4ff3-afb2-61419e149dab",
   "metadata": {},
   "outputs": [
    {
     "data": {
      "text/plain": [
       "'Pythonogren!'"
      ]
     },
     "execution_count": 51,
     "metadata": {},
     "output_type": "execute_result"
    }
   ],
   "source": [
    "strvar"
   ]
  },
  {
   "cell_type": "code",
   "execution_count": 55,
   "id": "28613d8e-56cd-4dfe-b911-f2b8f876d5f7",
   "metadata": {},
   "outputs": [
    {
     "name": "stdout",
     "output_type": "stream",
     "text": [
      "PYTHONOGREN!\n",
      "pythonogren!\n",
      "['Pythonogren!']\n"
     ]
    }
   ],
   "source": [
    "print(strvar.upper())\n",
    "print(strvar.lower())\n",
    "print(strvar.split())"
   ]
  },
  {
   "cell_type": "code",
   "execution_count": null,
   "id": "6a14d0e3-6987-483e-8c6a-2d821a16ee73",
   "metadata": {},
   "outputs": [],
   "source": []
  }
 ],
 "metadata": {
  "kernelspec": {
   "display_name": "Python 3 (ipykernel)",
   "language": "python",
   "name": "python3"
  },
  "language_info": {
   "codemirror_mode": {
    "name": "ipython",
    "version": 3
   },
   "file_extension": ".py",
   "mimetype": "text/x-python",
   "name": "python",
   "nbconvert_exporter": "python",
   "pygments_lexer": "ipython3",
   "version": "3.11.7"
  }
 },
 "nbformat": 4,
 "nbformat_minor": 5
}
