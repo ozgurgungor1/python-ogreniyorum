{
 "cells": [
  {
   "cell_type": "markdown",
   "id": "0a1b59a6-5cd5-4e39-be88-cfc23201c5f2",
   "metadata": {},
   "source": [
    "print komutu ve kullanımı"
   ]
  },
  {
   "cell_type": "code",
   "execution_count": 1,
   "id": "093d87bc-06bd-4b89-a181-f55816be55f5",
   "metadata": {},
   "outputs": [
    {
     "name": "stdout",
     "output_type": "stream",
     "text": [
      "Hello Word\n"
     ]
    }
   ],
   "source": [
    "print(\"Hello Word\")"
   ]
  },
  {
   "cell_type": "code",
   "execution_count": 2,
   "id": "ac41a82d-ed1b-4431-bb8c-5890b52e1126",
   "metadata": {},
   "outputs": [
    {
     "name": "stdout",
     "output_type": "stream",
     "text": [
      "Selam\n"
     ]
    }
   ],
   "source": [
    "print(\"Selam\")"
   ]
  },
  {
   "cell_type": "code",
   "execution_count": 3,
   "id": "44e75658-38f6-43ae-ba8b-0116fd22ad9e",
   "metadata": {},
   "outputs": [
    {
     "name": "stdout",
     "output_type": "stream",
     "text": [
      "Merhaba Yakın Kampüs\n"
     ]
    }
   ],
   "source": [
    "print('Merhaba Yakın Kampüs')"
   ]
  },
  {
   "cell_type": "code",
   "execution_count": 4,
   "id": "0ee03c39-91b6-48da-9384-5d4ce80c93d7",
   "metadata": {},
   "outputs": [
    {
     "name": "stdout",
     "output_type": "stream",
     "text": [
      "Merhaba \n",
      " Yakın Kampüs\n"
     ]
    }
   ],
   "source": [
    "print('Merhaba \\n Yakın Kampüs')"
   ]
  },
  {
   "cell_type": "code",
   "execution_count": 5,
   "id": "a42760e4-517d-4afe-a77b-356394f90c6a",
   "metadata": {},
   "outputs": [
    {
     "name": "stdout",
     "output_type": "stream",
     "text": [
      "Merhaba \n",
      "Yakın Kampüs\n",
      "Merhaba \tYakın Kampüs\n"
     ]
    }
   ],
   "source": [
    "print('Merhaba \\nYakın Kampüs')\n",
    "print('Merhaba \\tYakın Kampüs')"
   ]
  },
  {
   "cell_type": "code",
   "execution_count": 13,
   "id": "78b5a9b0-c348-4eea-9c4b-e6ccdbd19cd8",
   "metadata": {},
   "outputs": [
    {
     "name": "stdout",
     "output_type": "stream",
     "text": [
      "Benim adim Özgür\n",
      "Benim adim Özgür, yasim 20\n",
      "Benim adim Özgür, yasim 20\n",
      "Benim adim 20, yasim Özgür\n",
      "Benim adim Özgür, yasim 20\n",
      "Benim adim Özgür, yasim 20\n"
     ]
    }
   ],
   "source": [
    "print(\"Benim adim {}\".format('Özgür'))\n",
    "print(\"Benim adim {}, yasim {}\".format('Özgür', 20))\n",
    "\n",
    "print(\"Benim adim {0}, yasim {1}\".format('Özgür', 20))\n",
    "print(\"Benim adim {1}, yasim {0}\".format('Özgür', 20))\n",
    "\n",
    "\n",
    "print(\"Benim adim {ad}, yasim {yas}\".format(ad='Özgür', yas=20))\n",
    "\n",
    "print(\"Benim adim {ad}, yasim {yas}\".format(yas=20 , ad='Özgür'))"
   ]
  },
  {
   "cell_type": "markdown",
   "id": "f4aea266-c118-4a45-928b-c76b8e8f88c6",
   "metadata": {},
   "source": [
    "#Degiskenler\n",
    "#Kabul edilmeyen deisken isim atamları\n",
    "#sayı ile başlamak\n",
    "#bosluk icermek\n",
    "#\"*(/ gibi semboller içermek\n",
    "#rezerve edilmis isimleri kullanmak"
   ]
  },
  {
   "cell_type": "code",
   "execution_count": 16,
   "id": "035576f0-0cd8-456e-88ff-4caa1f64f258",
   "metadata": {},
   "outputs": [
    {
     "name": "stdout",
     "output_type": "stream",
     "text": [
      "10\n"
     ]
    }
   ],
   "source": [
    "sayi = 10\n",
    "print(sayi)"
   ]
  },
  {
   "cell_type": "code",
   "execution_count": 17,
   "id": "f4a547e5-8271-4923-877b-97e8797cc158",
   "metadata": {},
   "outputs": [
    {
     "name": "stdout",
     "output_type": "stream",
     "text": [
      "11\n"
     ]
    }
   ],
   "source": [
    "sayi = 11\n",
    "print(sayi)"
   ]
  },
  {
   "cell_type": "code",
   "execution_count": 19,
   "id": "ee5256d2-dde8-4439-9c23-096adc7c305c",
   "metadata": {},
   "outputs": [
    {
     "name": "stdout",
     "output_type": "stream",
     "text": [
      "12\n"
     ]
    }
   ],
   "source": [
    "sayi = sayi + 1\n",
    "print(sayi)"
   ]
  },
  {
   "cell_type": "code",
   "execution_count": 20,
   "id": "3f16f578-b273-4480-82aa-0dcf8920aee6",
   "metadata": {},
   "outputs": [
    {
     "name": "stdout",
     "output_type": "stream",
     "text": [
      "10\n"
     ]
    }
   ],
   "source": [
    "sayi_ilk = 10\n",
    "print(sayi_ilk)"
   ]
  },
  {
   "cell_type": "code",
   "execution_count": 21,
   "id": "947dac4f-d5c6-4098-a17b-551a75b07bfc",
   "metadata": {},
   "outputs": [
    {
     "ename": "SyntaxError",
     "evalue": "invalid decimal literal (4261394191.py, line 1)",
     "output_type": "error",
     "traceback": [
      "\u001b[1;36m  Cell \u001b[1;32mIn[21], line 1\u001b[1;36m\u001b[0m\n\u001b[1;33m    1sayi = 10\u001b[0m\n\u001b[1;37m    ^\u001b[0m\n\u001b[1;31mSyntaxError\u001b[0m\u001b[1;31m:\u001b[0m invalid decimal literal\n"
     ]
    }
   ],
   "source": [
    "1sayi = 10"
   ]
  },
  {
   "cell_type": "code",
   "execution_count": 22,
   "id": "f7cabdf5-6780-413b-baac-b9404b1e7411",
   "metadata": {},
   "outputs": [],
   "source": [
    "sayi_ilk = 10\n",
    "_ = 20\n",
    "a = 33"
   ]
  },
  {
   "cell_type": "code",
   "execution_count": 23,
   "id": "6d566544-77eb-4dfc-9b90-2b3f9d2f5899",
   "metadata": {},
   "outputs": [
    {
     "name": "stdout",
     "output_type": "stream",
     "text": [
      "Hello Word\n"
     ]
    }
   ],
   "source": [
    "print(\"Hello Word\")"
   ]
  },
  {
   "cell_type": "markdown",
   "id": "0a6702e2-edf9-4461-a73d-4c0a32f78c71",
   "metadata": {},
   "source": [
    "# Özgür Güngör"
   ]
  },
  {
   "cell_type": "code",
   "execution_count": 28,
   "id": "c9526489-21df-47f6-90be-161c459871be",
   "metadata": {},
   "outputs": [
    {
     "data": {
      "text/plain": [
       "int"
      ]
     },
     "execution_count": 28,
     "metadata": {},
     "output_type": "execute_result"
    }
   ],
   "source": [
    "type(3)"
   ]
  },
  {
   "cell_type": "code",
   "execution_count": 29,
   "id": "e7ee2d85-8fd6-4fba-b489-adcee0053fc3",
   "metadata": {},
   "outputs": [
    {
     "data": {
      "text/plain": [
       "float"
      ]
     },
     "execution_count": 29,
     "metadata": {},
     "output_type": "execute_result"
    }
   ],
   "source": [
    "type(1.5)"
   ]
  },
  {
   "cell_type": "code",
   "execution_count": 32,
   "id": "6c07e448-fc75-4ec5-9e93-ba7a4263388a",
   "metadata": {},
   "outputs": [
    {
     "data": {
      "text/plain": [
       "13"
      ]
     },
     "execution_count": 32,
     "metadata": {},
     "output_type": "execute_result"
    }
   ],
   "source": [
    "3+2*5"
   ]
  },
  {
   "cell_type": "code",
   "execution_count": 33,
   "id": "0d8d4093-dfc6-4934-b979-8f167e370b60",
   "metadata": {},
   "outputs": [
    {
     "data": {
      "text/plain": [
       "6.0"
      ]
     },
     "execution_count": 33,
     "metadata": {},
     "output_type": "execute_result"
    }
   ],
   "source": [
    "3.5 + 2.5"
   ]
  },
  {
   "cell_type": "code",
   "execution_count": 37,
   "id": "8750671c-5116-460c-87be-058795b6c34e",
   "metadata": {},
   "outputs": [
    {
     "name": "stdout",
     "output_type": "stream",
     "text": [
      "Python\n"
     ]
    }
   ],
   "source": [
    "strvar = \"Python\"\n",
    "print(strvar)"
   ]
  },
  {
   "cell_type": "code",
   "execution_count": 38,
   "id": "d2735d9e-f8ee-425f-a8ab-b28e5a9827a7",
   "metadata": {},
   "outputs": [
    {
     "data": {
      "text/plain": [
       "'h'"
      ]
     },
     "execution_count": 38,
     "metadata": {},
     "output_type": "execute_result"
    }
   ],
   "source": [
    "strvar[-3]"
   ]
  },
  {
   "cell_type": "code",
   "execution_count": 39,
   "id": "8ee7382f-ee40-41c8-97cd-d8af06638dc8",
   "metadata": {},
   "outputs": [
    {
     "data": {
      "text/plain": [
       "'thon'"
      ]
     },
     "execution_count": 39,
     "metadata": {},
     "output_type": "execute_result"
    }
   ],
   "source": [
    "strvar[2:]"
   ]
  },
  {
   "cell_type": "code",
   "execution_count": 42,
   "id": "bd7c211d-be5a-482b-9923-a0fdfbf894fb",
   "metadata": {},
   "outputs": [
    {
     "data": {
      "text/plain": [
       "'Pyt'"
      ]
     },
     "execution_count": 42,
     "metadata": {},
     "output_type": "execute_result"
    }
   ],
   "source": [
    "strvar[:3]"
   ]
  },
  {
   "cell_type": "code",
   "execution_count": 43,
   "id": "01238084-6d23-421c-9739-6c43482cd394",
   "metadata": {},
   "outputs": [
    {
     "data": {
      "text/plain": [
       "'tho'"
      ]
     },
     "execution_count": 43,
     "metadata": {},
     "output_type": "execute_result"
    }
   ],
   "source": [
    "strvar[2:5]"
   ]
  },
  {
   "cell_type": "code",
   "execution_count": 46,
   "id": "1498fad4-73dd-4ca8-a92e-2905e165fd43",
   "metadata": {},
   "outputs": [
    {
     "data": {
      "text/plain": [
       "'Pto'"
      ]
     },
     "execution_count": 46,
     "metadata": {},
     "output_type": "execute_result"
    }
   ],
   "source": [
    "strvar[::2]"
   ]
  },
  {
   "cell_type": "raw",
   "id": "29e2e15d-8468-42e1-9347-9a987dd1ed76",
   "metadata": {},
   "source": [
    "[] # tek bir eleman alınır\n",
    "[:] ## baslangic ve bitis arasindaki elemanlar alınır\n",
    "[::] ## baslangic ve bitis arasindaki elemanlar ücüncü kısımdaki degere gore atlayarak degerler alinir"
   ]
  },
  {
   "cell_type": "code",
   "execution_count": 47,
   "id": "f11215b7-64cb-43fc-bc9a-c1297ed79875",
   "metadata": {},
   "outputs": [
    {
     "data": {
      "text/plain": [
       "6"
      ]
     },
     "execution_count": 47,
     "metadata": {},
     "output_type": "execute_result"
    }
   ],
   "source": [
    "len(strvar)"
   ]
  },
  {
   "cell_type": "code",
   "execution_count": 49,
   "id": "6a85b335-7591-4d2f-9e15-189a2e81acc7",
   "metadata": {},
   "outputs": [
    {
     "data": {
      "text/plain": [
       "'Pythonogren!'"
      ]
     },
     "execution_count": 49,
     "metadata": {},
     "output_type": "execute_result"
    }
   ],
   "source": [
    "strvar = strvar + \"ogren!\"\n",
    "strvar"
   ]
  },
  {
   "cell_type": "code",
   "execution_count": 50,
   "id": "7202865d-27a6-4c9b-9fd6-c577ae508015",
   "metadata": {},
   "outputs": [
    {
     "data": {
      "text/plain": [
       "'Pythonogren!Pythonogren!Pythonogren!Pythonogren!Pythonogren!'"
      ]
     },
     "execution_count": 50,
     "metadata": {},
     "output_type": "execute_result"
    }
   ],
   "source": [
    "strvar * 5"
   ]
  },
  {
   "cell_type": "code",
   "execution_count": 51,
   "id": "4d19f324-47ec-4ff3-afb2-61419e149dab",
   "metadata": {},
   "outputs": [
    {
     "data": {
      "text/plain": [
       "'Pythonogren!'"
      ]
     },
     "execution_count": 51,
     "metadata": {},
     "output_type": "execute_result"
    }
   ],
   "source": [
    "strvar"
   ]
  },
  {
   "cell_type": "code",
   "execution_count": 58,
   "id": "28613d8e-56cd-4dfe-b911-f2b8f876d5f7",
   "metadata": {},
   "outputs": [
    {
     "name": "stdout",
     "output_type": "stream",
     "text": [
      "PYTHONOGREN!\n",
      "pythonogren!\n",
      "['Pythonogren', '']\n"
     ]
    }
   ],
   "source": [
    "print(strvar.upper())\n",
    "print(strvar.lower())\n",
    "print(strvar.split(\"!\"))"
   ]
  },
  {
   "cell_type": "code",
   "execution_count": null,
   "id": "6a14d0e3-6987-483e-8c6a-2d821a16ee73",
   "metadata": {},
   "outputs": [],
   "source": [
    "strvar.split()"
   ]
  },
  {
   "cell_type": "markdown",
   "id": "6b119a3c-463c-4f42-81a5-9391beba4d69",
   "metadata": {},
   "source": [
    "###Boolean"
   ]
  },
  {
   "cell_type": "code",
   "execution_count": 1,
   "id": "2132cb66-1e34-477c-b04b-4f86d0001b6a",
   "metadata": {},
   "outputs": [
    {
     "name": "stdout",
     "output_type": "stream",
     "text": [
      "<class 'bool'>\n",
      "True\n",
      "False\n",
      "<class 'str'>\n"
     ]
    }
   ],
   "source": [
    "a = True \n",
    "print(type(a))\n",
    "b = False \n",
    "print(a)\n",
    "print(b)\n",
    "c = 'True'\n",
    "print(type(c))"
   ]
  },
  {
   "cell_type": "code",
   "execution_count": 2,
   "id": "cf14bce9-f69b-4017-abb5-a7e3204a6763",
   "metadata": {},
   "outputs": [
    {
     "name": "stdout",
     "output_type": "stream",
     "text": [
      "False\n"
     ]
    }
   ],
   "source": [
    "yas1 = 20\n",
    "yas2 = 18\n",
    "\n",
    "print(yas2 > 18)"
   ]
  },
  {
   "cell_type": "code",
   "execution_count": 4,
   "id": "16586055-a9c1-46de-ae4f-7de00bcc58ff",
   "metadata": {},
   "outputs": [
    {
     "data": {
      "text/plain": [
       "False"
      ]
     },
     "execution_count": 4,
     "metadata": {},
     "output_type": "execute_result"
    }
   ],
   "source": [
    "yas1 == 18"
   ]
  },
  {
   "cell_type": "code",
   "execution_count": 5,
   "id": "6e6da243-cfca-4a0e-8027-2781ec274cb0",
   "metadata": {},
   "outputs": [
    {
     "data": {
      "text/plain": [
       "False"
      ]
     },
     "execution_count": 5,
     "metadata": {},
     "output_type": "execute_result"
    }
   ],
   "source": [
    "yas2 != 18"
   ]
  },
  {
   "cell_type": "markdown",
   "id": "08ec5dcc-3512-42d1-b93f-5948b33e5224",
   "metadata": {},
   "source": [
    "list set"
   ]
  },
  {
   "cell_type": "code",
   "execution_count": 6,
   "id": "56a4468a-906f-4cc6-8e0b-150b85549e38",
   "metadata": {},
   "outputs": [
    {
     "name": "stdout",
     "output_type": "stream",
     "text": [
      "['a', 'b', 'c', 'd', 'e', 'a']\n"
     ]
    }
   ],
   "source": [
    "liste = ['a', 'b', 'c', 'd', 'e', 'a']\n",
    "print(liste)"
   ]
  },
  {
   "cell_type": "code",
   "execution_count": 8,
   "id": "246bf2da-1c81-4a7d-9ccd-538ab7c08e1a",
   "metadata": {},
   "outputs": [
    {
     "data": {
      "text/plain": [
       "['a', 'b', 'c', 'd', 'e', 'a', 'f', 'f']"
      ]
     },
     "execution_count": 8,
     "metadata": {},
     "output_type": "execute_result"
    }
   ],
   "source": [
    "liste = liste + ['f']\n",
    "liste"
   ]
  },
  {
   "cell_type": "code",
   "execution_count": 11,
   "id": "693aa2d7-fcbb-4aee-8b51-80e7fd513c41",
   "metadata": {},
   "outputs": [
    {
     "data": {
      "text/plain": [
       "['d', 'e']"
      ]
     },
     "execution_count": 11,
     "metadata": {},
     "output_type": "execute_result"
    }
   ],
   "source": [
    "liste[3:5]"
   ]
  },
  {
   "cell_type": "code",
   "execution_count": 12,
   "id": "7e88b6a2-afef-445c-aa2e-73f1e71303e2",
   "metadata": {},
   "outputs": [
    {
     "data": {
      "text/plain": [
       "['a', 'b', 'c', 'd', 'e', 'a', 'f', 'f', 'g']"
      ]
     },
     "execution_count": 12,
     "metadata": {},
     "output_type": "execute_result"
    }
   ],
   "source": [
    "liste.append('g')\n",
    "liste"
   ]
  },
  {
   "cell_type": "code",
   "execution_count": 13,
   "id": "2672f43b-2bae-4829-9a50-95eadc9c8b07",
   "metadata": {},
   "outputs": [
    {
     "data": {
      "text/plain": [
       "'g'"
      ]
     },
     "execution_count": 13,
     "metadata": {},
     "output_type": "execute_result"
    }
   ],
   "source": [
    "liste.pop()"
   ]
  },
  {
   "cell_type": "code",
   "execution_count": 14,
   "id": "3c9aae5e-a1d4-4d76-8de4-d1743b6a89d4",
   "metadata": {},
   "outputs": [
    {
     "data": {
      "text/plain": [
       "['a', 'b', 'c', 'd', 'e', 'a', 'f', 'f']"
      ]
     },
     "execution_count": 14,
     "metadata": {},
     "output_type": "execute_result"
    }
   ],
   "source": [
    "liste"
   ]
  },
  {
   "cell_type": "code",
   "execution_count": 15,
   "id": "bcf5a9ae-6c2f-4703-89d4-969b9213dbc8",
   "metadata": {},
   "outputs": [
    {
     "name": "stdout",
     "output_type": "stream",
     "text": [
      "['a', 'b', 'c', 'd', 'e', 'f', 'f']\n"
     ]
    }
   ],
   "source": [
    "liste.pop(5)\n",
    "print(liste)"
   ]
  },
  {
   "cell_type": "code",
   "execution_count": 16,
   "id": "6a1ed836-35c3-4088-b179-3cc467c6e416",
   "metadata": {},
   "outputs": [],
   "source": [
    "sayiler = [123,344,345,456,546]\n",
    "sayiler.sort()"
   ]
  },
  {
   "cell_type": "code",
   "execution_count": 17,
   "id": "c6716f22-d7d3-46ed-a96e-818ed383d0be",
   "metadata": {},
   "outputs": [
    {
     "data": {
      "text/plain": [
       "[123, 344, 345, 456, 546]"
      ]
     },
     "execution_count": 17,
     "metadata": {},
     "output_type": "execute_result"
    }
   ],
   "source": [
    "sayiler"
   ]
  },
  {
   "cell_type": "code",
   "execution_count": 18,
   "id": "a8f2587a-54fa-424d-af1c-13198045a51c",
   "metadata": {},
   "outputs": [
    {
     "name": "stdout",
     "output_type": "stream",
     "text": [
      "[546, 456, 345, 344, 123]\n"
     ]
    }
   ],
   "source": [
    "sayiler.reverse()\n",
    "print(sayiler)"
   ]
  },
  {
   "cell_type": "code",
   "execution_count": 19,
   "id": "f03d8c57-31bf-434e-9d14-42f50adff378",
   "metadata": {},
   "outputs": [
    {
     "data": {
      "text/plain": [
       "{123, 344, 345, 456, 546}"
      ]
     },
     "execution_count": 19,
     "metadata": {},
     "output_type": "execute_result"
    }
   ],
   "source": [
    "set(sayiler)"
   ]
  },
  {
   "cell_type": "markdown",
   "id": "c9c80e9e-49c0-48f3-b3cd-d2bcbea5fac0",
   "metadata": {},
   "source": [
    "tuple"
   ]
  },
  {
   "cell_type": "code",
   "execution_count": 20,
   "id": "603e5748-3b38-4bf4-98e4-939d6af2949f",
   "metadata": {},
   "outputs": [
    {
     "name": "stdout",
     "output_type": "stream",
     "text": [
      "['a', 'b', 'c', 'd', 'e', 'a']\n",
      "('a', 'b', 'c', 'd', 'e', 'a')\n"
     ]
    }
   ],
   "source": [
    "liste = ['a', 'b', 'c', 'd', 'e', 'a']\n",
    "print(liste)\n",
    "tup = ('a', 'b', 'c', 'd', 'e', 'a')\n",
    "print(tup)"
   ]
  },
  {
   "cell_type": "code",
   "execution_count": 22,
   "id": "850d8ab0-5e51-4ac1-bf1f-b34c1b8b1232",
   "metadata": {},
   "outputs": [
    {
     "data": {
      "text/plain": [
       "[4444, 'b', 'c', 'd', 'e', 'a']"
      ]
     },
     "execution_count": 22,
     "metadata": {},
     "output_type": "execute_result"
    }
   ],
   "source": [
    "liste[0] = 4444 \n",
    "liste"
   ]
  },
  {
   "cell_type": "code",
   "execution_count": 24,
   "id": "6ada19e0-30ed-4a41-98d7-90d773548f8b",
   "metadata": {},
   "outputs": [
    {
     "data": {
      "text/plain": [
       "2"
      ]
     },
     "execution_count": 24,
     "metadata": {},
     "output_type": "execute_result"
    }
   ],
   "source": [
    "tup.count('a')"
   ]
  },
  {
   "cell_type": "code",
   "execution_count": 25,
   "id": "cb36653c-5e7a-4ae4-8067-ff1b0b24e279",
   "metadata": {},
   "outputs": [
    {
     "data": {
      "text/plain": [
       "1"
      ]
     },
     "execution_count": 25,
     "metadata": {},
     "output_type": "execute_result"
    }
   ],
   "source": [
    "tup.count('b')"
   ]
  },
  {
   "cell_type": "code",
   "execution_count": 26,
   "id": "72c12e78-b0c6-4291-8744-9c2fdb286eca",
   "metadata": {},
   "outputs": [
    {
     "data": {
      "text/plain": [
       "0"
      ]
     },
     "execution_count": 26,
     "metadata": {},
     "output_type": "execute_result"
    }
   ],
   "source": [
    "tup.index('a',)"
   ]
  },
  {
   "cell_type": "markdown",
   "id": "50afe71b-3745-4520-8b22-8a24aff6e759",
   "metadata": {},
   "source": [
    "#dictionary"
   ]
  },
  {
   "cell_type": "code",
   "execution_count": 28,
   "id": "2db6201c-2a9a-490e-a04b-4e028bf78a34",
   "metadata": {},
   "outputs": [
    {
     "data": {
      "text/plain": [
       "{'isim': 'Özgür', 'yas': 20, 'lokasyon': 'Türkiye'}"
      ]
     },
     "execution_count": 28,
     "metadata": {},
     "output_type": "execute_result"
    }
   ],
   "source": [
    "dict1 = {'isim': 'Özgür', 'yas':20, 'lokasyon': 'Türkiye'}\n",
    "dict1"
   ]
  },
  {
   "cell_type": "code",
   "execution_count": 32,
   "id": "e94a5e11-ed3a-4eed-a881-e2565495f093",
   "metadata": {},
   "outputs": [
    {
     "data": {
      "text/plain": [
       "{'isim': 'Özgür',\n",
       " 'yas': 20,\n",
       " 'dogdugu_sehir': 'Sivas',\n",
       " 'yasadigi_sehir': 'Erzurum'}"
      ]
     },
     "execution_count": 32,
     "metadata": {},
     "output_type": "execute_result"
    }
   ],
   "source": [
    "dict2 = {\n",
    "    'isim': 'Özgür',\n",
    "    'yas':20,\n",
    "    'dogdugu_sehir': 'Sivas',\n",
    "    'yasadigi_sehir': 'Erzurum'\n",
    "    ##'lokasyon': 'Türkiye'\n",
    "}\n",
    "dict2"
   ]
  },
  {
   "cell_type": "code",
   "execution_count": 33,
   "id": "574f65cc-9735-4776-a855-72c911052933",
   "metadata": {},
   "outputs": [
    {
     "data": {
      "text/plain": [
       "{'isim': 'Özgür',\n",
       " 'yas': 20,\n",
       " 'lokasyon': {'dogdugu_sehir': 'Sivas', 'yasadigi_sehir': 'Erzurum'}}"
      ]
     },
     "execution_count": 33,
     "metadata": {},
     "output_type": "execute_result"
    }
   ],
   "source": [
    "dict3 = {\n",
    "    'isim': 'Özgür',\n",
    "    'yas':20,\n",
    "    'lokasyon': {\n",
    "        'dogdugu_sehir': 'Sivas',\n",
    "        'yasadigi_sehir': 'Erzurum'\n",
    "    }\n",
    "}\n",
    "dict3"
   ]
  },
  {
   "cell_type": "code",
   "execution_count": 34,
   "id": "3f130f7a-0c07-42e9-98e3-a188f9a4f29a",
   "metadata": {},
   "outputs": [
    {
     "data": {
      "text/plain": [
       "'Erzurum'"
      ]
     },
     "execution_count": 34,
     "metadata": {},
     "output_type": "execute_result"
    }
   ],
   "source": [
    "dict3['lokasyon']['yasadigi_sehir']"
   ]
  },
  {
   "cell_type": "code",
   "execution_count": 35,
   "id": "56d0bbf9-f4b6-4914-ac6c-f1df24025795",
   "metadata": {},
   "outputs": [
    {
     "data": {
      "text/plain": [
       "'Erzurum'"
      ]
     },
     "execution_count": 35,
     "metadata": {},
     "output_type": "execute_result"
    }
   ],
   "source": [
    "dict3.get('lokasyon').get('yasadigi_sehir')"
   ]
  },
  {
   "cell_type": "code",
   "execution_count": 36,
   "id": "00c770ba-2157-42a5-a689-1f314287c95b",
   "metadata": {},
   "outputs": [
    {
     "data": {
      "text/plain": [
       "dict_keys(['isim', 'yas', 'dogdugu_sehir', 'yasadigi_sehir'])"
      ]
     },
     "execution_count": 36,
     "metadata": {},
     "output_type": "execute_result"
    }
   ],
   "source": [
    "dict2.keys()"
   ]
  },
  {
   "cell_type": "code",
   "execution_count": 37,
   "id": "7926f641-be6b-460e-94ea-93d26b2068c9",
   "metadata": {},
   "outputs": [
    {
     "data": {
      "text/plain": [
       "dict_values(['Özgür', 20, 'Sivas', 'Erzurum'])"
      ]
     },
     "execution_count": 37,
     "metadata": {},
     "output_type": "execute_result"
    }
   ],
   "source": [
    "dict2.values()"
   ]
  },
  {
   "cell_type": "code",
   "execution_count": 38,
   "id": "9db7e981-09b4-4a86-867c-01b0a44dd3c6",
   "metadata": {},
   "outputs": [
    {
     "data": {
      "text/plain": [
       "dict_items([('isim', 'Özgür'), ('yas', 20), ('dogdugu_sehir', 'Sivas'), ('yasadigi_sehir', 'Erzurum')])"
      ]
     },
     "execution_count": 38,
     "metadata": {},
     "output_type": "execute_result"
    }
   ],
   "source": [
    "dict2.items()"
   ]
  },
  {
   "cell_type": "markdown",
   "id": "88cf57e2-f382-4b04-ace7-004c2760c791",
   "metadata": {},
   "source": [
    " if Sorguları"
   ]
  },
  {
   "cell_type": "code",
   "execution_count": 42,
   "id": "ed119920-843b-406a-a15d-d99e645a493b",
   "metadata": {},
   "outputs": [
    {
     "name": "stdout",
     "output_type": "stream",
     "text": [
      "Sorun yok\n"
     ]
    }
   ],
   "source": [
    "hava_durumu = \"karli\"\n",
    "\n",
    "if hava_durumu == 'yagisli':\n",
    "    print(\"Semsiyeni al!\")\n",
    "else:\n",
    "    print(\"Sorun yok\")"
   ]
  },
  {
   "cell_type": "code",
   "execution_count": 43,
   "id": "a5247dd9-a7b9-4303-8f2e-ce3756803a41",
   "metadata": {},
   "outputs": [
    {
     "name": "stdout",
     "output_type": "stream",
     "text": [
      "Atkini al!\n"
     ]
    }
   ],
   "source": [
    "hava_durumu = \"karli\"\n",
    "\n",
    "if hava_durumu == 'yagisli':\n",
    "    print(\"Semsiyeni al!\")\n",
    "elif hava_durumu == 'karli':\n",
    "    print(\"Atkini al!\")\n",
    "else:\n",
    "    print(\"Sorun yok\")"
   ]
  },
  {
   "cell_type": "code",
   "execution_count": 46,
   "id": "cb792cd2-0c9e-4fd4-818e-77e5480aacd8",
   "metadata": {},
   "outputs": [
    {
     "name": "stdout",
     "output_type": "stream",
     "text": [
      "Selam\n"
     ]
    }
   ],
   "source": [
    "yas = 20\n",
    "if yas > 18:\n",
    "    print(\"Selam\")\n",
    "else:\n",
    "    print(\"Burdan git\")"
   ]
  },
  {
   "cell_type": "code",
   "execution_count": 47,
   "id": "7966ddb6-535d-491f-8351-106892204960",
   "metadata": {},
   "outputs": [
    {
     "name": "stdout",
     "output_type": "stream",
     "text": [
      "liste ekledim\n",
      "Güncel liste ['a', 'b', 'c', 'd']\n"
     ]
    }
   ],
   "source": [
    "liste = ['a', 'b', 'c']\n",
    "\n",
    "hedef_harf = 'd'\n",
    "if hedef_harf in liste:\n",
    "    print('buldum')\n",
    "else:\n",
    "    liste.append(hedef_harf)\n",
    "\n",
    "    print('liste ekledim')\n",
    "    print('Güncel liste {}'.format(liste))"
   ]
  },
  {
   "cell_type": "code",
   "execution_count": 49,
   "id": "7bc9b123-53de-4054-b0ee-3234232d9831",
   "metadata": {},
   "outputs": [
    {
     "name": "stdout",
     "output_type": "stream",
     "text": [
      "buldum ama ilk konumda degil\n"
     ]
    }
   ],
   "source": [
    "if (hedef_harf in liste) and (hedef_harf == liste[0]):\n",
    "    print('buldum ve ilk harf konumunda')\n",
    "elif hedef_harf in liste:\n",
    "    print('buldum ama ilk konumda degil')\n",
    "else:\n",
    "    liste.append(hedef_harf)\n",
    "\n",
    "    print('liste ekledim')\n",
    "    print('Güncel liste {}'.format(liste))"
   ]
  },
  {
   "cell_type": "markdown",
   "id": "a07b14fe-d811-45b6-a8c4-b268af0cbdb1",
   "metadata": {},
   "source": [
    "for döngüleri"
   ]
  },
  {
   "cell_type": "code",
   "execution_count": 51,
   "id": "4c794fd1-e3f9-4f00-8f03-4c96f76cb3a0",
   "metadata": {},
   "outputs": [],
   "source": [
    "yorum_birakanlar = [\"İsmail Aydemir\", \"Uygar Aydın\", \"Naz Yagcioglu\", \"Ferhat Ibrik\", \"Ulas Acil\", \"Bilal Kurucay\"]"
   ]
  },
  {
   "cell_type": "code",
   "execution_count": 52,
   "id": "580c1548-3c23-4a88-a146-71302170665f",
   "metadata": {},
   "outputs": [
    {
     "name": "stdout",
     "output_type": "stream",
     "text": [
      "İsmail Aydemir\n",
      "Uygar Aydın\n",
      "Naz Yagcioglu\n",
      "Ferhat Ibrik\n",
      "Ulas Acil\n",
      "Bilal Kurucay\n"
     ]
    }
   ],
   "source": [
    "for kullanici in yorum_birakanlar:\n",
    "    print(kullanici)"
   ]
  },
  {
   "cell_type": "code",
   "execution_count": 71,
   "id": "48049510-b998-4e39-a15d-5b978a853655",
   "metadata": {},
   "outputs": [
    {
     "name": "stdout",
     "output_type": "stream",
     "text": [
      "1. Kullanicinin Adi İsmail ve Soyadi Aydemir\n",
      "2. Kullanicinin Adi Uygar ve Soyadi Aydın\n",
      "3. Kullanicinin Adi Naz ve Soyadi Yagcioglu\n",
      "4. Kullanicinin Adi Ferhat ve Soyadi Ibrik\n",
      "5. Kullanicinin Adi Ulas ve Soyadi Acil\n",
      "6. Kullanicinin Adi Bilal ve Soyadi Kurucay\n"
     ]
    }
   ],
   "source": [
    "kullanici_sayisi = 0\n",
    "\n",
    "for kullanici in yorum_birakanlar:\n",
    "  kullanici_sayisi += 1\n",
    "  ad, soyad = kullanici.split()[0], kullanici.split()[1]\n",
    "  print('{0}. Kullanicinin Adi {1} ve Soyadi {2}'.format(kullanici_sayisi, ad, soyad))\n"
   ]
  },
  {
   "cell_type": "code",
   "execution_count": 53,
   "id": "35e338d4-fb04-4712-b94a-daac9f4912b0",
   "metadata": {},
   "outputs": [
    {
     "name": "stdout",
     "output_type": "stream",
     "text": [
      "1 İsmail Aydemir\n",
      "2 Uygar Aydın\n",
      "3 Naz Yagcioglu\n",
      "4 Ferhat Ibrik\n",
      "5 Ulas Acil\n",
      "6 Bilal Kurucay\n"
     ]
    }
   ],
   "source": [
    "kullanici_sayisi = 0\n",
    "\n",
    "for kullanici in yorum_birakanlar:\n",
    "    kullanici_sayisi = kullanici_sayisi + 1\n",
    "    print(kullanici_sayisi, kullanici)"
   ]
  },
  {
   "cell_type": "code",
   "execution_count": 62,
   "id": "45392964-5acb-424e-a036-448ce1b4f42d",
   "metadata": {},
   "outputs": [],
   "source": [
    "yorum_birakanlar = [\"İsmail Aydemir\", \"Uygar Aydın\", \"Naz Yagcioglu\", \"Ferhat Ibrik\", \"Ulas Acil\", \"Bilal Kurucay\"]"
   ]
  },
  {
   "cell_type": "code",
   "execution_count": 67,
   "id": "22ae8442-4545-4919-a629-339296db82c4",
   "metadata": {},
   "outputs": [
    {
     "name": "stdout",
     "output_type": "stream",
     "text": [
      "İsmail\n",
      "Aydemir\n"
     ]
    }
   ],
   "source": [
    "ad, soyad = yorum_birakanlar[0].split()[0], yorum_birakanlar[0].split()[1]\n",
    "print(ad)\n",
    "print(soyad)"
   ]
  },
  {
   "cell_type": "code",
   "execution_count": 72,
   "id": "0709dcaa-f633-4b6e-9afc-2879b80643df",
   "metadata": {},
   "outputs": [
    {
     "name": "stdout",
     "output_type": "stream",
     "text": [
      "1. Kullanicinin Adi İsmail ve Soyadi Aydemir\n",
      "2. Kullanicinin Adi Uygar ve Soyadi Aydın\n",
      "3. Kullanicinin Adi Naz ve Soyadi Yagcioglu\n",
      "4. Kullanicinin Adi Ulas ve Soyadi Acil\n",
      "5. Kullanicinin Adi Bilal ve Soyadi Kurucay\n"
     ]
    }
   ],
   "source": [
    "moderator = \"Ferhat Ibrik\"\n",
    "\n",
    "kullanici_sayisi = 0\n",
    "moderator_sayisi = 0\n",
    "\n",
    "for kullanici in yorum_birakanlar:\n",
    "    ad, soyad = kullanici.split()[0], kullanici.split()[1]\n",
    "\n",
    "    if(kullanici == moderator):\n",
    "        moderator_sayisi += 1 #moderator_sayisi, ad, soyad))\n",
    "    else:\n",
    "        kullanici_sayisi += 1\n",
    "        print('{0}. Kullanicinin Adi {1} ve Soyadi {2}'.format (kullanici_sayisi, ad, soyad))"
   ]
  },
  {
   "cell_type": "markdown",
   "id": "1c648c32-f316-4b5f-b5a1-b57bf33d0981",
   "metadata": {},
   "source": [
    "Diger Iterable Objelerde for Döngüleri"
   ]
  },
  {
   "cell_type": "code",
   "execution_count": 1,
   "id": "85802710-c7b8-4cdb-838e-9ce61803f473",
   "metadata": {},
   "outputs": [
    {
     "name": "stdout",
     "output_type": "stream",
     "text": [
      "1\n",
      "3\n",
      "5\n",
      "7\n"
     ]
    }
   ],
   "source": [
    "tup1 = (1, 3, 5, 7)\n",
    "\n",
    "for sayi in tup1:\n",
    "    print(sayi)"
   ]
  },
  {
   "cell_type": "code",
   "execution_count": 3,
   "id": "9f4d0af7-16f6-42e2-bc87-d1a8df7fc42e",
   "metadata": {},
   "outputs": [
    {
     "name": "stdout",
     "output_type": "stream",
     "text": [
      "1\n",
      "3\n",
      "5\n",
      "a\n"
     ]
    }
   ],
   "source": [
    "liste = [[1,2],[3,4],[5,6],['a','b']]\n",
    "\n",
    "for x,y in liste:\n",
    "    print(x)"
   ]
  },
  {
   "cell_type": "code",
   "execution_count": 4,
   "id": "e5e7976e-e681-4974-b171-8398b284648c",
   "metadata": {},
   "outputs": [
    {
     "name": "stdout",
     "output_type": "stream",
     "text": [
      "1 2\n",
      "3 4\n",
      "5 6\n"
     ]
    }
   ],
   "source": [
    "liste = [[1,2],[3,4],[5,6]]\n",
    "\n",
    "for x,y in liste:\n",
    "    print(x, y)"
   ]
  },
  {
   "cell_type": "code",
   "execution_count": 5,
   "id": "09b5be05-5067-464d-aac0-b7ad594fbba2",
   "metadata": {},
   "outputs": [
    {
     "name": "stdout",
     "output_type": "stream",
     "text": [
      "3\n",
      "7\n",
      "11\n"
     ]
    }
   ],
   "source": [
    "liste = [[1,2],[3,4],[5,6]]\n",
    "\n",
    "for x,y in liste:\n",
    "    print(x+y)"
   ]
  },
  {
   "cell_type": "code",
   "execution_count": 6,
   "id": "16468ec3-7e0a-46b2-8059-77df2c56c053",
   "metadata": {},
   "outputs": [
    {
     "name": "stdout",
     "output_type": "stream",
     "text": [
      "-1\n",
      "-1\n",
      "-1\n"
     ]
    }
   ],
   "source": [
    "liste = [[1,2],[3,4],[5,6]]\n",
    "\n",
    "for x,y in liste:\n",
    "    print(x-y)"
   ]
  },
  {
   "cell_type": "code",
   "execution_count": 7,
   "id": "b937ea8d-23cd-42f6-8967-932a020a64d3",
   "metadata": {},
   "outputs": [
    {
     "name": "stdout",
     "output_type": "stream",
     "text": [
      "2\n",
      "12\n",
      "30\n"
     ]
    }
   ],
   "source": [
    "liste = [[1,2],[3,4],[5,6]]\n",
    "\n",
    "for x,y in liste:\n",
    "    print(x*y)"
   ]
  },
  {
   "cell_type": "code",
   "execution_count": 9,
   "id": "cbee7ecf-3cfc-4ecd-ac31-69f8c3e5cce3",
   "metadata": {},
   "outputs": [
    {
     "data": {
      "text/plain": [
       "dict_items([('ad', 'Naz'), ('soyad', 'Yagcioglu')])"
      ]
     },
     "execution_count": 9,
     "metadata": {},
     "output_type": "execute_result"
    }
   ],
   "source": [
    "kullanici1 = {\n",
    "    'ad': 'Naz',\n",
    "    'soyad': 'Yagcioglu'\n",
    "}\n",
    "kullanici1.items()"
   ]
  },
  {
   "cell_type": "code",
   "execution_count": 11,
   "id": "c04d9c24-e2ae-4a6a-b719-a1e387281c35",
   "metadata": {},
   "outputs": [
    {
     "name": "stdout",
     "output_type": "stream",
     "text": [
      "Key: ad \t Value:Naz\n",
      "Key: soyad \t Value:Yagcioglu\n"
     ]
    }
   ],
   "source": [
    "for k, v in kullanici1.items():\n",
    "    print(\"Key: {} \\t Value:{}\".format(k,v))"
   ]
  },
  {
   "cell_type": "code",
   "execution_count": 12,
   "id": "67862435-1fd9-4433-bc4c-a4af68f66668",
   "metadata": {},
   "outputs": [
    {
     "name": "stdout",
     "output_type": "stream",
     "text": [
      "Key: ad\n",
      "Key: soyad\n"
     ]
    }
   ],
   "source": [
    "for k in kullanici1.keys():\n",
    "    print(\"Key: {}\".format(k))"
   ]
  },
  {
   "cell_type": "markdown",
   "id": "6df306fb-89ad-4600-99fa-9d1d26e1838c",
   "metadata": {},
   "source": [
    "while Döngüleri"
   ]
  },
  {
   "cell_type": "code",
   "execution_count": 13,
   "id": "35ae4d53-1319-444f-b290-b8f040948aa6",
   "metadata": {},
   "outputs": [
    {
     "name": "stdout",
     "output_type": "stream",
     "text": [
      "0 degeri 10'dan kücüktür\n",
      "1 degeri 10'dan kücüktür\n",
      "2 degeri 10'dan kücüktür\n",
      "3 degeri 10'dan kücüktür\n",
      "4 degeri 10'dan kücüktür\n",
      "5 degeri 10'dan kücüktür\n",
      "6 degeri 10'dan kücüktür\n",
      "7 degeri 10'dan kücüktür\n",
      "8 degeri 10'dan kücüktür\n",
      "9 degeri 10'dan kücüktür\n"
     ]
    }
   ],
   "source": [
    "x = 0\n",
    "\n",
    "while x <10:\n",
    "    print(\"{} degeri 10'dan kücüktür\".format(x))\n",
    "    x += 1"
   ]
  },
  {
   "cell_type": "code",
   "execution_count": 14,
   "id": "a59e7a71-9c3c-46e7-b46c-7397305dffc2",
   "metadata": {},
   "outputs": [
    {
     "name": "stdout",
     "output_type": "stream",
     "text": [
      "0 degeri 10'dan kücüktür\n",
      "1 degeri 10'dan kücüktür\n",
      "2 degeri 10'dan kücüktür\n",
      "3 degeri 10'dan kücüktür\n",
      "4 degeri 10'dan kücüktür\n",
      "5 degeri 10'dan kücüktür\n",
      "6 degeri 10'dan kücüktür\n",
      "7 degeri 10'dan kücüktür\n",
      "8 degeri 10'dan kücüktür\n",
      "9 degeri 10'dan kücüktür\n",
      "10 degeri 10'dan kücük degil\n"
     ]
    }
   ],
   "source": [
    "x = 0\n",
    "\n",
    "while x <10:\n",
    "    print(\"{} degeri 10'dan kücüktür\".format(x))\n",
    "    x += 1\n",
    "else:\n",
    "    print(\"{} degeri 10'dan kücük degil\".format(x))"
   ]
  },
  {
   "cell_type": "code",
   "execution_count": 18,
   "id": "47aa0b0e-ca1e-453d-9ff1-4db771254c47",
   "metadata": {},
   "outputs": [
    {
     "name": "stdout",
     "output_type": "stream",
     "text": [
      "6\n",
      "30\n",
      "120\n",
      "360\n",
      "720\n",
      "720\n"
     ]
    }
   ],
   "source": [
    "# Faktoriyel\n",
    "# 3! = 3 * 2 * 1 = 6\n",
    "# 6! = 6 * 5 * 4 * 3 * 2 * 1 = 720\n",
    "\n",
    "sayi = 6\n",
    "sonuc = 1\n",
    "\n",
    "while sayi > 0:\n",
    "    sonuc = sonuc * sayi #6 * 5 * 4 * 3 * 2 * 1\n",
    "    sayi -= 1 #3\n",
    "    print(sonuc)"
   ]
  },
  {
   "cell_type": "markdown",
   "id": "5754758b-1fbb-458c-9503-18d483c8ee24",
   "metadata": {},
   "source": [
    "### range"
   ]
  },
  {
   "cell_type": "code",
   "execution_count": 19,
   "id": "079b7d54-e8e2-4668-b1f0-517245777960",
   "metadata": {},
   "outputs": [
    {
     "data": {
      "text/plain": [
       "range(0, 10)"
      ]
     },
     "execution_count": 19,
     "metadata": {},
     "output_type": "execute_result"
    }
   ],
   "source": [
    "range(10)"
   ]
  },
  {
   "cell_type": "code",
   "execution_count": 20,
   "id": "81635479-5164-49bb-b9d3-8539c4d41e6c",
   "metadata": {},
   "outputs": [
    {
     "data": {
      "text/plain": [
       "[0, 1, 2, 3, 4, 5, 6, 7, 8, 9]"
      ]
     },
     "execution_count": 20,
     "metadata": {},
     "output_type": "execute_result"
    }
   ],
   "source": [
    "list(range(10))"
   ]
  },
  {
   "cell_type": "code",
   "execution_count": 22,
   "id": "6d5ff5c5-84d8-4af4-aa91-8324d908849a",
   "metadata": {},
   "outputs": [
    {
     "data": {
      "text/plain": [
       "[0, 1, 2, 3, 4, 5, 6, 7, 8, 9]"
      ]
     },
     "execution_count": 22,
     "metadata": {},
     "output_type": "execute_result"
    }
   ],
   "source": [
    "[*range(10)]"
   ]
  },
  {
   "cell_type": "code",
   "execution_count": 25,
   "id": "eefdbc0f-1d18-48fe-9f1d-9e5fd68a61f1",
   "metadata": {},
   "outputs": [
    {
     "data": {
      "text/plain": [
       "[2, 4, 6]"
      ]
     },
     "execution_count": 25,
     "metadata": {},
     "output_type": "execute_result"
    }
   ],
   "source": [
    "[*range(2,7,2)]"
   ]
  },
  {
   "cell_type": "code",
   "execution_count": 26,
   "id": "bfeec8fb-1cb1-4347-845f-9de6592bc620",
   "metadata": {},
   "outputs": [
    {
     "name": "stdout",
     "output_type": "stream",
     "text": [
      "0\n",
      "1\n",
      "2\n",
      "3\n",
      "4\n",
      "5\n",
      "6\n",
      "7\n",
      "8\n",
      "9\n"
     ]
    }
   ],
   "source": [
    "for sayi in range(10):\n",
    "    print(sayi)"
   ]
  },
  {
   "cell_type": "code",
   "execution_count": 28,
   "id": "10f6420a-b077-424b-8683-b164d8f6e89c",
   "metadata": {},
   "outputs": [
    {
     "name": "stdout",
     "output_type": "stream",
     "text": [
      "6\n",
      "7\n",
      "8\n",
      "9\n"
     ]
    }
   ],
   "source": [
    "for sayi in range(10):\n",
    "    if sayi  > 5:\n",
    "        print(sayi)"
   ]
  },
  {
   "cell_type": "markdown",
   "id": "11f68974-f761-451b-98fc-beabb9697e0e",
   "metadata": {},
   "source": [
    "### enumerate"
   ]
  },
  {
   "cell_type": "code",
   "execution_count": 29,
   "id": "d30fc0f8-875f-4a31-b012-847e069d0882",
   "metadata": {},
   "outputs": [
    {
     "name": "stdout",
     "output_type": "stream",
     "text": [
      "(0, 'a')\n",
      "(1, 'b')\n",
      "(2, 'c')\n",
      "(3, 'd')\n",
      "(4, 'e')\n"
     ]
    }
   ],
   "source": [
    "harfler = ['a','b','c','d','e']\n",
    "for harf in enumerate(harfler):\n",
    "    print(harf)"
   ]
  },
  {
   "cell_type": "code",
   "execution_count": 30,
   "id": "29e36426-b1e7-4db1-a9c5-d0618b670ccd",
   "metadata": {},
   "outputs": [
    {
     "name": "stdout",
     "output_type": "stream",
     "text": [
      "1. harf: a\n",
      "2. harf: b\n",
      "3. harf: c\n",
      "4. harf: d\n",
      "5. harf: e\n"
     ]
    }
   ],
   "source": [
    "for index, harf in enumerate(harfler):\n",
    "    print(\"{}. harf: {}\".format(index+1, harf))"
   ]
  },
  {
   "cell_type": "markdown",
   "id": "da8b9fd8-83f5-4141-94d6-6b795cd07067",
   "metadata": {},
   "source": [
    "### zip"
   ]
  },
  {
   "cell_type": "code",
   "execution_count": 32,
   "id": "e1a245b2-f15b-4753-b4e2-102611818420",
   "metadata": {},
   "outputs": [
    {
     "name": "stdout",
     "output_type": "stream",
     "text": [
      "('TR', 1)\n",
      "('FR', 2)\n",
      "('DE', 3)\n"
     ]
    }
   ],
   "source": [
    "ulkeler = ['TR','FR','DE']\n",
    "siralamalar = range(1,4)\n",
    "\n",
    "for ulke in zip(ulkeler,siralamalar):\n",
    "    print(ulke)"
   ]
  },
  {
   "cell_type": "markdown",
   "id": "2f28a8eb-5665-475b-a45b-5570f78ff185",
   "metadata": {},
   "source": [
    "### break"
   ]
  },
  {
   "cell_type": "code",
   "execution_count": 34,
   "id": "0abed00e-2729-45b4-887e-8a596c1af6fa",
   "metadata": {},
   "outputs": [
    {
     "name": "stdout",
     "output_type": "stream",
     "text": [
      "c harfi 2. intexte!\n"
     ]
    }
   ],
   "source": [
    "harfler = ['a', 'b', 'c', 'd', 'e'] * 100\n",
    "for index, harf in enumerate(harfler):\n",
    "    if harf == 'c':\n",
    "        print('{} harfi {}. intexte!'.format(harf, index))\n",
    "        break"
   ]
  },
  {
   "cell_type": "markdown",
   "id": "d687e743-6e2d-4d06-84a7-f685432ebb5b",
   "metadata": {},
   "source": [
    "### contine"
   ]
  },
  {
   "cell_type": "code",
   "execution_count": 35,
   "id": "724a241b-3a6b-4d0c-a0ce-2bb02901f44f",
   "metadata": {},
   "outputs": [
    {
     "name": "stdout",
     "output_type": "stream",
     "text": [
      "1\n",
      "3\n",
      "5\n"
     ]
    }
   ],
   "source": [
    "for sayi in range(1,6):\n",
    "    if sayi%2==0: #çift sayı sorgulama mantığı\n",
    "        continue\n",
    "    print(sayi)"
   ]
  },
  {
   "cell_type": "code",
   "execution_count": 36,
   "id": "047c8825-8285-45c5-9886-c081b4b3cb78",
   "metadata": {},
   "outputs": [
    {
     "name": "stdout",
     "output_type": "stream",
     "text": [
      "1\n",
      "3\n",
      "5\n"
     ]
    }
   ],
   "source": [
    "for sayi in range(1,6):\n",
    "    if sayi%2!=0: #cift sayi sorgulama mantigi\n",
    "        print(sayi)"
   ]
  },
  {
   "cell_type": "markdown",
   "id": "1db5397a-7707-45f9-9c96-14d720891822",
   "metadata": {},
   "source": [
    "### pass"
   ]
  },
  {
   "cell_type": "code",
   "execution_count": 37,
   "id": "5a28f597-bd5a-4a04-8fdf-b4aea5d1d6b6",
   "metadata": {},
   "outputs": [
    {
     "name": "stdout",
     "output_type": "stream",
     "text": [
      "1\n",
      "3\n",
      "5\n"
     ]
    }
   ],
   "source": [
    "for sayi in range(1,6):\n",
    "    if sayi%2==0: #cift sayi sorgulama mantigi\n",
    "        pass\n",
    "    else:\n",
    "        print(sayi)"
   ]
  },
  {
   "cell_type": "code",
   "execution_count": 38,
   "id": "87b76beb-533f-48fe-90b4-15bbcd6fc55b",
   "metadata": {},
   "outputs": [
    {
     "name": "stdout",
     "output_type": "stream",
     "text": [
      "Hey\n"
     ]
    }
   ],
   "source": [
    "if sayi < 5:\n",
    "    pass\n",
    "else:\n",
    "    print(\"Hey\")"
   ]
  },
  {
   "cell_type": "code",
   "execution_count": 46,
   "id": "1870db51-5be5-4475-bf39-669efdfb7931",
   "metadata": {},
   "outputs": [],
   "source": [
    "kullanici1 = {\n",
    "    'ad': 'Ferhat',\n",
    "    'soyad': 'Ibrik',\n",
    "    'uzmanlik': ['Front-End']\n",
    "}\n",
    "kullanici2 = {\n",
    "    'ad': 'Gokce',\n",
    "    'soyad': 'Gün',\n",
    "    'uzmanlik':['Tasarim']\n",
    "}\n",
    "kullanici3 = {\n",
    "    'ad': 'Mesut',\n",
    "    'soyad': 'Gün',\n",
    "    'uzmanlik': ['Front-End']\n",
    "}"
   ]
  },
  {
   "cell_type": "code",
   "execution_count": 41,
   "id": "99ff7e53-c6f1-425f-9373-5655c3cb8109",
   "metadata": {},
   "outputs": [
    {
     "data": {
      "text/plain": [
       "['Front-End']"
      ]
     },
     "execution_count": 41,
     "metadata": {},
     "output_type": "execute_result"
    }
   ],
   "source": [
    "#Soru 1: Ferhat Ibrik kullanicisinin uzmanlik alanlarini döndür\n",
    "kullanici1.get('uzmanlik')\n",
    "kullanici1['uzmanlik']"
   ]
  },
  {
   "cell_type": "code",
   "execution_count": 45,
   "id": "539deb9f-1dcf-4395-b5f9-917905d52df9",
   "metadata": {},
   "outputs": [
    {
     "name": "stdout",
     "output_type": "stream",
     "text": [
      "Ferhat\n",
      "Mesut\n"
     ]
    }
   ],
   "source": [
    "kullanici_listesi = [kullanici1, kullanici2, kullanici3]\n",
    "\n",
    "# Soru 2: Front-end alanindaki uzmanlarin isimlerini döndür\n",
    "for kullanici in kullanici_listesi:\n",
    "    if 'Front-End' in kullanici.get('uzmanlik'):\n",
    "        print(kullanici.get('ad'))"
   ]
  },
  {
   "cell_type": "code",
   "execution_count": 47,
   "id": "412e2633-a283-449e-9a1a-2b92699624e6",
   "metadata": {},
   "outputs": [
    {
     "name": "stdout",
     "output_type": "stream",
     "text": [
      "[{'ad': 'Ferhat', 'soyad': 'Ibrik', 'uzmanlik': ['Front-End']}, {'ad': 'Gokce', 'soyad': 'Gün', 'uzmanlik': ['Tasarim']}, {'ad': 'Mesut', 'soyad': 'Gün', 'uzmanlik': ['Front-End', 'Yazilim']}]\n"
     ]
    }
   ],
   "source": [
    "# soru 3: Mesut kullanicisi yazilim ögrendi, bilgileri güncelle!\n",
    "kullanici3['uzmanlik'].append(\"Yazilim\")\n",
    "print(kullanici_listesi)"
   ]
  },
  {
   "cell_type": "code",
   "execution_count": 48,
   "id": "f283bace-06ca-44a4-a4e9-42608c4bb6d0",
   "metadata": {},
   "outputs": [
    {
     "name": "stdout",
     "output_type": "stream",
     "text": [
      "{'ad': 'Mesut', 'soyad': 'Gün', 'uzmanlik': ['Front-End', 'Yazilim']}\n"
     ]
    }
   ],
   "source": [
    "# saru 4: 1den fazla uzmanlik alani olan kullanicilari döndür (Hint: Length)\n",
    "\n",
    "for kullanici in kullanici_listesi:\n",
    "    if len(kullanici['uzmanlik']) > 1:\n",
    "        print(kullanici)"
   ]
  },
  {
   "cell_type": "code",
   "execution_count": 50,
   "id": "0efa5422-e0db-4076-8a25-abcaca67049d",
   "metadata": {},
   "outputs": [
    {
     "name": "stdout",
     "output_type": "stream",
     "text": [
      "{'ad': 'Ferhat', 'soyad': 'Ibrik', 'uzmanlik': ['Front-End']}\n"
     ]
    }
   ],
   "source": [
    "kullanici_yaslari_listesi = [22, 34, 32]\n",
    "# Soru 5: zif kullanarak 2 listeyi birlestir ve yasi 30'dan az olan kullanicilar kimler?\n",
    "\n",
    "for kullanici, yas in zip(kullanici_listesi, kullanici_yaslari_listesi):\n",
    "    if yas < 30:\n",
    "        print(kullanici)"
   ]
  },
  {
   "cell_type": "code",
   "execution_count": 51,
   "id": "a6cd7975-68f2-42cf-b7b0-d337537f04f0",
   "metadata": {},
   "outputs": [
    {
     "name": "stdout",
     "output_type": "stream",
     "text": [
      "5 sayisi asalndir!\n"
     ]
    }
   ],
   "source": [
    "# Soru 6: deger isimli degiskene atanan sayinin asal olup olmadigini söyle'\n",
    "# Hint Asal sayi: kendinden ve 1'den baska böleni olmayan sayilar örnek 2,3,5,7\n",
    "\n",
    "deger = 5\n",
    "x=deger-1\n",
    "while x>1:\n",
    "    if deger%x==0:\n",
    "       print('{} sayisi asal degil!'.format(deger))\n",
    "       break\n",
    "    else:\n",
    "        x-=1\n",
    "else:\n",
    "     print('{} sayisi asalndir!'.format(deger))"
   ]
  },
  {
   "cell_type": "markdown",
   "id": "372e6314-42b8-4c31-bb4d-d4c396f1d967",
   "metadata": {},
   "source": [
    "5 = 2,3,4 > asal\n",
    "2,3,4,n-1 : x\n",
    "7*6*5*"
   ]
  },
  {
   "cell_type": "markdown",
   "id": "2282a07c-45d9-4129-8aef-fbc509a02c02",
   "metadata": {},
   "source": [
    "### Fonksiyonlar"
   ]
  },
  {
   "cell_type": "markdown",
   "id": "c3c06e75-e9ee-45a9-b7f6-33e0abfe4fcc",
   "metadata": {},
   "source": [
    "### Fonksiyon Yapısı"
   ]
  },
  {
   "cell_type": "markdown",
   "id": "55e617a5-1661-4f34-906d-1f2d8fb34f62",
   "metadata": {},
   "source": [
    "def <fonksiyon_ismi>(<argümanlar>): # snake_case\n",
    "    \"\"\" \n",
    "    Bu kod ne işe yarar             #docstring\n",
    "    \"\"\"\n",
    "    ...                              #return/print"
   ]
  },
  {
   "cell_type": "code",
   "execution_count": 6,
   "id": "0e886a35-5421-44d2-8e60-f61e6e54eca5",
   "metadata": {},
   "outputs": [],
   "source": [
    "def bes_bastir():\n",
    "    print(5)"
   ]
  },
  {
   "cell_type": "code",
   "execution_count": 7,
   "id": "15cbcfce-6838-43bd-ad4e-19dc3ada0121",
   "metadata": {},
   "outputs": [
    {
     "name": "stdout",
     "output_type": "stream",
     "text": [
      "5\n"
     ]
    }
   ],
   "source": [
    "bes_bastir()"
   ]
  },
  {
   "cell_type": "code",
   "execution_count": 3,
   "id": "0d6c3b3d-d3dd-4577-9ddd-cde525fa19d2",
   "metadata": {},
   "outputs": [
    {
     "name": "stdout",
     "output_type": "stream",
     "text": [
      "5\n"
     ]
    }
   ],
   "source": [
    "print(5)"
   ]
  },
  {
   "cell_type": "markdown",
   "id": "5b9df162-9fac-49c7-9da5-c3641e34c0b1",
   "metadata": {},
   "source": [
    "Fonksiyonlarda print ve return farki"
   ]
  },
  {
   "cell_type": "code",
   "execution_count": 4,
   "id": "b48854d3-ed90-4388-b156-a74e8733d4ed",
   "metadata": {},
   "outputs": [],
   "source": [
    "def bes_dondur():\n",
    "    return(5)"
   ]
  },
  {
   "cell_type": "code",
   "execution_count": 5,
   "id": "178313b2-db89-4bb0-9d36-7d5ecf5508b3",
   "metadata": {},
   "outputs": [
    {
     "data": {
      "text/plain": [
       "5"
      ]
     },
     "execution_count": 5,
     "metadata": {},
     "output_type": "execute_result"
    }
   ],
   "source": [
    "bes_dondur()"
   ]
  },
  {
   "cell_type": "code",
   "execution_count": 9,
   "id": "be2804a8-1e99-49cb-a3ce-a2bef431d342",
   "metadata": {},
   "outputs": [
    {
     "name": "stdout",
     "output_type": "stream",
     "text": [
      "5\n",
      "None\n"
     ]
    }
   ],
   "source": [
    "a = bes_bastir()\n",
    "print(a)"
   ]
  },
  {
   "cell_type": "code",
   "execution_count": 10,
   "id": "3acc71a7-3cab-4334-b046-1ec296c1ed62",
   "metadata": {},
   "outputs": [
    {
     "name": "stdout",
     "output_type": "stream",
     "text": [
      "5\n"
     ]
    }
   ],
   "source": [
    "b = bes_dondur()\n",
    "print(b)"
   ]
  },
  {
   "cell_type": "markdown",
   "id": "bd45335d-689e-4692-8383-10df4284f06d",
   "metadata": {},
   "source": [
    "### Fonksiyonlarda Argümanlar"
   ]
  },
  {
   "cell_type": "code",
   "execution_count": 11,
   "id": "c609e085-c251-4bee-8ce7-7dc7a9a94939",
   "metadata": {},
   "outputs": [],
   "source": [
    "def sayi_dondur(sayi):\n",
    "    return sayi"
   ]
  },
  {
   "cell_type": "code",
   "execution_count": 12,
   "id": "313fa5c7-84e8-4e4e-ad1d-23c0b60b9a41",
   "metadata": {},
   "outputs": [
    {
     "data": {
      "text/plain": [
       "100"
      ]
     },
     "execution_count": 12,
     "metadata": {},
     "output_type": "execute_result"
    }
   ],
   "source": [
    "sayi_dondur(100)"
   ]
  },
  {
   "cell_type": "code",
   "execution_count": 13,
   "id": "7f7052b3-db9b-478a-9f22-5ae0af19ff6b",
   "metadata": {},
   "outputs": [],
   "source": [
    "def sayi_dondur(sayi=250):\n",
    "    return sayi"
   ]
  },
  {
   "cell_type": "code",
   "execution_count": 14,
   "id": "9836b8c5-cbc7-421a-b654-64f772725fe9",
   "metadata": {},
   "outputs": [
    {
     "data": {
      "text/plain": [
       "250"
      ]
     },
     "execution_count": 14,
     "metadata": {},
     "output_type": "execute_result"
    }
   ],
   "source": [
    "sayi_dondur()"
   ]
  },
  {
   "cell_type": "code",
   "execution_count": 15,
   "id": "2821a553-f89c-4061-b689-ed1272dd5b57",
   "metadata": {},
   "outputs": [],
   "source": [
    "def buyuk_sayi_dondur(a,b):\n",
    "    if a>b:\n",
    "        return a\n",
    "    elif b>a:\n",
    "        return b"
   ]
  },
  {
   "cell_type": "code",
   "execution_count": 16,
   "id": "a3663183-af1e-4193-99b6-09616821a3d4",
   "metadata": {},
   "outputs": [
    {
     "data": {
      "text/plain": [
       "10"
      ]
     },
     "execution_count": 16,
     "metadata": {},
     "output_type": "execute_result"
    }
   ],
   "source": [
    "buyuk_sayi_dondur(5,10)"
   ]
  },
  {
   "cell_type": "markdown",
   "id": "ff46443e-65e6-4e22-933f-239abdfabf4a",
   "metadata": {},
   "source": [
    "### Fonksiyonlarin Birbiri ile Ilislisi"
   ]
  },
  {
   "cell_type": "code",
   "execution_count": 17,
   "id": "0619c5c7-888d-4a77-b2cf-4e9fe244cc0b",
   "metadata": {},
   "outputs": [],
   "source": [
    "def metin_yazdir(a,b):\n",
    "    buyuk_sayi = buyuk_sayi_dondur(a,b)\n",
    "    sablon_metin =\"{} daha büyük sayidir\".format(buyuk_sayi)\n",
    "    print(sablon_metin)"
   ]
  },
  {
   "cell_type": "code",
   "execution_count": 20,
   "id": "157b2fce-6271-4351-ad9d-05800850e1a1",
   "metadata": {},
   "outputs": [
    {
     "name": "stdout",
     "output_type": "stream",
     "text": [
      "10 daha büyük sayidir\n"
     ]
    }
   ],
   "source": [
    "metin_yazdir(5,10)"
   ]
  },
  {
   "cell_type": "markdown",
   "id": "c3600010-de72-4e85-9c1b-ea271a03c698",
   "metadata": {},
   "source": [
    "### Fonksiyonlar Birden Fazla Sonuç Döndürebilir"
   ]
  },
  {
   "cell_type": "code",
   "execution_count": 21,
   "id": "031f6da3-fc8c-462d-8f6b-3d52a34c1b6d",
   "metadata": {},
   "outputs": [
    {
     "data": {
      "text/plain": [
       "['Özgür', 'Güngör']"
      ]
     },
     "execution_count": 21,
     "metadata": {},
     "output_type": "execute_result"
    }
   ],
   "source": [
    "\"Özgür Güngör\".split()"
   ]
  },
  {
   "cell_type": "code",
   "execution_count": 22,
   "id": "b2bfeb6f-a755-469d-83fe-aaaead92506d",
   "metadata": {},
   "outputs": [],
   "source": [
    "def isim_soyisim_ayirma(isim_soyisim):\n",
    "    isim=isim_soyisim.split()[0]\n",
    "    soyisim=isim_soyisim.split()[1]\n",
    "    return isim,soyisim"
   ]
  },
  {
   "cell_type": "code",
   "execution_count": 23,
   "id": "f081166b-7ca4-41a4-baa2-84ac0097de67",
   "metadata": {},
   "outputs": [
    {
     "data": {
      "text/plain": [
       "('Özgür', 'Güngör')"
      ]
     },
     "execution_count": 23,
     "metadata": {},
     "output_type": "execute_result"
    }
   ],
   "source": [
    "isim_soyisim_ayirma(\"Özgür Güngör\")"
   ]
  },
  {
   "cell_type": "code",
   "execution_count": 24,
   "id": "7ce6f1fd-a862-4352-aa34-cae06977bdbb",
   "metadata": {},
   "outputs": [
    {
     "name": "stdout",
     "output_type": "stream",
     "text": [
      "Özgür\n",
      "Güngör\n"
     ]
    }
   ],
   "source": [
    "a,b = isim_soyisim_ayirma(\"Özgür Güngör\")\n",
    "print(a)\n",
    "print(b)"
   ]
  },
  {
   "cell_type": "markdown",
   "id": "1fcc8c76-d6e2-4a29-ac55-d072c2eb744e",
   "metadata": {},
   "source": [
    "### *args Argümanı"
   ]
  },
  {
   "cell_type": "code",
   "execution_count": 37,
   "id": "d9c0e624-c4ff-48e1-8774-925779bbdbd7",
   "metadata": {},
   "outputs": [
    {
     "data": {
      "text/plain": [
       "'Gökce Gün'"
      ]
     },
     "execution_count": 37,
     "metadata": {},
     "output_type": "execute_result"
    }
   ],
   "source": [
    "\" \".join([\"Gökce\", \"Gün\"])"
   ]
  },
  {
   "cell_type": "code",
   "execution_count": 38,
   "id": "aa77fca4-7728-47ac-a4cd-9faf9817dc72",
   "metadata": {},
   "outputs": [],
   "source": [
    "def isim_soyisim_birlestir(isim, soyisim):\n",
    "    return \" \".join([isim],[soyisim])"
   ]
  },
  {
   "cell_type": "code",
   "execution_count": 50,
   "id": "90e78788-1d57-435f-addb-dd513e0b2494",
   "metadata": {},
   "outputs": [
    {
     "data": {
      "text/plain": [
       "'Oguzcan Bozkurt'"
      ]
     },
     "execution_count": 50,
     "metadata": {},
     "output_type": "execute_result"
    }
   ],
   "source": [
    "isim_soyisim_birlestir(\"Oguzcan\", \"Bozkurt\")"
   ]
  },
  {
   "cell_type": "code",
   "execution_count": 49,
   "id": "9e272d03-b3a2-4d9c-af16-22a5604c15a4",
   "metadata": {},
   "outputs": [
    {
     "data": {
      "text/plain": [
       "'Erol Mesut Gün'"
      ]
     },
     "execution_count": 49,
     "metadata": {},
     "output_type": "execute_result"
    }
   ],
   "source": [
    "isim_soyisim_birlestir(\"Erol\", \"Mesut\", \"Gün\")"
   ]
  },
  {
   "cell_type": "code",
   "execution_count": 53,
   "id": "b6a795b5-41a1-428f-9f75-bd02f1171f4c",
   "metadata": {},
   "outputs": [],
   "source": [
    "def isim_soyisim_birlestir(*args):\n",
    "    for item in args:\n",
    "        print(item)\n",
    "    return \" \".join(args)"
   ]
  },
  {
   "cell_type": "code",
   "execution_count": 54,
   "id": "00fd04dd-4514-4c50-a362-2c7dc8370007",
   "metadata": {},
   "outputs": [
    {
     "name": "stdout",
     "output_type": "stream",
     "text": [
      "Erol\n",
      "Mesut\n",
      "Gün\n"
     ]
    },
    {
     "data": {
      "text/plain": [
       "'Erol Mesut Gün'"
      ]
     },
     "execution_count": 54,
     "metadata": {},
     "output_type": "execute_result"
    }
   ],
   "source": [
    "isim_soyisim_birlestir(\"Erol\", \"Mesut\", \"Gün\")"
   ]
  },
  {
   "cell_type": "code",
   "execution_count": 55,
   "id": "4d7d184c-e429-498b-a39f-8e282785cc90",
   "metadata": {},
   "outputs": [],
   "source": [
    "def gobek_adi_yazdir(**kwargs):\n",
    "    if 'gobekadi' in kwargs:\n",
    "        print(kwargs['gobekadi'])\n",
    "    else:\n",
    "        print(\"Gobek Adi Yok\")"
   ]
  },
  {
   "cell_type": "code",
   "execution_count": 56,
   "id": "8a2e5b58-d92e-4577-a15e-6d708abc9d39",
   "metadata": {},
   "outputs": [
    {
     "ename": "TypeError",
     "evalue": "gobek_adi_yazdir() takes 0 positional arguments but 2 were given",
     "output_type": "error",
     "traceback": [
      "\u001b[1;31m---------------------------------------------------------------------------\u001b[0m",
      "\u001b[1;31mTypeError\u001b[0m                                 Traceback (most recent call last)",
      "Cell \u001b[1;32mIn[56], line 1\u001b[0m\n\u001b[1;32m----> 1\u001b[0m gobek_adi_yazdir(\u001b[38;5;241m19\u001b[39m,\u001b[38;5;241m21\u001b[39m)\n",
      "\u001b[1;31mTypeError\u001b[0m: gobek_adi_yazdir() takes 0 positional arguments but 2 were given"
     ]
    }
   ],
   "source": [
    "gobek_adi_yazdir(19,21)"
   ]
  },
  {
   "cell_type": "code",
   "execution_count": 57,
   "id": "41a9ddbd-0d6d-4464-876e-daaded34c76c",
   "metadata": {},
   "outputs": [
    {
     "name": "stdout",
     "output_type": "stream",
     "text": [
      "Mesut\n"
     ]
    }
   ],
   "source": [
    "gobek_adi_yazdir(adi=\"Erol\", gobekadi=\"Mesut\", soyadi=\"Gün\")"
   ]
  },
  {
   "cell_type": "code",
   "execution_count": 58,
   "id": "35d9f6d3-2c95-49db-9bdc-bb549cb949eb",
   "metadata": {},
   "outputs": [
    {
     "name": "stdout",
     "output_type": "stream",
     "text": [
      "Gobek Adi Yok\n"
     ]
    }
   ],
   "source": [
    "gobek_adi_yazdir(adi=\"Gokce\", soyadi=\"Gün\")"
   ]
  },
  {
   "cell_type": "code",
   "execution_count": null,
   "id": "94c79c2d-565e-4030-bf45-9dbf5b1f07ac",
   "metadata": {},
   "outputs": [],
   "source": []
  }
 ],
 "metadata": {
  "kernelspec": {
   "display_name": "Python 3 (ipykernel)",
   "language": "python",
   "name": "python3"
  },
  "language_info": {
   "codemirror_mode": {
    "name": "ipython",
    "version": 3
   },
   "file_extension": ".py",
   "mimetype": "text/x-python",
   "name": "python",
   "nbconvert_exporter": "python",
   "pygments_lexer": "ipython3",
   "version": "3.11.7"
  }
 },
 "nbformat": 4,
 "nbformat_minor": 5
}
