{
 "cells": [
  {
   "cell_type": "markdown",
   "id": "0a1b59a6-5cd5-4e39-be88-cfc23201c5f2",
   "metadata": {},
   "source": [
    "print komutu ve kullanımı"
   ]
  },
  {
   "cell_type": "code",
   "execution_count": 1,
   "id": "093d87bc-06bd-4b89-a181-f55816be55f5",
   "metadata": {},
   "outputs": [
    {
     "name": "stdout",
     "output_type": "stream",
     "text": [
      "Hello Word\n"
     ]
    }
   ],
   "source": [
    "print(\"Hello Word\")"
   ]
  },
  {
   "cell_type": "code",
   "execution_count": 2,
   "id": "ac41a82d-ed1b-4431-bb8c-5890b52e1126",
   "metadata": {},
   "outputs": [
    {
     "name": "stdout",
     "output_type": "stream",
     "text": [
      "Selam\n"
     ]
    }
   ],
   "source": [
    "print(\"Selam\")"
   ]
  },
  {
   "cell_type": "code",
   "execution_count": 3,
   "id": "44e75658-38f6-43ae-ba8b-0116fd22ad9e",
   "metadata": {},
   "outputs": [
    {
     "name": "stdout",
     "output_type": "stream",
     "text": [
      "Merhaba Yakın Kampüs\n"
     ]
    }
   ],
   "source": [
    "print('Merhaba Yakın Kampüs')"
   ]
  },
  {
   "cell_type": "code",
   "execution_count": 4,
   "id": "0ee03c39-91b6-48da-9384-5d4ce80c93d7",
   "metadata": {},
   "outputs": [
    {
     "name": "stdout",
     "output_type": "stream",
     "text": [
      "Merhaba \n",
      " Yakın Kampüs\n"
     ]
    }
   ],
   "source": [
    "print('Merhaba \\n Yakın Kampüs')"
   ]
  },
  {
   "cell_type": "code",
   "execution_count": 5,
   "id": "a42760e4-517d-4afe-a77b-356394f90c6a",
   "metadata": {},
   "outputs": [
    {
     "name": "stdout",
     "output_type": "stream",
     "text": [
      "Merhaba \n",
      "Yakın Kampüs\n",
      "Merhaba \tYakın Kampüs\n"
     ]
    }
   ],
   "source": [
    "print('Merhaba \\nYakın Kampüs')\n",
    "print('Merhaba \\tYakın Kampüs')"
   ]
  },
  {
   "cell_type": "code",
   "execution_count": 13,
   "id": "78b5a9b0-c348-4eea-9c4b-e6ccdbd19cd8",
   "metadata": {},
   "outputs": [
    {
     "name": "stdout",
     "output_type": "stream",
     "text": [
      "Benim adim Özgür\n",
      "Benim adim Özgür, yasim 20\n",
      "Benim adim Özgür, yasim 20\n",
      "Benim adim 20, yasim Özgür\n",
      "Benim adim Özgür, yasim 20\n",
      "Benim adim Özgür, yasim 20\n"
     ]
    }
   ],
   "source": [
    "print(\"Benim adim {}\".format('Özgür'))\n",
    "print(\"Benim adim {}, yasim {}\".format('Özgür', 20))\n",
    "\n",
    "print(\"Benim adim {0}, yasim {1}\".format('Özgür', 20))\n",
    "print(\"Benim adim {1}, yasim {0}\".format('Özgür', 20))\n",
    "\n",
    "\n",
    "print(\"Benim adim {ad}, yasim {yas}\".format(ad='Özgür', yas=20))\n",
    "\n",
    "print(\"Benim adim {ad}, yasim {yas}\".format(yas=20 , ad='Özgür'))"
   ]
  },
  {
   "cell_type": "markdown",
   "id": "f4aea266-c118-4a45-928b-c76b8e8f88c6",
   "metadata": {},
   "source": [
    "#Degiskenler\n",
    "#Kabul edilmeyen deisken isim atamları\n",
    "#sayı ile başlamak\n",
    "#bosluk icermek\n",
    "#\"*(/ gibi semboller içermek\n",
    "#rezerve edilmis isimleri kullanmak"
   ]
  },
  {
   "cell_type": "code",
   "execution_count": 16,
   "id": "035576f0-0cd8-456e-88ff-4caa1f64f258",
   "metadata": {},
   "outputs": [
    {
     "name": "stdout",
     "output_type": "stream",
     "text": [
      "10\n"
     ]
    }
   ],
   "source": [
    "sayi = 10\n",
    "print(sayi)"
   ]
  },
  {
   "cell_type": "code",
   "execution_count": 17,
   "id": "f4a547e5-8271-4923-877b-97e8797cc158",
   "metadata": {},
   "outputs": [
    {
     "name": "stdout",
     "output_type": "stream",
     "text": [
      "11\n"
     ]
    }
   ],
   "source": [
    "sayi = 11\n",
    "print(sayi)"
   ]
  },
  {
   "cell_type": "code",
   "execution_count": 19,
   "id": "ee5256d2-dde8-4439-9c23-096adc7c305c",
   "metadata": {},
   "outputs": [
    {
     "name": "stdout",
     "output_type": "stream",
     "text": [
      "12\n"
     ]
    }
   ],
   "source": [
    "sayi = sayi + 1\n",
    "print(sayi)"
   ]
  },
  {
   "cell_type": "code",
   "execution_count": 20,
   "id": "3f16f578-b273-4480-82aa-0dcf8920aee6",
   "metadata": {},
   "outputs": [
    {
     "name": "stdout",
     "output_type": "stream",
     "text": [
      "10\n"
     ]
    }
   ],
   "source": [
    "sayi_ilk = 10\n",
    "print(sayi_ilk)"
   ]
  },
  {
   "cell_type": "code",
   "execution_count": 21,
   "id": "947dac4f-d5c6-4098-a17b-551a75b07bfc",
   "metadata": {},
   "outputs": [
    {
     "ename": "SyntaxError",
     "evalue": "invalid decimal literal (4261394191.py, line 1)",
     "output_type": "error",
     "traceback": [
      "\u001b[1;36m  Cell \u001b[1;32mIn[21], line 1\u001b[1;36m\u001b[0m\n\u001b[1;33m    1sayi = 10\u001b[0m\n\u001b[1;37m    ^\u001b[0m\n\u001b[1;31mSyntaxError\u001b[0m\u001b[1;31m:\u001b[0m invalid decimal literal\n"
     ]
    }
   ],
   "source": [
    "1sayi = 10"
   ]
  },
  {
   "cell_type": "code",
   "execution_count": 22,
   "id": "f7cabdf5-6780-413b-baac-b9404b1e7411",
   "metadata": {},
   "outputs": [],
   "source": [
    "sayi_ilk = 10\n",
    "_ = 20\n",
    "a = 33"
   ]
  },
  {
   "cell_type": "code",
   "execution_count": 23,
   "id": "6d566544-77eb-4dfc-9b90-2b3f9d2f5899",
   "metadata": {},
   "outputs": [
    {
     "name": "stdout",
     "output_type": "stream",
     "text": [
      "Hello Word\n"
     ]
    }
   ],
   "source": [
    "print(\"Hello Word\")"
   ]
  },
  {
   "cell_type": "markdown",
   "id": "0a6702e2-edf9-4461-a73d-4c0a32f78c71",
   "metadata": {},
   "source": [
    "# Özgür Güngör"
   ]
  },
  {
   "cell_type": "code",
   "execution_count": 28,
   "id": "c9526489-21df-47f6-90be-161c459871be",
   "metadata": {},
   "outputs": [
    {
     "data": {
      "text/plain": [
       "int"
      ]
     },
     "execution_count": 28,
     "metadata": {},
     "output_type": "execute_result"
    }
   ],
   "source": [
    "type(3)"
   ]
  },
  {
   "cell_type": "code",
   "execution_count": 29,
   "id": "e7ee2d85-8fd6-4fba-b489-adcee0053fc3",
   "metadata": {},
   "outputs": [
    {
     "data": {
      "text/plain": [
       "float"
      ]
     },
     "execution_count": 29,
     "metadata": {},
     "output_type": "execute_result"
    }
   ],
   "source": [
    "type(1.5)"
   ]
  },
  {
   "cell_type": "code",
   "execution_count": 32,
   "id": "6c07e448-fc75-4ec5-9e93-ba7a4263388a",
   "metadata": {},
   "outputs": [
    {
     "data": {
      "text/plain": [
       "13"
      ]
     },
     "execution_count": 32,
     "metadata": {},
     "output_type": "execute_result"
    }
   ],
   "source": [
    "3+2*5"
   ]
  },
  {
   "cell_type": "code",
   "execution_count": 33,
   "id": "0d8d4093-dfc6-4934-b979-8f167e370b60",
   "metadata": {},
   "outputs": [
    {
     "data": {
      "text/plain": [
       "6.0"
      ]
     },
     "execution_count": 33,
     "metadata": {},
     "output_type": "execute_result"
    }
   ],
   "source": [
    "3.5 + 2.5"
   ]
  },
  {
   "cell_type": "code",
   "execution_count": 37,
   "id": "8750671c-5116-460c-87be-058795b6c34e",
   "metadata": {},
   "outputs": [
    {
     "name": "stdout",
     "output_type": "stream",
     "text": [
      "Python\n"
     ]
    }
   ],
   "source": [
    "strvar = \"Python\"\n",
    "print(strvar)"
   ]
  },
  {
   "cell_type": "code",
   "execution_count": 38,
   "id": "d2735d9e-f8ee-425f-a8ab-b28e5a9827a7",
   "metadata": {},
   "outputs": [
    {
     "data": {
      "text/plain": [
       "'h'"
      ]
     },
     "execution_count": 38,
     "metadata": {},
     "output_type": "execute_result"
    }
   ],
   "source": [
    "strvar[-3]"
   ]
  },
  {
   "cell_type": "code",
   "execution_count": 39,
   "id": "8ee7382f-ee40-41c8-97cd-d8af06638dc8",
   "metadata": {},
   "outputs": [
    {
     "data": {
      "text/plain": [
       "'thon'"
      ]
     },
     "execution_count": 39,
     "metadata": {},
     "output_type": "execute_result"
    }
   ],
   "source": [
    "strvar[2:]"
   ]
  },
  {
   "cell_type": "code",
   "execution_count": 42,
   "id": "bd7c211d-be5a-482b-9923-a0fdfbf894fb",
   "metadata": {},
   "outputs": [
    {
     "data": {
      "text/plain": [
       "'Pyt'"
      ]
     },
     "execution_count": 42,
     "metadata": {},
     "output_type": "execute_result"
    }
   ],
   "source": [
    "strvar[:3]"
   ]
  },
  {
   "cell_type": "code",
   "execution_count": 43,
   "id": "01238084-6d23-421c-9739-6c43482cd394",
   "metadata": {},
   "outputs": [
    {
     "data": {
      "text/plain": [
       "'tho'"
      ]
     },
     "execution_count": 43,
     "metadata": {},
     "output_type": "execute_result"
    }
   ],
   "source": [
    "strvar[2:5]"
   ]
  },
  {
   "cell_type": "code",
   "execution_count": 46,
   "id": "1498fad4-73dd-4ca8-a92e-2905e165fd43",
   "metadata": {},
   "outputs": [
    {
     "data": {
      "text/plain": [
       "'Pto'"
      ]
     },
     "execution_count": 46,
     "metadata": {},
     "output_type": "execute_result"
    }
   ],
   "source": [
    "strvar[::2]"
   ]
  },
  {
   "cell_type": "raw",
   "id": "29e2e15d-8468-42e1-9347-9a987dd1ed76",
   "metadata": {},
   "source": [
    "[] # tek bir eleman alınır\n",
    "[:] ## baslangic ve bitis arasindaki elemanlar alınır\n",
    "[::] ## baslangic ve bitis arasindaki elemanlar ücüncü kısımdaki degere gore atlayarak degerler alinir"
   ]
  },
  {
   "cell_type": "code",
   "execution_count": 47,
   "id": "f11215b7-64cb-43fc-bc9a-c1297ed79875",
   "metadata": {},
   "outputs": [
    {
     "data": {
      "text/plain": [
       "6"
      ]
     },
     "execution_count": 47,
     "metadata": {},
     "output_type": "execute_result"
    }
   ],
   "source": [
    "len(strvar)"
   ]
  },
  {
   "cell_type": "code",
   "execution_count": 49,
   "id": "6a85b335-7591-4d2f-9e15-189a2e81acc7",
   "metadata": {},
   "outputs": [
    {
     "data": {
      "text/plain": [
       "'Pythonogren!'"
      ]
     },
     "execution_count": 49,
     "metadata": {},
     "output_type": "execute_result"
    }
   ],
   "source": [
    "strvar = strvar + \"ogren!\"\n",
    "strvar"
   ]
  },
  {
   "cell_type": "code",
   "execution_count": 50,
   "id": "7202865d-27a6-4c9b-9fd6-c577ae508015",
   "metadata": {},
   "outputs": [
    {
     "data": {
      "text/plain": [
       "'Pythonogren!Pythonogren!Pythonogren!Pythonogren!Pythonogren!'"
      ]
     },
     "execution_count": 50,
     "metadata": {},
     "output_type": "execute_result"
    }
   ],
   "source": [
    "strvar * 5"
   ]
  },
  {
   "cell_type": "code",
   "execution_count": 51,
   "id": "4d19f324-47ec-4ff3-afb2-61419e149dab",
   "metadata": {},
   "outputs": [
    {
     "data": {
      "text/plain": [
       "'Pythonogren!'"
      ]
     },
     "execution_count": 51,
     "metadata": {},
     "output_type": "execute_result"
    }
   ],
   "source": [
    "strvar"
   ]
  },
  {
   "cell_type": "code",
   "execution_count": 58,
   "id": "28613d8e-56cd-4dfe-b911-f2b8f876d5f7",
   "metadata": {},
   "outputs": [
    {
     "name": "stdout",
     "output_type": "stream",
     "text": [
      "PYTHONOGREN!\n",
      "pythonogren!\n",
      "['Pythonogren', '']\n"
     ]
    }
   ],
   "source": [
    "print(strvar.upper())\n",
    "print(strvar.lower())\n",
    "print(strvar.split(\"!\"))"
   ]
  },
  {
   "cell_type": "code",
   "execution_count": null,
   "id": "6a14d0e3-6987-483e-8c6a-2d821a16ee73",
   "metadata": {},
   "outputs": [],
   "source": [
    "strvar.split()"
   ]
  },
  {
   "cell_type": "markdown",
   "id": "6b119a3c-463c-4f42-81a5-9391beba4d69",
   "metadata": {},
   "source": [
    "###Boolean"
   ]
  },
  {
   "cell_type": "code",
   "execution_count": 1,
   "id": "2132cb66-1e34-477c-b04b-4f86d0001b6a",
   "metadata": {},
   "outputs": [
    {
     "name": "stdout",
     "output_type": "stream",
     "text": [
      "<class 'bool'>\n",
      "True\n",
      "False\n",
      "<class 'str'>\n"
     ]
    }
   ],
   "source": [
    "a = True \n",
    "print(type(a))\n",
    "b = False \n",
    "print(a)\n",
    "print(b)\n",
    "c = 'True'\n",
    "print(type(c))"
   ]
  },
  {
   "cell_type": "code",
   "execution_count": 2,
   "id": "cf14bce9-f69b-4017-abb5-a7e3204a6763",
   "metadata": {},
   "outputs": [
    {
     "name": "stdout",
     "output_type": "stream",
     "text": [
      "False\n"
     ]
    }
   ],
   "source": [
    "yas1 = 20\n",
    "yas2 = 18\n",
    "\n",
    "print(yas2 > 18)"
   ]
  },
  {
   "cell_type": "code",
   "execution_count": 4,
   "id": "16586055-a9c1-46de-ae4f-7de00bcc58ff",
   "metadata": {},
   "outputs": [
    {
     "data": {
      "text/plain": [
       "False"
      ]
     },
     "execution_count": 4,
     "metadata": {},
     "output_type": "execute_result"
    }
   ],
   "source": [
    "yas1 == 18"
   ]
  },
  {
   "cell_type": "code",
   "execution_count": 5,
   "id": "6e6da243-cfca-4a0e-8027-2781ec274cb0",
   "metadata": {},
   "outputs": [
    {
     "data": {
      "text/plain": [
       "False"
      ]
     },
     "execution_count": 5,
     "metadata": {},
     "output_type": "execute_result"
    }
   ],
   "source": [
    "yas2 != 18"
   ]
  },
  {
   "cell_type": "markdown",
   "id": "08ec5dcc-3512-42d1-b93f-5948b33e5224",
   "metadata": {},
   "source": [
    "list set"
   ]
  },
  {
   "cell_type": "code",
   "execution_count": 6,
   "id": "56a4468a-906f-4cc6-8e0b-150b85549e38",
   "metadata": {},
   "outputs": [
    {
     "name": "stdout",
     "output_type": "stream",
     "text": [
      "['a', 'b', 'c', 'd', 'e', 'a']\n"
     ]
    }
   ],
   "source": [
    "liste = ['a', 'b', 'c', 'd', 'e', 'a']\n",
    "print(liste)"
   ]
  },
  {
   "cell_type": "code",
   "execution_count": 8,
   "id": "246bf2da-1c81-4a7d-9ccd-538ab7c08e1a",
   "metadata": {},
   "outputs": [
    {
     "data": {
      "text/plain": [
       "['a', 'b', 'c', 'd', 'e', 'a', 'f', 'f']"
      ]
     },
     "execution_count": 8,
     "metadata": {},
     "output_type": "execute_result"
    }
   ],
   "source": [
    "liste = liste + ['f']\n",
    "liste"
   ]
  },
  {
   "cell_type": "code",
   "execution_count": 11,
   "id": "693aa2d7-fcbb-4aee-8b51-80e7fd513c41",
   "metadata": {},
   "outputs": [
    {
     "data": {
      "text/plain": [
       "['d', 'e']"
      ]
     },
     "execution_count": 11,
     "metadata": {},
     "output_type": "execute_result"
    }
   ],
   "source": [
    "liste[3:5]"
   ]
  },
  {
   "cell_type": "code",
   "execution_count": 12,
   "id": "7e88b6a2-afef-445c-aa2e-73f1e71303e2",
   "metadata": {},
   "outputs": [
    {
     "data": {
      "text/plain": [
       "['a', 'b', 'c', 'd', 'e', 'a', 'f', 'f', 'g']"
      ]
     },
     "execution_count": 12,
     "metadata": {},
     "output_type": "execute_result"
    }
   ],
   "source": [
    "liste.append('g')\n",
    "liste"
   ]
  },
  {
   "cell_type": "code",
   "execution_count": 13,
   "id": "2672f43b-2bae-4829-9a50-95eadc9c8b07",
   "metadata": {},
   "outputs": [
    {
     "data": {
      "text/plain": [
       "'g'"
      ]
     },
     "execution_count": 13,
     "metadata": {},
     "output_type": "execute_result"
    }
   ],
   "source": [
    "liste.pop()"
   ]
  },
  {
   "cell_type": "code",
   "execution_count": 14,
   "id": "3c9aae5e-a1d4-4d76-8de4-d1743b6a89d4",
   "metadata": {},
   "outputs": [
    {
     "data": {
      "text/plain": [
       "['a', 'b', 'c', 'd', 'e', 'a', 'f', 'f']"
      ]
     },
     "execution_count": 14,
     "metadata": {},
     "output_type": "execute_result"
    }
   ],
   "source": [
    "liste"
   ]
  },
  {
   "cell_type": "code",
   "execution_count": 15,
   "id": "bcf5a9ae-6c2f-4703-89d4-969b9213dbc8",
   "metadata": {},
   "outputs": [
    {
     "name": "stdout",
     "output_type": "stream",
     "text": [
      "['a', 'b', 'c', 'd', 'e', 'f', 'f']\n"
     ]
    }
   ],
   "source": [
    "liste.pop(5)\n",
    "print(liste)"
   ]
  },
  {
   "cell_type": "code",
   "execution_count": 16,
   "id": "6a1ed836-35c3-4088-b179-3cc467c6e416",
   "metadata": {},
   "outputs": [],
   "source": [
    "sayiler = [123,344,345,456,546]\n",
    "sayiler.sort()"
   ]
  },
  {
   "cell_type": "code",
   "execution_count": 17,
   "id": "c6716f22-d7d3-46ed-a96e-818ed383d0be",
   "metadata": {},
   "outputs": [
    {
     "data": {
      "text/plain": [
       "[123, 344, 345, 456, 546]"
      ]
     },
     "execution_count": 17,
     "metadata": {},
     "output_type": "execute_result"
    }
   ],
   "source": [
    "sayiler"
   ]
  },
  {
   "cell_type": "code",
   "execution_count": 18,
   "id": "a8f2587a-54fa-424d-af1c-13198045a51c",
   "metadata": {},
   "outputs": [
    {
     "name": "stdout",
     "output_type": "stream",
     "text": [
      "[546, 456, 345, 344, 123]\n"
     ]
    }
   ],
   "source": [
    "sayiler.reverse()\n",
    "print(sayiler)"
   ]
  },
  {
   "cell_type": "code",
   "execution_count": 19,
   "id": "f03d8c57-31bf-434e-9d14-42f50adff378",
   "metadata": {},
   "outputs": [
    {
     "data": {
      "text/plain": [
       "{123, 344, 345, 456, 546}"
      ]
     },
     "execution_count": 19,
     "metadata": {},
     "output_type": "execute_result"
    }
   ],
   "source": [
    "set(sayiler)"
   ]
  },
  {
   "cell_type": "markdown",
   "id": "c9c80e9e-49c0-48f3-b3cd-d2bcbea5fac0",
   "metadata": {},
   "source": [
    "tuple"
   ]
  },
  {
   "cell_type": "code",
   "execution_count": 20,
   "id": "603e5748-3b38-4bf4-98e4-939d6af2949f",
   "metadata": {},
   "outputs": [
    {
     "name": "stdout",
     "output_type": "stream",
     "text": [
      "['a', 'b', 'c', 'd', 'e', 'a']\n",
      "('a', 'b', 'c', 'd', 'e', 'a')\n"
     ]
    }
   ],
   "source": [
    "liste = ['a', 'b', 'c', 'd', 'e', 'a']\n",
    "print(liste)\n",
    "tup = ('a', 'b', 'c', 'd', 'e', 'a')\n",
    "print(tup)"
   ]
  },
  {
   "cell_type": "code",
   "execution_count": 22,
   "id": "850d8ab0-5e51-4ac1-bf1f-b34c1b8b1232",
   "metadata": {},
   "outputs": [
    {
     "data": {
      "text/plain": [
       "[4444, 'b', 'c', 'd', 'e', 'a']"
      ]
     },
     "execution_count": 22,
     "metadata": {},
     "output_type": "execute_result"
    }
   ],
   "source": [
    "liste[0] = 4444 \n",
    "liste"
   ]
  },
  {
   "cell_type": "code",
   "execution_count": 24,
   "id": "6ada19e0-30ed-4a41-98d7-90d773548f8b",
   "metadata": {},
   "outputs": [
    {
     "data": {
      "text/plain": [
       "2"
      ]
     },
     "execution_count": 24,
     "metadata": {},
     "output_type": "execute_result"
    }
   ],
   "source": [
    "tup.count('a')"
   ]
  },
  {
   "cell_type": "code",
   "execution_count": 25,
   "id": "cb36653c-5e7a-4ae4-8067-ff1b0b24e279",
   "metadata": {},
   "outputs": [
    {
     "data": {
      "text/plain": [
       "1"
      ]
     },
     "execution_count": 25,
     "metadata": {},
     "output_type": "execute_result"
    }
   ],
   "source": [
    "tup.count('b')"
   ]
  },
  {
   "cell_type": "code",
   "execution_count": 26,
   "id": "72c12e78-b0c6-4291-8744-9c2fdb286eca",
   "metadata": {},
   "outputs": [
    {
     "data": {
      "text/plain": [
       "0"
      ]
     },
     "execution_count": 26,
     "metadata": {},
     "output_type": "execute_result"
    }
   ],
   "source": [
    "tup.index('a',)"
   ]
  },
  {
   "cell_type": "markdown",
   "id": "50afe71b-3745-4520-8b22-8a24aff6e759",
   "metadata": {},
   "source": [
    "#dictionary"
   ]
  },
  {
   "cell_type": "code",
   "execution_count": 28,
   "id": "2db6201c-2a9a-490e-a04b-4e028bf78a34",
   "metadata": {},
   "outputs": [
    {
     "data": {
      "text/plain": [
       "{'isim': 'Özgür', 'yas': 20, 'lokasyon': 'Türkiye'}"
      ]
     },
     "execution_count": 28,
     "metadata": {},
     "output_type": "execute_result"
    }
   ],
   "source": [
    "dict1 = {'isim': 'Özgür', 'yas':20, 'lokasyon': 'Türkiye'}\n",
    "dict1"
   ]
  },
  {
   "cell_type": "code",
   "execution_count": 32,
   "id": "e94a5e11-ed3a-4eed-a881-e2565495f093",
   "metadata": {},
   "outputs": [
    {
     "data": {
      "text/plain": [
       "{'isim': 'Özgür',\n",
       " 'yas': 20,\n",
       " 'dogdugu_sehir': 'Sivas',\n",
       " 'yasadigi_sehir': 'Erzurum'}"
      ]
     },
     "execution_count": 32,
     "metadata": {},
     "output_type": "execute_result"
    }
   ],
   "source": [
    "dict2 = {\n",
    "    'isim': 'Özgür',\n",
    "    'yas':20,\n",
    "    'dogdugu_sehir': 'Sivas',\n",
    "    'yasadigi_sehir': 'Erzurum'\n",
    "    ##'lokasyon': 'Türkiye'\n",
    "}\n",
    "dict2"
   ]
  },
  {
   "cell_type": "code",
   "execution_count": 33,
   "id": "574f65cc-9735-4776-a855-72c911052933",
   "metadata": {},
   "outputs": [
    {
     "data": {
      "text/plain": [
       "{'isim': 'Özgür',\n",
       " 'yas': 20,\n",
       " 'lokasyon': {'dogdugu_sehir': 'Sivas', 'yasadigi_sehir': 'Erzurum'}}"
      ]
     },
     "execution_count": 33,
     "metadata": {},
     "output_type": "execute_result"
    }
   ],
   "source": [
    "dict3 = {\n",
    "    'isim': 'Özgür',\n",
    "    'yas':20,\n",
    "    'lokasyon': {\n",
    "        'dogdugu_sehir': 'Sivas',\n",
    "        'yasadigi_sehir': 'Erzurum'\n",
    "    }\n",
    "}\n",
    "dict3"
   ]
  },
  {
   "cell_type": "code",
   "execution_count": 34,
   "id": "3f130f7a-0c07-42e9-98e3-a188f9a4f29a",
   "metadata": {},
   "outputs": [
    {
     "data": {
      "text/plain": [
       "'Erzurum'"
      ]
     },
     "execution_count": 34,
     "metadata": {},
     "output_type": "execute_result"
    }
   ],
   "source": [
    "dict3['lokasyon']['yasadigi_sehir']"
   ]
  },
  {
   "cell_type": "code",
   "execution_count": 35,
   "id": "56d0bbf9-f4b6-4914-ac6c-f1df24025795",
   "metadata": {},
   "outputs": [
    {
     "data": {
      "text/plain": [
       "'Erzurum'"
      ]
     },
     "execution_count": 35,
     "metadata": {},
     "output_type": "execute_result"
    }
   ],
   "source": [
    "dict3.get('lokasyon').get('yasadigi_sehir')"
   ]
  },
  {
   "cell_type": "code",
   "execution_count": 36,
   "id": "00c770ba-2157-42a5-a689-1f314287c95b",
   "metadata": {},
   "outputs": [
    {
     "data": {
      "text/plain": [
       "dict_keys(['isim', 'yas', 'dogdugu_sehir', 'yasadigi_sehir'])"
      ]
     },
     "execution_count": 36,
     "metadata": {},
     "output_type": "execute_result"
    }
   ],
   "source": [
    "dict2.keys()"
   ]
  },
  {
   "cell_type": "code",
   "execution_count": 37,
   "id": "7926f641-be6b-460e-94ea-93d26b2068c9",
   "metadata": {},
   "outputs": [
    {
     "data": {
      "text/plain": [
       "dict_values(['Özgür', 20, 'Sivas', 'Erzurum'])"
      ]
     },
     "execution_count": 37,
     "metadata": {},
     "output_type": "execute_result"
    }
   ],
   "source": [
    "dict2.values()"
   ]
  },
  {
   "cell_type": "code",
   "execution_count": 38,
   "id": "9db7e981-09b4-4a86-867c-01b0a44dd3c6",
   "metadata": {},
   "outputs": [
    {
     "data": {
      "text/plain": [
       "dict_items([('isim', 'Özgür'), ('yas', 20), ('dogdugu_sehir', 'Sivas'), ('yasadigi_sehir', 'Erzurum')])"
      ]
     },
     "execution_count": 38,
     "metadata": {},
     "output_type": "execute_result"
    }
   ],
   "source": [
    "dict2.items()"
   ]
  },
  {
   "cell_type": "markdown",
   "id": "88cf57e2-f382-4b04-ace7-004c2760c791",
   "metadata": {},
   "source": [
    " if Sorguları"
   ]
  },
  {
   "cell_type": "code",
   "execution_count": 42,
   "id": "ed119920-843b-406a-a15d-d99e645a493b",
   "metadata": {},
   "outputs": [
    {
     "name": "stdout",
     "output_type": "stream",
     "text": [
      "Sorun yok\n"
     ]
    }
   ],
   "source": [
    "hava_durumu = \"karli\"\n",
    "\n",
    "if hava_durumu == 'yagisli':\n",
    "    print(\"Semsiyeni al!\")\n",
    "else:\n",
    "    print(\"Sorun yok\")"
   ]
  },
  {
   "cell_type": "code",
   "execution_count": 43,
   "id": "a5247dd9-a7b9-4303-8f2e-ce3756803a41",
   "metadata": {},
   "outputs": [
    {
     "name": "stdout",
     "output_type": "stream",
     "text": [
      "Atkini al!\n"
     ]
    }
   ],
   "source": [
    "hava_durumu = \"karli\"\n",
    "\n",
    "if hava_durumu == 'yagisli':\n",
    "    print(\"Semsiyeni al!\")\n",
    "elif hava_durumu == 'karli':\n",
    "    print(\"Atkini al!\")\n",
    "else:\n",
    "    print(\"Sorun yok\")"
   ]
  },
  {
   "cell_type": "code",
   "execution_count": 46,
   "id": "cb792cd2-0c9e-4fd4-818e-77e5480aacd8",
   "metadata": {},
   "outputs": [
    {
     "name": "stdout",
     "output_type": "stream",
     "text": [
      "Selam\n"
     ]
    }
   ],
   "source": [
    "yas = 20\n",
    "if yas > 18:\n",
    "    print(\"Selam\")\n",
    "else:\n",
    "    print(\"Burdan git\")"
   ]
  },
  {
   "cell_type": "code",
   "execution_count": 47,
   "id": "7966ddb6-535d-491f-8351-106892204960",
   "metadata": {},
   "outputs": [
    {
     "name": "stdout",
     "output_type": "stream",
     "text": [
      "liste ekledim\n",
      "Güncel liste ['a', 'b', 'c', 'd']\n"
     ]
    }
   ],
   "source": [
    "liste = ['a', 'b', 'c']\n",
    "\n",
    "hedef_harf = 'd'\n",
    "if hedef_harf in liste:\n",
    "    print('buldum')\n",
    "else:\n",
    "    liste.append(hedef_harf)\n",
    "\n",
    "    print('liste ekledim')\n",
    "    print('Güncel liste {}'.format(liste))"
   ]
  },
  {
   "cell_type": "code",
   "execution_count": 49,
   "id": "7bc9b123-53de-4054-b0ee-3234232d9831",
   "metadata": {},
   "outputs": [
    {
     "name": "stdout",
     "output_type": "stream",
     "text": [
      "buldum ama ilk konumda degil\n"
     ]
    }
   ],
   "source": [
    "if (hedef_harf in liste) and (hedef_harf == liste[0]):\n",
    "    print('buldum ve ilk harf konumunda')\n",
    "elif hedef_harf in liste:\n",
    "    print('buldum ama ilk konumda degil')\n",
    "else:\n",
    "    liste.append(hedef_harf)\n",
    "\n",
    "    print('liste ekledim')\n",
    "    print('Güncel liste {}'.format(liste))"
   ]
  },
  {
   "cell_type": "markdown",
   "id": "a07b14fe-d811-45b6-a8c4-b268af0cbdb1",
   "metadata": {},
   "source": [
    "for döngüleri"
   ]
  },
  {
   "cell_type": "code",
   "execution_count": 51,
   "id": "4c794fd1-e3f9-4f00-8f03-4c96f76cb3a0",
   "metadata": {},
   "outputs": [],
   "source": [
    "yorum_birakanlar = [\"İsmail Aydemir\", \"Uygar Aydın\", \"Naz Yagcioglu\", \"Ferhat Ibrik\", \"Ulas Acil\", \"Bilal Kurucay\"]"
   ]
  },
  {
   "cell_type": "code",
   "execution_count": 52,
   "id": "580c1548-3c23-4a88-a146-71302170665f",
   "metadata": {},
   "outputs": [
    {
     "name": "stdout",
     "output_type": "stream",
     "text": [
      "İsmail Aydemir\n",
      "Uygar Aydın\n",
      "Naz Yagcioglu\n",
      "Ferhat Ibrik\n",
      "Ulas Acil\n",
      "Bilal Kurucay\n"
     ]
    }
   ],
   "source": [
    "for kullanici in yorum_birakanlar:\n",
    "    print(kullanici)"
   ]
  },
  {
   "cell_type": "code",
   "execution_count": 71,
   "id": "48049510-b998-4e39-a15d-5b978a853655",
   "metadata": {},
   "outputs": [
    {
     "name": "stdout",
     "output_type": "stream",
     "text": [
      "1. Kullanicinin Adi İsmail ve Soyadi Aydemir\n",
      "2. Kullanicinin Adi Uygar ve Soyadi Aydın\n",
      "3. Kullanicinin Adi Naz ve Soyadi Yagcioglu\n",
      "4. Kullanicinin Adi Ferhat ve Soyadi Ibrik\n",
      "5. Kullanicinin Adi Ulas ve Soyadi Acil\n",
      "6. Kullanicinin Adi Bilal ve Soyadi Kurucay\n"
     ]
    }
   ],
   "source": [
    "kullanici_sayisi = 0\n",
    "\n",
    "for kullanici in yorum_birakanlar:\n",
    "  kullanici_sayisi += 1\n",
    "  ad, soyad = kullanici.split()[0], kullanici.split()[1]\n",
    "  print('{0}. Kullanicinin Adi {1} ve Soyadi {2}'.format(kullanici_sayisi, ad, soyad))\n"
   ]
  },
  {
   "cell_type": "code",
   "execution_count": 53,
   "id": "35e338d4-fb04-4712-b94a-daac9f4912b0",
   "metadata": {},
   "outputs": [
    {
     "name": "stdout",
     "output_type": "stream",
     "text": [
      "1 İsmail Aydemir\n",
      "2 Uygar Aydın\n",
      "3 Naz Yagcioglu\n",
      "4 Ferhat Ibrik\n",
      "5 Ulas Acil\n",
      "6 Bilal Kurucay\n"
     ]
    }
   ],
   "source": [
    "kullanici_sayisi = 0\n",
    "\n",
    "for kullanici in yorum_birakanlar:\n",
    "    kullanici_sayisi = kullanici_sayisi + 1\n",
    "    print(kullanici_sayisi, kullanici)"
   ]
  },
  {
   "cell_type": "code",
   "execution_count": 62,
   "id": "45392964-5acb-424e-a036-448ce1b4f42d",
   "metadata": {},
   "outputs": [],
   "source": [
    "yorum_birakanlar = [\"İsmail Aydemir\", \"Uygar Aydın\", \"Naz Yagcioglu\", \"Ferhat Ibrik\", \"Ulas Acil\", \"Bilal Kurucay\"]"
   ]
  },
  {
   "cell_type": "code",
   "execution_count": 67,
   "id": "22ae8442-4545-4919-a629-339296db82c4",
   "metadata": {},
   "outputs": [
    {
     "name": "stdout",
     "output_type": "stream",
     "text": [
      "İsmail\n",
      "Aydemir\n"
     ]
    }
   ],
   "source": [
    "ad, soyad = yorum_birakanlar[0].split()[0], yorum_birakanlar[0].split()[1]\n",
    "print(ad)\n",
    "print(soyad)"
   ]
  },
  {
   "cell_type": "code",
   "execution_count": 72,
   "id": "0709dcaa-f633-4b6e-9afc-2879b80643df",
   "metadata": {},
   "outputs": [
    {
     "name": "stdout",
     "output_type": "stream",
     "text": [
      "1. Kullanicinin Adi İsmail ve Soyadi Aydemir\n",
      "2. Kullanicinin Adi Uygar ve Soyadi Aydın\n",
      "3. Kullanicinin Adi Naz ve Soyadi Yagcioglu\n",
      "4. Kullanicinin Adi Ulas ve Soyadi Acil\n",
      "5. Kullanicinin Adi Bilal ve Soyadi Kurucay\n"
     ]
    }
   ],
   "source": [
    "moderator = \"Ferhat Ibrik\"\n",
    "\n",
    "kullanici_sayisi = 0\n",
    "moderator_sayisi = 0\n",
    "\n",
    "for kullanici in yorum_birakanlar:\n",
    "    ad, soyad = kullanici.split()[0], kullanici.split()[1]\n",
    "\n",
    "    if(kullanici == moderator):\n",
    "        moderator_sayisi += 1 #moderator_sayisi, ad, soyad))\n",
    "    else:\n",
    "        kullanici_sayisi += 1\n",
    "        print('{0}. Kullanicinin Adi {1} ve Soyadi {2}'.format (kullanici_sayisi, ad, soyad))"
   ]
  },
  {
   "cell_type": "code",
   "execution_count": null,
   "id": "48d9c205-8979-46eb-841a-0feb6e32949c",
   "metadata": {},
   "outputs": [],
   "source": []
  }
 ],
 "metadata": {
  "kernelspec": {
   "display_name": "Python 3 (ipykernel)",
   "language": "python",
   "name": "python3"
  },
  "language_info": {
   "codemirror_mode": {
    "name": "ipython",
    "version": 3
   },
   "file_extension": ".py",
   "mimetype": "text/x-python",
   "name": "python",
   "nbconvert_exporter": "python",
   "pygments_lexer": "ipython3",
   "version": "3.11.7"
  }
 },
 "nbformat": 4,
 "nbformat_minor": 5
}
