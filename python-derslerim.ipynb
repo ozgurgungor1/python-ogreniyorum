{
 "cells": [
  {
   "cell_type": "markdown",
   "id": "0a1b59a6-5cd5-4e39-be88-cfc23201c5f2",
   "metadata": {},
   "source": [
    "print komutu ve kullanımı"
   ]
  },
  {
   "cell_type": "code",
   "execution_count": 1,
   "id": "093d87bc-06bd-4b89-a181-f55816be55f5",
   "metadata": {},
   "outputs": [
    {
     "name": "stdout",
     "output_type": "stream",
     "text": [
      "Hello Word\n"
     ]
    }
   ],
   "source": [
    "print(\"Hello Word\")"
   ]
  },
  {
   "cell_type": "code",
   "execution_count": 2,
   "id": "ac41a82d-ed1b-4431-bb8c-5890b52e1126",
   "metadata": {},
   "outputs": [
    {
     "name": "stdout",
     "output_type": "stream",
     "text": [
      "Selam\n"
     ]
    }
   ],
   "source": [
    "print(\"Selam\")"
   ]
  },
  {
   "cell_type": "code",
   "execution_count": 3,
   "id": "44e75658-38f6-43ae-ba8b-0116fd22ad9e",
   "metadata": {},
   "outputs": [
    {
     "name": "stdout",
     "output_type": "stream",
     "text": [
      "Merhaba Yakın Kampüs\n"
     ]
    }
   ],
   "source": [
    "print('Merhaba Yakın Kampüs')"
   ]
  },
  {
   "cell_type": "code",
   "execution_count": 4,
   "id": "0ee03c39-91b6-48da-9384-5d4ce80c93d7",
   "metadata": {},
   "outputs": [
    {
     "name": "stdout",
     "output_type": "stream",
     "text": [
      "Merhaba \n",
      " Yakın Kampüs\n"
     ]
    }
   ],
   "source": [
    "print('Merhaba \\n Yakın Kampüs')"
   ]
  },
  {
   "cell_type": "code",
   "execution_count": 5,
   "id": "a42760e4-517d-4afe-a77b-356394f90c6a",
   "metadata": {},
   "outputs": [
    {
     "name": "stdout",
     "output_type": "stream",
     "text": [
      "Merhaba \n",
      "Yakın Kampüs\n",
      "Merhaba \tYakın Kampüs\n"
     ]
    }
   ],
   "source": [
    "print('Merhaba \\nYakın Kampüs')\n",
    "print('Merhaba \\tYakın Kampüs')"
   ]
  },
  {
   "cell_type": "code",
   "execution_count": 13,
   "id": "78b5a9b0-c348-4eea-9c4b-e6ccdbd19cd8",
   "metadata": {},
   "outputs": [
    {
     "name": "stdout",
     "output_type": "stream",
     "text": [
      "Benim adim Özgür\n",
      "Benim adim Özgür, yasim 20\n",
      "Benim adim Özgür, yasim 20\n",
      "Benim adim 20, yasim Özgür\n",
      "Benim adim Özgür, yasim 20\n",
      "Benim adim Özgür, yasim 20\n"
     ]
    }
   ],
   "source": [
    "print(\"Benim adim {}\".format('Özgür'))\n",
    "print(\"Benim adim {}, yasim {}\".format('Özgür', 20))\n",
    "\n",
    "print(\"Benim adim {0}, yasim {1}\".format('Özgür', 20))\n",
    "print(\"Benim adim {1}, yasim {0}\".format('Özgür', 20))\n",
    "\n",
    "\n",
    "print(\"Benim adim {ad}, yasim {yas}\".format(ad='Özgür', yas=20))\n",
    "\n",
    "print(\"Benim adim {ad}, yasim {yas}\".format(yas=20 , ad='Özgür'))"
   ]
  },
  {
   "cell_type": "markdown",
   "id": "f4aea266-c118-4a45-928b-c76b8e8f88c6",
   "metadata": {},
   "source": [
    "#Degiskenler\n",
    "#Kabul edilmeyen deisken isim atamları\n",
    "#sayı ile başlamak\n",
    "#bosluk icermek\n",
    "#\"*(/ gibi semboller içermek\n",
    "#rezerve edilmis isimleri kullanmak"
   ]
  },
  {
   "cell_type": "code",
   "execution_count": 16,
   "id": "035576f0-0cd8-456e-88ff-4caa1f64f258",
   "metadata": {},
   "outputs": [
    {
     "name": "stdout",
     "output_type": "stream",
     "text": [
      "10\n"
     ]
    }
   ],
   "source": [
    "sayi = 10\n",
    "print(sayi)"
   ]
  },
  {
   "cell_type": "code",
   "execution_count": 17,
   "id": "f4a547e5-8271-4923-877b-97e8797cc158",
   "metadata": {},
   "outputs": [
    {
     "name": "stdout",
     "output_type": "stream",
     "text": [
      "11\n"
     ]
    }
   ],
   "source": [
    "sayi = 11\n",
    "print(sayi)"
   ]
  },
  {
   "cell_type": "code",
   "execution_count": 19,
   "id": "ee5256d2-dde8-4439-9c23-096adc7c305c",
   "metadata": {},
   "outputs": [
    {
     "name": "stdout",
     "output_type": "stream",
     "text": [
      "12\n"
     ]
    }
   ],
   "source": [
    "sayi = sayi + 1\n",
    "print(sayi)"
   ]
  },
  {
   "cell_type": "code",
   "execution_count": 20,
   "id": "3f16f578-b273-4480-82aa-0dcf8920aee6",
   "metadata": {},
   "outputs": [
    {
     "name": "stdout",
     "output_type": "stream",
     "text": [
      "10\n"
     ]
    }
   ],
   "source": [
    "sayi_ilk = 10\n",
    "print(sayi_ilk)"
   ]
  },
  {
   "cell_type": "code",
   "execution_count": 21,
   "id": "947dac4f-d5c6-4098-a17b-551a75b07bfc",
   "metadata": {},
   "outputs": [
    {
     "ename": "SyntaxError",
     "evalue": "invalid decimal literal (4261394191.py, line 1)",
     "output_type": "error",
     "traceback": [
      "\u001b[1;36m  Cell \u001b[1;32mIn[21], line 1\u001b[1;36m\u001b[0m\n\u001b[1;33m    1sayi = 10\u001b[0m\n\u001b[1;37m    ^\u001b[0m\n\u001b[1;31mSyntaxError\u001b[0m\u001b[1;31m:\u001b[0m invalid decimal literal\n"
     ]
    }
   ],
   "source": [
    "1sayi = 10"
   ]
  },
  {
   "cell_type": "code",
   "execution_count": 22,
   "id": "f7cabdf5-6780-413b-baac-b9404b1e7411",
   "metadata": {},
   "outputs": [],
   "source": [
    "sayi_ilk = 10\n",
    "_ = 20\n",
    "a = 33"
   ]
  },
  {
   "cell_type": "code",
   "execution_count": 23,
   "id": "6d566544-77eb-4dfc-9b90-2b3f9d2f5899",
   "metadata": {},
   "outputs": [
    {
     "name": "stdout",
     "output_type": "stream",
     "text": [
      "Hello Word\n"
     ]
    }
   ],
   "source": [
    "print(\"Hello Word\")"
   ]
  },
  {
   "cell_type": "markdown",
   "id": "0a6702e2-edf9-4461-a73d-4c0a32f78c71",
   "metadata": {},
   "source": [
    "# Özgür Güngör"
   ]
  },
  {
   "cell_type": "code",
   "execution_count": 28,
   "id": "c9526489-21df-47f6-90be-161c459871be",
   "metadata": {},
   "outputs": [
    {
     "data": {
      "text/plain": [
       "int"
      ]
     },
     "execution_count": 28,
     "metadata": {},
     "output_type": "execute_result"
    }
   ],
   "source": [
    "type(3)"
   ]
  },
  {
   "cell_type": "code",
   "execution_count": 29,
   "id": "e7ee2d85-8fd6-4fba-b489-adcee0053fc3",
   "metadata": {},
   "outputs": [
    {
     "data": {
      "text/plain": [
       "float"
      ]
     },
     "execution_count": 29,
     "metadata": {},
     "output_type": "execute_result"
    }
   ],
   "source": [
    "type(1.5)"
   ]
  },
  {
   "cell_type": "code",
   "execution_count": 32,
   "id": "6c07e448-fc75-4ec5-9e93-ba7a4263388a",
   "metadata": {},
   "outputs": [
    {
     "data": {
      "text/plain": [
       "13"
      ]
     },
     "execution_count": 32,
     "metadata": {},
     "output_type": "execute_result"
    }
   ],
   "source": [
    "3+2*5"
   ]
  },
  {
   "cell_type": "code",
   "execution_count": 33,
   "id": "0d8d4093-dfc6-4934-b979-8f167e370b60",
   "metadata": {},
   "outputs": [
    {
     "data": {
      "text/plain": [
       "6.0"
      ]
     },
     "execution_count": 33,
     "metadata": {},
     "output_type": "execute_result"
    }
   ],
   "source": [
    "3.5 + 2.5"
   ]
  },
  {
   "cell_type": "code",
   "execution_count": 37,
   "id": "8750671c-5116-460c-87be-058795b6c34e",
   "metadata": {},
   "outputs": [
    {
     "name": "stdout",
     "output_type": "stream",
     "text": [
      "Python\n"
     ]
    }
   ],
   "source": [
    "strvar = \"Python\"\n",
    "print(strvar)"
   ]
  },
  {
   "cell_type": "code",
   "execution_count": 38,
   "id": "d2735d9e-f8ee-425f-a8ab-b28e5a9827a7",
   "metadata": {},
   "outputs": [
    {
     "data": {
      "text/plain": [
       "'h'"
      ]
     },
     "execution_count": 38,
     "metadata": {},
     "output_type": "execute_result"
    }
   ],
   "source": [
    "strvar[-3]"
   ]
  },
  {
   "cell_type": "code",
   "execution_count": 39,
   "id": "8ee7382f-ee40-41c8-97cd-d8af06638dc8",
   "metadata": {},
   "outputs": [
    {
     "data": {
      "text/plain": [
       "'thon'"
      ]
     },
     "execution_count": 39,
     "metadata": {},
     "output_type": "execute_result"
    }
   ],
   "source": [
    "strvar[2:]"
   ]
  },
  {
   "cell_type": "code",
   "execution_count": 42,
   "id": "bd7c211d-be5a-482b-9923-a0fdfbf894fb",
   "metadata": {},
   "outputs": [
    {
     "data": {
      "text/plain": [
       "'Pyt'"
      ]
     },
     "execution_count": 42,
     "metadata": {},
     "output_type": "execute_result"
    }
   ],
   "source": [
    "strvar[:3]"
   ]
  },
  {
   "cell_type": "code",
   "execution_count": 43,
   "id": "01238084-6d23-421c-9739-6c43482cd394",
   "metadata": {},
   "outputs": [
    {
     "data": {
      "text/plain": [
       "'tho'"
      ]
     },
     "execution_count": 43,
     "metadata": {},
     "output_type": "execute_result"
    }
   ],
   "source": [
    "strvar[2:5]"
   ]
  },
  {
   "cell_type": "code",
   "execution_count": 46,
   "id": "1498fad4-73dd-4ca8-a92e-2905e165fd43",
   "metadata": {},
   "outputs": [
    {
     "data": {
      "text/plain": [
       "'Pto'"
      ]
     },
     "execution_count": 46,
     "metadata": {},
     "output_type": "execute_result"
    }
   ],
   "source": [
    "strvar[::2]"
   ]
  },
  {
   "cell_type": "raw",
   "id": "29e2e15d-8468-42e1-9347-9a987dd1ed76",
   "metadata": {},
   "source": [
    "[] # tek bir eleman alınır\n",
    "[:] ## baslangic ve bitis arasindaki elemanlar alınır\n",
    "[::] ## baslangic ve bitis arasindaki elemanlar ücüncü kısımdaki degere gore atlayarak degerler alinir"
   ]
  },
  {
   "cell_type": "code",
   "execution_count": 47,
   "id": "f11215b7-64cb-43fc-bc9a-c1297ed79875",
   "metadata": {},
   "outputs": [
    {
     "data": {
      "text/plain": [
       "6"
      ]
     },
     "execution_count": 47,
     "metadata": {},
     "output_type": "execute_result"
    }
   ],
   "source": [
    "len(strvar)"
   ]
  },
  {
   "cell_type": "code",
   "execution_count": 49,
   "id": "6a85b335-7591-4d2f-9e15-189a2e81acc7",
   "metadata": {},
   "outputs": [
    {
     "data": {
      "text/plain": [
       "'Pythonogren!'"
      ]
     },
     "execution_count": 49,
     "metadata": {},
     "output_type": "execute_result"
    }
   ],
   "source": [
    "strvar = strvar + \"ogren!\"\n",
    "strvar"
   ]
  },
  {
   "cell_type": "code",
   "execution_count": 50,
   "id": "7202865d-27a6-4c9b-9fd6-c577ae508015",
   "metadata": {},
   "outputs": [
    {
     "data": {
      "text/plain": [
       "'Pythonogren!Pythonogren!Pythonogren!Pythonogren!Pythonogren!'"
      ]
     },
     "execution_count": 50,
     "metadata": {},
     "output_type": "execute_result"
    }
   ],
   "source": [
    "strvar * 5"
   ]
  },
  {
   "cell_type": "code",
   "execution_count": 51,
   "id": "4d19f324-47ec-4ff3-afb2-61419e149dab",
   "metadata": {},
   "outputs": [
    {
     "data": {
      "text/plain": [
       "'Pythonogren!'"
      ]
     },
     "execution_count": 51,
     "metadata": {},
     "output_type": "execute_result"
    }
   ],
   "source": [
    "strvar"
   ]
  },
  {
   "cell_type": "code",
   "execution_count": 58,
   "id": "28613d8e-56cd-4dfe-b911-f2b8f876d5f7",
   "metadata": {},
   "outputs": [
    {
     "name": "stdout",
     "output_type": "stream",
     "text": [
      "PYTHONOGREN!\n",
      "pythonogren!\n",
      "['Pythonogren', '']\n"
     ]
    }
   ],
   "source": [
    "print(strvar.upper())\n",
    "print(strvar.lower())\n",
    "print(strvar.split(\"!\"))"
   ]
  },
  {
   "cell_type": "code",
   "execution_count": null,
   "id": "6a14d0e3-6987-483e-8c6a-2d821a16ee73",
   "metadata": {},
   "outputs": [],
   "source": [
    "strvar.split()"
   ]
  },
  {
   "cell_type": "markdown",
   "id": "6b119a3c-463c-4f42-81a5-9391beba4d69",
   "metadata": {},
   "source": [
    "###Boolean"
   ]
  },
  {
   "cell_type": "code",
   "execution_count": 1,
   "id": "2132cb66-1e34-477c-b04b-4f86d0001b6a",
   "metadata": {},
   "outputs": [
    {
     "name": "stdout",
     "output_type": "stream",
     "text": [
      "<class 'bool'>\n",
      "True\n",
      "False\n",
      "<class 'str'>\n"
     ]
    }
   ],
   "source": [
    "a = True \n",
    "print(type(a))\n",
    "b = False \n",
    "print(a)\n",
    "print(b)\n",
    "c = 'True'\n",
    "print(type(c))"
   ]
  },
  {
   "cell_type": "code",
   "execution_count": 2,
   "id": "cf14bce9-f69b-4017-abb5-a7e3204a6763",
   "metadata": {},
   "outputs": [
    {
     "name": "stdout",
     "output_type": "stream",
     "text": [
      "False\n"
     ]
    }
   ],
   "source": [
    "yas1 = 20\n",
    "yas2 = 18\n",
    "\n",
    "print(yas2 > 18)"
   ]
  },
  {
   "cell_type": "code",
   "execution_count": 4,
   "id": "16586055-a9c1-46de-ae4f-7de00bcc58ff",
   "metadata": {},
   "outputs": [
    {
     "data": {
      "text/plain": [
       "False"
      ]
     },
     "execution_count": 4,
     "metadata": {},
     "output_type": "execute_result"
    }
   ],
   "source": [
    "yas1 == 18"
   ]
  },
  {
   "cell_type": "code",
   "execution_count": 5,
   "id": "6e6da243-cfca-4a0e-8027-2781ec274cb0",
   "metadata": {},
   "outputs": [
    {
     "data": {
      "text/plain": [
       "False"
      ]
     },
     "execution_count": 5,
     "metadata": {},
     "output_type": "execute_result"
    }
   ],
   "source": [
    "yas2 != 18"
   ]
  },
  {
   "cell_type": "markdown",
   "id": "08ec5dcc-3512-42d1-b93f-5948b33e5224",
   "metadata": {},
   "source": [
    "list set"
   ]
  },
  {
   "cell_type": "code",
   "execution_count": 6,
   "id": "56a4468a-906f-4cc6-8e0b-150b85549e38",
   "metadata": {},
   "outputs": [
    {
     "name": "stdout",
     "output_type": "stream",
     "text": [
      "['a', 'b', 'c', 'd', 'e', 'a']\n"
     ]
    }
   ],
   "source": [
    "liste = ['a', 'b', 'c', 'd', 'e', 'a']\n",
    "print(liste)"
   ]
  },
  {
   "cell_type": "code",
   "execution_count": 8,
   "id": "246bf2da-1c81-4a7d-9ccd-538ab7c08e1a",
   "metadata": {},
   "outputs": [
    {
     "data": {
      "text/plain": [
       "['a', 'b', 'c', 'd', 'e', 'a', 'f', 'f']"
      ]
     },
     "execution_count": 8,
     "metadata": {},
     "output_type": "execute_result"
    }
   ],
   "source": [
    "liste = liste + ['f']\n",
    "liste"
   ]
  },
  {
   "cell_type": "code",
   "execution_count": 11,
   "id": "693aa2d7-fcbb-4aee-8b51-80e7fd513c41",
   "metadata": {},
   "outputs": [
    {
     "data": {
      "text/plain": [
       "['d', 'e']"
      ]
     },
     "execution_count": 11,
     "metadata": {},
     "output_type": "execute_result"
    }
   ],
   "source": [
    "liste[3:5]"
   ]
  },
  {
   "cell_type": "code",
   "execution_count": 12,
   "id": "7e88b6a2-afef-445c-aa2e-73f1e71303e2",
   "metadata": {},
   "outputs": [
    {
     "data": {
      "text/plain": [
       "['a', 'b', 'c', 'd', 'e', 'a', 'f', 'f', 'g']"
      ]
     },
     "execution_count": 12,
     "metadata": {},
     "output_type": "execute_result"
    }
   ],
   "source": [
    "liste.append('g')\n",
    "liste"
   ]
  },
  {
   "cell_type": "code",
   "execution_count": 13,
   "id": "2672f43b-2bae-4829-9a50-95eadc9c8b07",
   "metadata": {},
   "outputs": [
    {
     "data": {
      "text/plain": [
       "'g'"
      ]
     },
     "execution_count": 13,
     "metadata": {},
     "output_type": "execute_result"
    }
   ],
   "source": [
    "liste.pop()"
   ]
  },
  {
   "cell_type": "code",
   "execution_count": 14,
   "id": "3c9aae5e-a1d4-4d76-8de4-d1743b6a89d4",
   "metadata": {},
   "outputs": [
    {
     "data": {
      "text/plain": [
       "['a', 'b', 'c', 'd', 'e', 'a', 'f', 'f']"
      ]
     },
     "execution_count": 14,
     "metadata": {},
     "output_type": "execute_result"
    }
   ],
   "source": [
    "liste"
   ]
  },
  {
   "cell_type": "code",
   "execution_count": 15,
   "id": "bcf5a9ae-6c2f-4703-89d4-969b9213dbc8",
   "metadata": {},
   "outputs": [
    {
     "name": "stdout",
     "output_type": "stream",
     "text": [
      "['a', 'b', 'c', 'd', 'e', 'f', 'f']\n"
     ]
    }
   ],
   "source": [
    "liste.pop(5)\n",
    "print(liste)"
   ]
  },
  {
   "cell_type": "code",
   "execution_count": 16,
   "id": "6a1ed836-35c3-4088-b179-3cc467c6e416",
   "metadata": {},
   "outputs": [],
   "source": [
    "sayiler = [123,344,345,456,546]\n",
    "sayiler.sort()"
   ]
  },
  {
   "cell_type": "code",
   "execution_count": 17,
   "id": "c6716f22-d7d3-46ed-a96e-818ed383d0be",
   "metadata": {},
   "outputs": [
    {
     "data": {
      "text/plain": [
       "[123, 344, 345, 456, 546]"
      ]
     },
     "execution_count": 17,
     "metadata": {},
     "output_type": "execute_result"
    }
   ],
   "source": [
    "sayiler"
   ]
  },
  {
   "cell_type": "code",
   "execution_count": 18,
   "id": "a8f2587a-54fa-424d-af1c-13198045a51c",
   "metadata": {},
   "outputs": [
    {
     "name": "stdout",
     "output_type": "stream",
     "text": [
      "[546, 456, 345, 344, 123]\n"
     ]
    }
   ],
   "source": [
    "sayiler.reverse()\n",
    "print(sayiler)"
   ]
  },
  {
   "cell_type": "code",
   "execution_count": 19,
   "id": "f03d8c57-31bf-434e-9d14-42f50adff378",
   "metadata": {},
   "outputs": [
    {
     "data": {
      "text/plain": [
       "{123, 344, 345, 456, 546}"
      ]
     },
     "execution_count": 19,
     "metadata": {},
     "output_type": "execute_result"
    }
   ],
   "source": [
    "set(sayiler)"
   ]
  },
  {
   "cell_type": "markdown",
   "id": "c9c80e9e-49c0-48f3-b3cd-d2bcbea5fac0",
   "metadata": {},
   "source": [
    "tuple"
   ]
  },
  {
   "cell_type": "code",
   "execution_count": 20,
   "id": "603e5748-3b38-4bf4-98e4-939d6af2949f",
   "metadata": {},
   "outputs": [
    {
     "name": "stdout",
     "output_type": "stream",
     "text": [
      "['a', 'b', 'c', 'd', 'e', 'a']\n",
      "('a', 'b', 'c', 'd', 'e', 'a')\n"
     ]
    }
   ],
   "source": [
    "liste = ['a', 'b', 'c', 'd', 'e', 'a']\n",
    "print(liste)\n",
    "tup = ('a', 'b', 'c', 'd', 'e', 'a')\n",
    "print(tup)"
   ]
  },
  {
   "cell_type": "code",
   "execution_count": 22,
   "id": "850d8ab0-5e51-4ac1-bf1f-b34c1b8b1232",
   "metadata": {},
   "outputs": [
    {
     "data": {
      "text/plain": [
       "[4444, 'b', 'c', 'd', 'e', 'a']"
      ]
     },
     "execution_count": 22,
     "metadata": {},
     "output_type": "execute_result"
    }
   ],
   "source": [
    "liste[0] = 4444 \n",
    "liste"
   ]
  },
  {
   "cell_type": "code",
   "execution_count": 24,
   "id": "6ada19e0-30ed-4a41-98d7-90d773548f8b",
   "metadata": {},
   "outputs": [
    {
     "data": {
      "text/plain": [
       "2"
      ]
     },
     "execution_count": 24,
     "metadata": {},
     "output_type": "execute_result"
    }
   ],
   "source": [
    "tup.count('a')"
   ]
  },
  {
   "cell_type": "code",
   "execution_count": 25,
   "id": "cb36653c-5e7a-4ae4-8067-ff1b0b24e279",
   "metadata": {},
   "outputs": [
    {
     "data": {
      "text/plain": [
       "1"
      ]
     },
     "execution_count": 25,
     "metadata": {},
     "output_type": "execute_result"
    }
   ],
   "source": [
    "tup.count('b')"
   ]
  },
  {
   "cell_type": "code",
   "execution_count": 26,
   "id": "72c12e78-b0c6-4291-8744-9c2fdb286eca",
   "metadata": {},
   "outputs": [
    {
     "data": {
      "text/plain": [
       "0"
      ]
     },
     "execution_count": 26,
     "metadata": {},
     "output_type": "execute_result"
    }
   ],
   "source": [
    "tup.index('a',)"
   ]
  },
  {
   "cell_type": "markdown",
   "id": "50afe71b-3745-4520-8b22-8a24aff6e759",
   "metadata": {},
   "source": [
    "#dictionary"
   ]
  },
  {
   "cell_type": "code",
   "execution_count": 28,
   "id": "2db6201c-2a9a-490e-a04b-4e028bf78a34",
   "metadata": {},
   "outputs": [
    {
     "data": {
      "text/plain": [
       "{'isim': 'Özgür', 'yas': 20, 'lokasyon': 'Türkiye'}"
      ]
     },
     "execution_count": 28,
     "metadata": {},
     "output_type": "execute_result"
    }
   ],
   "source": [
    "dict1 = {'isim': 'Özgür', 'yas':20, 'lokasyon': 'Türkiye'}\n",
    "dict1"
   ]
  },
  {
   "cell_type": "code",
   "execution_count": 32,
   "id": "e94a5e11-ed3a-4eed-a881-e2565495f093",
   "metadata": {},
   "outputs": [
    {
     "data": {
      "text/plain": [
       "{'isim': 'Özgür',\n",
       " 'yas': 20,\n",
       " 'dogdugu_sehir': 'Sivas',\n",
       " 'yasadigi_sehir': 'Erzurum'}"
      ]
     },
     "execution_count": 32,
     "metadata": {},
     "output_type": "execute_result"
    }
   ],
   "source": [
    "dict2 = {\n",
    "    'isim': 'Özgür',\n",
    "    'yas':20,\n",
    "    'dogdugu_sehir': 'Sivas',\n",
    "    'yasadigi_sehir': 'Erzurum'\n",
    "    ##'lokasyon': 'Türkiye'\n",
    "}\n",
    "dict2"
   ]
  },
  {
   "cell_type": "code",
   "execution_count": 33,
   "id": "574f65cc-9735-4776-a855-72c911052933",
   "metadata": {},
   "outputs": [
    {
     "data": {
      "text/plain": [
       "{'isim': 'Özgür',\n",
       " 'yas': 20,\n",
       " 'lokasyon': {'dogdugu_sehir': 'Sivas', 'yasadigi_sehir': 'Erzurum'}}"
      ]
     },
     "execution_count": 33,
     "metadata": {},
     "output_type": "execute_result"
    }
   ],
   "source": [
    "dict3 = {\n",
    "    'isim': 'Özgür',\n",
    "    'yas':20,\n",
    "    'lokasyon': {\n",
    "        'dogdugu_sehir': 'Sivas',\n",
    "        'yasadigi_sehir': 'Erzurum'\n",
    "    }\n",
    "}\n",
    "dict3"
   ]
  },
  {
   "cell_type": "code",
   "execution_count": 34,
   "id": "3f130f7a-0c07-42e9-98e3-a188f9a4f29a",
   "metadata": {},
   "outputs": [
    {
     "data": {
      "text/plain": [
       "'Erzurum'"
      ]
     },
     "execution_count": 34,
     "metadata": {},
     "output_type": "execute_result"
    }
   ],
   "source": [
    "dict3['lokasyon']['yasadigi_sehir']"
   ]
  },
  {
   "cell_type": "code",
   "execution_count": 35,
   "id": "56d0bbf9-f4b6-4914-ac6c-f1df24025795",
   "metadata": {},
   "outputs": [
    {
     "data": {
      "text/plain": [
       "'Erzurum'"
      ]
     },
     "execution_count": 35,
     "metadata": {},
     "output_type": "execute_result"
    }
   ],
   "source": [
    "dict3.get('lokasyon').get('yasadigi_sehir')"
   ]
  },
  {
   "cell_type": "code",
   "execution_count": 36,
   "id": "00c770ba-2157-42a5-a689-1f314287c95b",
   "metadata": {},
   "outputs": [
    {
     "data": {
      "text/plain": [
       "dict_keys(['isim', 'yas', 'dogdugu_sehir', 'yasadigi_sehir'])"
      ]
     },
     "execution_count": 36,
     "metadata": {},
     "output_type": "execute_result"
    }
   ],
   "source": [
    "dict2.keys()"
   ]
  },
  {
   "cell_type": "code",
   "execution_count": 37,
   "id": "7926f641-be6b-460e-94ea-93d26b2068c9",
   "metadata": {},
   "outputs": [
    {
     "data": {
      "text/plain": [
       "dict_values(['Özgür', 20, 'Sivas', 'Erzurum'])"
      ]
     },
     "execution_count": 37,
     "metadata": {},
     "output_type": "execute_result"
    }
   ],
   "source": [
    "dict2.values()"
   ]
  },
  {
   "cell_type": "code",
   "execution_count": 38,
   "id": "9db7e981-09b4-4a86-867c-01b0a44dd3c6",
   "metadata": {},
   "outputs": [
    {
     "data": {
      "text/plain": [
       "dict_items([('isim', 'Özgür'), ('yas', 20), ('dogdugu_sehir', 'Sivas'), ('yasadigi_sehir', 'Erzurum')])"
      ]
     },
     "execution_count": 38,
     "metadata": {},
     "output_type": "execute_result"
    }
   ],
   "source": [
    "dict2.items()"
   ]
  },
  {
   "cell_type": "markdown",
   "id": "88cf57e2-f382-4b04-ace7-004c2760c791",
   "metadata": {},
   "source": [
    " if Sorguları"
   ]
  },
  {
   "cell_type": "code",
   "execution_count": 42,
   "id": "ed119920-843b-406a-a15d-d99e645a493b",
   "metadata": {},
   "outputs": [
    {
     "name": "stdout",
     "output_type": "stream",
     "text": [
      "Sorun yok\n"
     ]
    }
   ],
   "source": [
    "hava_durumu = \"karli\"\n",
    "\n",
    "if hava_durumu == 'yagisli':\n",
    "    print(\"Semsiyeni al!\")\n",
    "else:\n",
    "    print(\"Sorun yok\")"
   ]
  },
  {
   "cell_type": "code",
   "execution_count": 43,
   "id": "a5247dd9-a7b9-4303-8f2e-ce3756803a41",
   "metadata": {},
   "outputs": [
    {
     "name": "stdout",
     "output_type": "stream",
     "text": [
      "Atkini al!\n"
     ]
    }
   ],
   "source": [
    "hava_durumu = \"karli\"\n",
    "\n",
    "if hava_durumu == 'yagisli':\n",
    "    print(\"Semsiyeni al!\")\n",
    "elif hava_durumu == 'karli':\n",
    "    print(\"Atkini al!\")\n",
    "else:\n",
    "    print(\"Sorun yok\")"
   ]
  },
  {
   "cell_type": "code",
   "execution_count": 46,
   "id": "cb792cd2-0c9e-4fd4-818e-77e5480aacd8",
   "metadata": {},
   "outputs": [
    {
     "name": "stdout",
     "output_type": "stream",
     "text": [
      "Selam\n"
     ]
    }
   ],
   "source": [
    "yas = 20\n",
    "if yas > 18:\n",
    "    print(\"Selam\")\n",
    "else:\n",
    "    print(\"Burdan git\")"
   ]
  },
  {
   "cell_type": "code",
   "execution_count": 47,
   "id": "7966ddb6-535d-491f-8351-106892204960",
   "metadata": {},
   "outputs": [
    {
     "name": "stdout",
     "output_type": "stream",
     "text": [
      "liste ekledim\n",
      "Güncel liste ['a', 'b', 'c', 'd']\n"
     ]
    }
   ],
   "source": [
    "liste = ['a', 'b', 'c']\n",
    "\n",
    "hedef_harf = 'd'\n",
    "if hedef_harf in liste:\n",
    "    print('buldum')\n",
    "else:\n",
    "    liste.append(hedef_harf)\n",
    "\n",
    "    print('liste ekledim')\n",
    "    print('Güncel liste {}'.format(liste))"
   ]
  },
  {
   "cell_type": "code",
   "execution_count": 49,
   "id": "7bc9b123-53de-4054-b0ee-3234232d9831",
   "metadata": {},
   "outputs": [
    {
     "name": "stdout",
     "output_type": "stream",
     "text": [
      "buldum ama ilk konumda degil\n"
     ]
    }
   ],
   "source": [
    "if (hedef_harf in liste) and (hedef_harf == liste[0]):\n",
    "    print('buldum ve ilk harf konumunda')\n",
    "elif hedef_harf in liste:\n",
    "    print('buldum ama ilk konumda degil')\n",
    "else:\n",
    "    liste.append(hedef_harf)\n",
    "\n",
    "    print('liste ekledim')\n",
    "    print('Güncel liste {}'.format(liste))"
   ]
  },
  {
   "cell_type": "markdown",
   "id": "a07b14fe-d811-45b6-a8c4-b268af0cbdb1",
   "metadata": {},
   "source": [
    "for döngüleri"
   ]
  },
  {
   "cell_type": "code",
   "execution_count": 51,
   "id": "4c794fd1-e3f9-4f00-8f03-4c96f76cb3a0",
   "metadata": {},
   "outputs": [],
   "source": [
    "yorum_birakanlar = [\"İsmail Aydemir\", \"Uygar Aydın\", \"Naz Yagcioglu\", \"Ferhat Ibrik\", \"Ulas Acil\", \"Bilal Kurucay\"]"
   ]
  },
  {
   "cell_type": "code",
   "execution_count": 52,
   "id": "580c1548-3c23-4a88-a146-71302170665f",
   "metadata": {},
   "outputs": [
    {
     "name": "stdout",
     "output_type": "stream",
     "text": [
      "İsmail Aydemir\n",
      "Uygar Aydın\n",
      "Naz Yagcioglu\n",
      "Ferhat Ibrik\n",
      "Ulas Acil\n",
      "Bilal Kurucay\n"
     ]
    }
   ],
   "source": [
    "for kullanici in yorum_birakanlar:\n",
    "    print(kullanici)"
   ]
  },
  {
   "cell_type": "code",
   "execution_count": 71,
   "id": "48049510-b998-4e39-a15d-5b978a853655",
   "metadata": {},
   "outputs": [
    {
     "name": "stdout",
     "output_type": "stream",
     "text": [
      "1. Kullanicinin Adi İsmail ve Soyadi Aydemir\n",
      "2. Kullanicinin Adi Uygar ve Soyadi Aydın\n",
      "3. Kullanicinin Adi Naz ve Soyadi Yagcioglu\n",
      "4. Kullanicinin Adi Ferhat ve Soyadi Ibrik\n",
      "5. Kullanicinin Adi Ulas ve Soyadi Acil\n",
      "6. Kullanicinin Adi Bilal ve Soyadi Kurucay\n"
     ]
    }
   ],
   "source": [
    "kullanici_sayisi = 0\n",
    "\n",
    "for kullanici in yorum_birakanlar:\n",
    "  kullanici_sayisi += 1\n",
    "  ad, soyad = kullanici.split()[0], kullanici.split()[1]\n",
    "  print('{0}. Kullanicinin Adi {1} ve Soyadi {2}'.format(kullanici_sayisi, ad, soyad))\n"
   ]
  },
  {
   "cell_type": "code",
   "execution_count": 53,
   "id": "35e338d4-fb04-4712-b94a-daac9f4912b0",
   "metadata": {},
   "outputs": [
    {
     "name": "stdout",
     "output_type": "stream",
     "text": [
      "1 İsmail Aydemir\n",
      "2 Uygar Aydın\n",
      "3 Naz Yagcioglu\n",
      "4 Ferhat Ibrik\n",
      "5 Ulas Acil\n",
      "6 Bilal Kurucay\n"
     ]
    }
   ],
   "source": [
    "kullanici_sayisi = 0\n",
    "\n",
    "for kullanici in yorum_birakanlar:\n",
    "    kullanici_sayisi = kullanici_sayisi + 1\n",
    "    print(kullanici_sayisi, kullanici)"
   ]
  },
  {
   "cell_type": "code",
   "execution_count": 62,
   "id": "45392964-5acb-424e-a036-448ce1b4f42d",
   "metadata": {},
   "outputs": [],
   "source": [
    "yorum_birakanlar = [\"İsmail Aydemir\", \"Uygar Aydın\", \"Naz Yagcioglu\", \"Ferhat Ibrik\", \"Ulas Acil\", \"Bilal Kurucay\"]"
   ]
  },
  {
   "cell_type": "code",
   "execution_count": 67,
   "id": "22ae8442-4545-4919-a629-339296db82c4",
   "metadata": {},
   "outputs": [
    {
     "name": "stdout",
     "output_type": "stream",
     "text": [
      "İsmail\n",
      "Aydemir\n"
     ]
    }
   ],
   "source": [
    "ad, soyad = yorum_birakanlar[0].split()[0], yorum_birakanlar[0].split()[1]\n",
    "print(ad)\n",
    "print(soyad)"
   ]
  },
  {
   "cell_type": "code",
   "execution_count": 72,
   "id": "0709dcaa-f633-4b6e-9afc-2879b80643df",
   "metadata": {},
   "outputs": [
    {
     "name": "stdout",
     "output_type": "stream",
     "text": [
      "1. Kullanicinin Adi İsmail ve Soyadi Aydemir\n",
      "2. Kullanicinin Adi Uygar ve Soyadi Aydın\n",
      "3. Kullanicinin Adi Naz ve Soyadi Yagcioglu\n",
      "4. Kullanicinin Adi Ulas ve Soyadi Acil\n",
      "5. Kullanicinin Adi Bilal ve Soyadi Kurucay\n"
     ]
    }
   ],
   "source": [
    "moderator = \"Ferhat Ibrik\"\n",
    "\n",
    "kullanici_sayisi = 0\n",
    "moderator_sayisi = 0\n",
    "\n",
    "for kullanici in yorum_birakanlar:\n",
    "    ad, soyad = kullanici.split()[0], kullanici.split()[1]\n",
    "\n",
    "    if(kullanici == moderator):\n",
    "        moderator_sayisi += 1 #moderator_sayisi, ad, soyad))\n",
    "    else:\n",
    "        kullanici_sayisi += 1\n",
    "        print('{0}. Kullanicinin Adi {1} ve Soyadi {2}'.format (kullanici_sayisi, ad, soyad))"
   ]
  },
  {
   "cell_type": "markdown",
   "id": "1c648c32-f316-4b5f-b5a1-b57bf33d0981",
   "metadata": {},
   "source": [
    "Diger Iterable Objelerde for Döngüleri"
   ]
  },
  {
   "cell_type": "code",
   "execution_count": 1,
   "id": "85802710-c7b8-4cdb-838e-9ce61803f473",
   "metadata": {},
   "outputs": [
    {
     "name": "stdout",
     "output_type": "stream",
     "text": [
      "1\n",
      "3\n",
      "5\n",
      "7\n"
     ]
    }
   ],
   "source": [
    "tup1 = (1, 3, 5, 7)\n",
    "\n",
    "for sayi in tup1:\n",
    "    print(sayi)"
   ]
  },
  {
   "cell_type": "code",
   "execution_count": 3,
   "id": "9f4d0af7-16f6-42e2-bc87-d1a8df7fc42e",
   "metadata": {},
   "outputs": [
    {
     "name": "stdout",
     "output_type": "stream",
     "text": [
      "1\n",
      "3\n",
      "5\n",
      "a\n"
     ]
    }
   ],
   "source": [
    "liste = [[1,2],[3,4],[5,6],['a','b']]\n",
    "\n",
    "for x,y in liste:\n",
    "    print(x)"
   ]
  },
  {
   "cell_type": "code",
   "execution_count": 4,
   "id": "e5e7976e-e681-4974-b171-8398b284648c",
   "metadata": {},
   "outputs": [
    {
     "name": "stdout",
     "output_type": "stream",
     "text": [
      "1 2\n",
      "3 4\n",
      "5 6\n"
     ]
    }
   ],
   "source": [
    "liste = [[1,2],[3,4],[5,6]]\n",
    "\n",
    "for x,y in liste:\n",
    "    print(x, y)"
   ]
  },
  {
   "cell_type": "code",
   "execution_count": 5,
   "id": "09b5be05-5067-464d-aac0-b7ad594fbba2",
   "metadata": {},
   "outputs": [
    {
     "name": "stdout",
     "output_type": "stream",
     "text": [
      "3\n",
      "7\n",
      "11\n"
     ]
    }
   ],
   "source": [
    "liste = [[1,2],[3,4],[5,6]]\n",
    "\n",
    "for x,y in liste:\n",
    "    print(x+y)"
   ]
  },
  {
   "cell_type": "code",
   "execution_count": 6,
   "id": "16468ec3-7e0a-46b2-8059-77df2c56c053",
   "metadata": {},
   "outputs": [
    {
     "name": "stdout",
     "output_type": "stream",
     "text": [
      "-1\n",
      "-1\n",
      "-1\n"
     ]
    }
   ],
   "source": [
    "liste = [[1,2],[3,4],[5,6]]\n",
    "\n",
    "for x,y in liste:\n",
    "    print(x-y)"
   ]
  },
  {
   "cell_type": "code",
   "execution_count": 7,
   "id": "b937ea8d-23cd-42f6-8967-932a020a64d3",
   "metadata": {},
   "outputs": [
    {
     "name": "stdout",
     "output_type": "stream",
     "text": [
      "2\n",
      "12\n",
      "30\n"
     ]
    }
   ],
   "source": [
    "liste = [[1,2],[3,4],[5,6]]\n",
    "\n",
    "for x,y in liste:\n",
    "    print(x*y)"
   ]
  },
  {
   "cell_type": "code",
   "execution_count": 9,
   "id": "cbee7ecf-3cfc-4ecd-ac31-69f8c3e5cce3",
   "metadata": {},
   "outputs": [
    {
     "data": {
      "text/plain": [
       "dict_items([('ad', 'Naz'), ('soyad', 'Yagcioglu')])"
      ]
     },
     "execution_count": 9,
     "metadata": {},
     "output_type": "execute_result"
    }
   ],
   "source": [
    "kullanici1 = {\n",
    "    'ad': 'Naz',\n",
    "    'soyad': 'Yagcioglu'\n",
    "}\n",
    "kullanici1.items()"
   ]
  },
  {
   "cell_type": "code",
   "execution_count": 11,
   "id": "c04d9c24-e2ae-4a6a-b719-a1e387281c35",
   "metadata": {},
   "outputs": [
    {
     "name": "stdout",
     "output_type": "stream",
     "text": [
      "Key: ad \t Value:Naz\n",
      "Key: soyad \t Value:Yagcioglu\n"
     ]
    }
   ],
   "source": [
    "for k, v in kullanici1.items():\n",
    "    print(\"Key: {} \\t Value:{}\".format(k,v))"
   ]
  },
  {
   "cell_type": "code",
   "execution_count": 12,
   "id": "67862435-1fd9-4433-bc4c-a4af68f66668",
   "metadata": {},
   "outputs": [
    {
     "name": "stdout",
     "output_type": "stream",
     "text": [
      "Key: ad\n",
      "Key: soyad\n"
     ]
    }
   ],
   "source": [
    "for k in kullanici1.keys():\n",
    "    print(\"Key: {}\".format(k))"
   ]
  },
  {
   "cell_type": "markdown",
   "id": "6df306fb-89ad-4600-99fa-9d1d26e1838c",
   "metadata": {},
   "source": [
    "while Döngüleri"
   ]
  },
  {
   "cell_type": "code",
   "execution_count": 13,
   "id": "35ae4d53-1319-444f-b290-b8f040948aa6",
   "metadata": {},
   "outputs": [
    {
     "name": "stdout",
     "output_type": "stream",
     "text": [
      "0 degeri 10'dan kücüktür\n",
      "1 degeri 10'dan kücüktür\n",
      "2 degeri 10'dan kücüktür\n",
      "3 degeri 10'dan kücüktür\n",
      "4 degeri 10'dan kücüktür\n",
      "5 degeri 10'dan kücüktür\n",
      "6 degeri 10'dan kücüktür\n",
      "7 degeri 10'dan kücüktür\n",
      "8 degeri 10'dan kücüktür\n",
      "9 degeri 10'dan kücüktür\n"
     ]
    }
   ],
   "source": [
    "x = 0\n",
    "\n",
    "while x <10:\n",
    "    print(\"{} degeri 10'dan kücüktür\".format(x))\n",
    "    x += 1"
   ]
  },
  {
   "cell_type": "code",
   "execution_count": 14,
   "id": "a59e7a71-9c3c-46e7-b46c-7397305dffc2",
   "metadata": {},
   "outputs": [
    {
     "name": "stdout",
     "output_type": "stream",
     "text": [
      "0 degeri 10'dan kücüktür\n",
      "1 degeri 10'dan kücüktür\n",
      "2 degeri 10'dan kücüktür\n",
      "3 degeri 10'dan kücüktür\n",
      "4 degeri 10'dan kücüktür\n",
      "5 degeri 10'dan kücüktür\n",
      "6 degeri 10'dan kücüktür\n",
      "7 degeri 10'dan kücüktür\n",
      "8 degeri 10'dan kücüktür\n",
      "9 degeri 10'dan kücüktür\n",
      "10 degeri 10'dan kücük degil\n"
     ]
    }
   ],
   "source": [
    "x = 0\n",
    "\n",
    "while x <10:\n",
    "    print(\"{} degeri 10'dan kücüktür\".format(x))\n",
    "    x += 1\n",
    "else:\n",
    "    print(\"{} degeri 10'dan kücük degil\".format(x))"
   ]
  },
  {
   "cell_type": "code",
   "execution_count": 18,
   "id": "47aa0b0e-ca1e-453d-9ff1-4db771254c47",
   "metadata": {},
   "outputs": [
    {
     "name": "stdout",
     "output_type": "stream",
     "text": [
      "6\n",
      "30\n",
      "120\n",
      "360\n",
      "720\n",
      "720\n"
     ]
    }
   ],
   "source": [
    "# Faktoriyel\n",
    "# 3! = 3 * 2 * 1 = 6\n",
    "# 6! = 6 * 5 * 4 * 3 * 2 * 1 = 720\n",
    "\n",
    "sayi = 6\n",
    "sonuc = 1\n",
    "\n",
    "while sayi > 0:\n",
    "    sonuc = sonuc * sayi #6 * 5 * 4 * 3 * 2 * 1\n",
    "    sayi -= 1 #3\n",
    "    print(sonuc)"
   ]
  },
  {
   "cell_type": "markdown",
   "id": "5754758b-1fbb-458c-9503-18d483c8ee24",
   "metadata": {},
   "source": [
    "### range"
   ]
  },
  {
   "cell_type": "code",
   "execution_count": 19,
   "id": "079b7d54-e8e2-4668-b1f0-517245777960",
   "metadata": {},
   "outputs": [
    {
     "data": {
      "text/plain": [
       "range(0, 10)"
      ]
     },
     "execution_count": 19,
     "metadata": {},
     "output_type": "execute_result"
    }
   ],
   "source": [
    "range(10)"
   ]
  },
  {
   "cell_type": "code",
   "execution_count": 20,
   "id": "81635479-5164-49bb-b9d3-8539c4d41e6c",
   "metadata": {},
   "outputs": [
    {
     "data": {
      "text/plain": [
       "[0, 1, 2, 3, 4, 5, 6, 7, 8, 9]"
      ]
     },
     "execution_count": 20,
     "metadata": {},
     "output_type": "execute_result"
    }
   ],
   "source": [
    "list(range(10))"
   ]
  },
  {
   "cell_type": "code",
   "execution_count": 22,
   "id": "6d5ff5c5-84d8-4af4-aa91-8324d908849a",
   "metadata": {},
   "outputs": [
    {
     "data": {
      "text/plain": [
       "[0, 1, 2, 3, 4, 5, 6, 7, 8, 9]"
      ]
     },
     "execution_count": 22,
     "metadata": {},
     "output_type": "execute_result"
    }
   ],
   "source": [
    "[*range(10)]"
   ]
  },
  {
   "cell_type": "code",
   "execution_count": 25,
   "id": "eefdbc0f-1d18-48fe-9f1d-9e5fd68a61f1",
   "metadata": {},
   "outputs": [
    {
     "data": {
      "text/plain": [
       "[2, 4, 6]"
      ]
     },
     "execution_count": 25,
     "metadata": {},
     "output_type": "execute_result"
    }
   ],
   "source": [
    "[*range(2,7,2)]"
   ]
  },
  {
   "cell_type": "code",
   "execution_count": 26,
   "id": "bfeec8fb-1cb1-4347-845f-9de6592bc620",
   "metadata": {},
   "outputs": [
    {
     "name": "stdout",
     "output_type": "stream",
     "text": [
      "0\n",
      "1\n",
      "2\n",
      "3\n",
      "4\n",
      "5\n",
      "6\n",
      "7\n",
      "8\n",
      "9\n"
     ]
    }
   ],
   "source": [
    "for sayi in range(10):\n",
    "    print(sayi)"
   ]
  },
  {
   "cell_type": "code",
   "execution_count": 28,
   "id": "10f6420a-b077-424b-8683-b164d8f6e89c",
   "metadata": {},
   "outputs": [
    {
     "name": "stdout",
     "output_type": "stream",
     "text": [
      "6\n",
      "7\n",
      "8\n",
      "9\n"
     ]
    }
   ],
   "source": [
    "for sayi in range(10):\n",
    "    if sayi  > 5:\n",
    "        print(sayi)"
   ]
  },
  {
   "cell_type": "markdown",
   "id": "11f68974-f761-451b-98fc-beabb9697e0e",
   "metadata": {},
   "source": [
    "### enumerate"
   ]
  },
  {
   "cell_type": "code",
   "execution_count": 29,
   "id": "d30fc0f8-875f-4a31-b012-847e069d0882",
   "metadata": {},
   "outputs": [
    {
     "name": "stdout",
     "output_type": "stream",
     "text": [
      "(0, 'a')\n",
      "(1, 'b')\n",
      "(2, 'c')\n",
      "(3, 'd')\n",
      "(4, 'e')\n"
     ]
    }
   ],
   "source": [
    "harfler = ['a','b','c','d','e']\n",
    "for harf in enumerate(harfler):\n",
    "    print(harf)"
   ]
  },
  {
   "cell_type": "code",
   "execution_count": 30,
   "id": "29e36426-b1e7-4db1-a9c5-d0618b670ccd",
   "metadata": {},
   "outputs": [
    {
     "name": "stdout",
     "output_type": "stream",
     "text": [
      "1. harf: a\n",
      "2. harf: b\n",
      "3. harf: c\n",
      "4. harf: d\n",
      "5. harf: e\n"
     ]
    }
   ],
   "source": [
    "for index, harf in enumerate(harfler):\n",
    "    print(\"{}. harf: {}\".format(index+1, harf))"
   ]
  },
  {
   "cell_type": "markdown",
   "id": "da8b9fd8-83f5-4141-94d6-6b795cd07067",
   "metadata": {},
   "source": [
    "### zip"
   ]
  },
  {
   "cell_type": "code",
   "execution_count": 32,
   "id": "e1a245b2-f15b-4753-b4e2-102611818420",
   "metadata": {},
   "outputs": [
    {
     "name": "stdout",
     "output_type": "stream",
     "text": [
      "('TR', 1)\n",
      "('FR', 2)\n",
      "('DE', 3)\n"
     ]
    }
   ],
   "source": [
    "ulkeler = ['TR','FR','DE']\n",
    "siralamalar = range(1,4)\n",
    "\n",
    "for ulke in zip(ulkeler,siralamalar):\n",
    "    print(ulke)"
   ]
  },
  {
   "cell_type": "markdown",
   "id": "2f28a8eb-5665-475b-a45b-5570f78ff185",
   "metadata": {},
   "source": [
    "### break"
   ]
  },
  {
   "cell_type": "code",
   "execution_count": 34,
   "id": "0abed00e-2729-45b4-887e-8a596c1af6fa",
   "metadata": {},
   "outputs": [
    {
     "name": "stdout",
     "output_type": "stream",
     "text": [
      "c harfi 2. intexte!\n"
     ]
    }
   ],
   "source": [
    "harfler = ['a', 'b', 'c', 'd', 'e'] * 100\n",
    "for index, harf in enumerate(harfler):\n",
    "    if harf == 'c':\n",
    "        print('{} harfi {}. intexte!'.format(harf, index))\n",
    "        break"
   ]
  },
  {
   "cell_type": "markdown",
   "id": "d687e743-6e2d-4d06-84a7-f685432ebb5b",
   "metadata": {},
   "source": [
    "### contine"
   ]
  },
  {
   "cell_type": "code",
   "execution_count": 35,
   "id": "724a241b-3a6b-4d0c-a0ce-2bb02901f44f",
   "metadata": {},
   "outputs": [
    {
     "name": "stdout",
     "output_type": "stream",
     "text": [
      "1\n",
      "3\n",
      "5\n"
     ]
    }
   ],
   "source": [
    "for sayi in range(1,6):\n",
    "    if sayi%2==0: #çift sayı sorgulama mantığı\n",
    "        continue\n",
    "    print(sayi)"
   ]
  },
  {
   "cell_type": "code",
   "execution_count": 36,
   "id": "047c8825-8285-45c5-9886-c081b4b3cb78",
   "metadata": {},
   "outputs": [
    {
     "name": "stdout",
     "output_type": "stream",
     "text": [
      "1\n",
      "3\n",
      "5\n"
     ]
    }
   ],
   "source": [
    "for sayi in range(1,6):\n",
    "    if sayi%2!=0: #cift sayi sorgulama mantigi\n",
    "        print(sayi)"
   ]
  },
  {
   "cell_type": "markdown",
   "id": "1db5397a-7707-45f9-9c96-14d720891822",
   "metadata": {},
   "source": [
    "### pass"
   ]
  },
  {
   "cell_type": "code",
   "execution_count": 37,
   "id": "5a28f597-bd5a-4a04-8fdf-b4aea5d1d6b6",
   "metadata": {},
   "outputs": [
    {
     "name": "stdout",
     "output_type": "stream",
     "text": [
      "1\n",
      "3\n",
      "5\n"
     ]
    }
   ],
   "source": [
    "for sayi in range(1,6):\n",
    "    if sayi%2==0: #cift sayi sorgulama mantigi\n",
    "        pass\n",
    "    else:\n",
    "        print(sayi)"
   ]
  },
  {
   "cell_type": "code",
   "execution_count": 38,
   "id": "87b76beb-533f-48fe-90b4-15bbcd6fc55b",
   "metadata": {},
   "outputs": [
    {
     "name": "stdout",
     "output_type": "stream",
     "text": [
      "Hey\n"
     ]
    }
   ],
   "source": [
    "if sayi < 5:\n",
    "    pass\n",
    "else:\n",
    "    print(\"Hey\")"
   ]
  },
  {
   "cell_type": "code",
   "execution_count": 46,
   "id": "1870db51-5be5-4475-bf39-669efdfb7931",
   "metadata": {},
   "outputs": [],
   "source": [
    "kullanici1 = {\n",
    "    'ad': 'Ferhat',\n",
    "    'soyad': 'Ibrik',\n",
    "    'uzmanlik': ['Front-End']\n",
    "}\n",
    "kullanici2 = {\n",
    "    'ad': 'Gokce',\n",
    "    'soyad': 'Gün',\n",
    "    'uzmanlik':['Tasarim']\n",
    "}\n",
    "kullanici3 = {\n",
    "    'ad': 'Mesut',\n",
    "    'soyad': 'Gün',\n",
    "    'uzmanlik': ['Front-End']\n",
    "}"
   ]
  },
  {
   "cell_type": "code",
   "execution_count": 41,
   "id": "99ff7e53-c6f1-425f-9373-5655c3cb8109",
   "metadata": {},
   "outputs": [
    {
     "data": {
      "text/plain": [
       "['Front-End']"
      ]
     },
     "execution_count": 41,
     "metadata": {},
     "output_type": "execute_result"
    }
   ],
   "source": [
    "#Soru 1: Ferhat Ibrik kullanicisinin uzmanlik alanlarini döndür\n",
    "kullanici1.get('uzmanlik')\n",
    "kullanici1['uzmanlik']"
   ]
  },
  {
   "cell_type": "code",
   "execution_count": 45,
   "id": "539deb9f-1dcf-4395-b5f9-917905d52df9",
   "metadata": {},
   "outputs": [
    {
     "name": "stdout",
     "output_type": "stream",
     "text": [
      "Ferhat\n",
      "Mesut\n"
     ]
    }
   ],
   "source": [
    "kullanici_listesi = [kullanici1, kullanici2, kullanici3]\n",
    "\n",
    "# Soru 2: Front-end alanindaki uzmanlarin isimlerini döndür\n",
    "for kullanici in kullanici_listesi:\n",
    "    if 'Front-End' in kullanici.get('uzmanlik'):\n",
    "        print(kullanici.get('ad'))"
   ]
  },
  {
   "cell_type": "code",
   "execution_count": 47,
   "id": "412e2633-a283-449e-9a1a-2b92699624e6",
   "metadata": {},
   "outputs": [
    {
     "name": "stdout",
     "output_type": "stream",
     "text": [
      "[{'ad': 'Ferhat', 'soyad': 'Ibrik', 'uzmanlik': ['Front-End']}, {'ad': 'Gokce', 'soyad': 'Gün', 'uzmanlik': ['Tasarim']}, {'ad': 'Mesut', 'soyad': 'Gün', 'uzmanlik': ['Front-End', 'Yazilim']}]\n"
     ]
    }
   ],
   "source": [
    "# soru 3: Mesut kullanicisi yazilim ögrendi, bilgileri güncelle!\n",
    "kullanici3['uzmanlik'].append(\"Yazilim\")\n",
    "print(kullanici_listesi)"
   ]
  },
  {
   "cell_type": "code",
   "execution_count": 48,
   "id": "f283bace-06ca-44a4-a4e9-42608c4bb6d0",
   "metadata": {},
   "outputs": [
    {
     "name": "stdout",
     "output_type": "stream",
     "text": [
      "{'ad': 'Mesut', 'soyad': 'Gün', 'uzmanlik': ['Front-End', 'Yazilim']}\n"
     ]
    }
   ],
   "source": [
    "# saru 4: 1den fazla uzmanlik alani olan kullanicilari döndür (Hint: Length)\n",
    "\n",
    "for kullanici in kullanici_listesi:\n",
    "    if len(kullanici['uzmanlik']) > 1:\n",
    "        print(kullanici)"
   ]
  },
  {
   "cell_type": "code",
   "execution_count": 50,
   "id": "0efa5422-e0db-4076-8a25-abcaca67049d",
   "metadata": {},
   "outputs": [
    {
     "name": "stdout",
     "output_type": "stream",
     "text": [
      "{'ad': 'Ferhat', 'soyad': 'Ibrik', 'uzmanlik': ['Front-End']}\n"
     ]
    }
   ],
   "source": [
    "kullanici_yaslari_listesi = [22, 34, 32]\n",
    "# Soru 5: zif kullanarak 2 listeyi birlestir ve yasi 30'dan az olan kullanicilar kimler?\n",
    "\n",
    "for kullanici, yas in zip(kullanici_listesi, kullanici_yaslari_listesi):\n",
    "    if yas < 30:\n",
    "        print(kullanici)"
   ]
  },
  {
   "cell_type": "code",
   "execution_count": 51,
   "id": "a6cd7975-68f2-42cf-b7b0-d337537f04f0",
   "metadata": {},
   "outputs": [
    {
     "name": "stdout",
     "output_type": "stream",
     "text": [
      "5 sayisi asalndir!\n"
     ]
    }
   ],
   "source": [
    "# Soru 6: deger isimli degiskene atanan sayinin asal olup olmadigini söyle'\n",
    "# Hint Asal sayi: kendinden ve 1'den baska böleni olmayan sayilar örnek 2,3,5,7\n",
    "\n",
    "deger = 5\n",
    "x=deger-1\n",
    "while x>1:\n",
    "    if deger%x==0:\n",
    "       print('{} sayisi asal degil!'.format(deger))\n",
    "       break\n",
    "    else:\n",
    "        x-=1\n",
    "else:\n",
    "     print('{} sayisi asalndir!'.format(deger))"
   ]
  },
  {
   "cell_type": "markdown",
   "id": "372e6314-42b8-4c31-bb4d-d4c396f1d967",
   "metadata": {},
   "source": [
    "5 = 2,3,4 > asal\n",
    "2,3,4,n-1 : x\n",
    "7*6*5*"
   ]
  },
  {
   "cell_type": "markdown",
   "id": "2282a07c-45d9-4129-8aef-fbc509a02c02",
   "metadata": {},
   "source": [
    "### Fonksiyonlar"
   ]
  },
  {
   "cell_type": "markdown",
   "id": "c3c06e75-e9ee-45a9-b7f6-33e0abfe4fcc",
   "metadata": {},
   "source": [
    "### Fonksiyon Yapısı"
   ]
  },
  {
   "cell_type": "markdown",
   "id": "55e617a5-1661-4f34-906d-1f2d8fb34f62",
   "metadata": {},
   "source": [
    "def <fonksiyon_ismi>(<argümanlar>): # snake_case\n",
    "    \"\"\" \n",
    "    Bu kod ne işe yarar             #docstring\n",
    "    \"\"\"\n",
    "    ...                              #return/print"
   ]
  },
  {
   "cell_type": "code",
   "execution_count": 6,
   "id": "0e886a35-5421-44d2-8e60-f61e6e54eca5",
   "metadata": {},
   "outputs": [],
   "source": [
    "def bes_bastir():\n",
    "    print(5)"
   ]
  },
  {
   "cell_type": "code",
   "execution_count": 7,
   "id": "15cbcfce-6838-43bd-ad4e-19dc3ada0121",
   "metadata": {},
   "outputs": [
    {
     "name": "stdout",
     "output_type": "stream",
     "text": [
      "5\n"
     ]
    }
   ],
   "source": [
    "bes_bastir()"
   ]
  },
  {
   "cell_type": "code",
   "execution_count": 3,
   "id": "0d6c3b3d-d3dd-4577-9ddd-cde525fa19d2",
   "metadata": {},
   "outputs": [
    {
     "name": "stdout",
     "output_type": "stream",
     "text": [
      "5\n"
     ]
    }
   ],
   "source": [
    "print(5)"
   ]
  },
  {
   "cell_type": "markdown",
   "id": "5b9df162-9fac-49c7-9da5-c3641e34c0b1",
   "metadata": {},
   "source": [
    "Fonksiyonlarda print ve return farki"
   ]
  },
  {
   "cell_type": "code",
   "execution_count": 4,
   "id": "b48854d3-ed90-4388-b156-a74e8733d4ed",
   "metadata": {},
   "outputs": [],
   "source": [
    "def bes_dondur():\n",
    "    return(5)"
   ]
  },
  {
   "cell_type": "code",
   "execution_count": 5,
   "id": "178313b2-db89-4bb0-9d36-7d5ecf5508b3",
   "metadata": {},
   "outputs": [
    {
     "data": {
      "text/plain": [
       "5"
      ]
     },
     "execution_count": 5,
     "metadata": {},
     "output_type": "execute_result"
    }
   ],
   "source": [
    "bes_dondur()"
   ]
  },
  {
   "cell_type": "code",
   "execution_count": 9,
   "id": "be2804a8-1e99-49cb-a3ce-a2bef431d342",
   "metadata": {},
   "outputs": [
    {
     "name": "stdout",
     "output_type": "stream",
     "text": [
      "5\n",
      "None\n"
     ]
    }
   ],
   "source": [
    "a = bes_bastir()\n",
    "print(a)"
   ]
  },
  {
   "cell_type": "code",
   "execution_count": 10,
   "id": "3acc71a7-3cab-4334-b046-1ec296c1ed62",
   "metadata": {},
   "outputs": [
    {
     "name": "stdout",
     "output_type": "stream",
     "text": [
      "5\n"
     ]
    }
   ],
   "source": [
    "b = bes_dondur()\n",
    "print(b)"
   ]
  },
  {
   "cell_type": "markdown",
   "id": "bd45335d-689e-4692-8383-10df4284f06d",
   "metadata": {},
   "source": [
    "### Fonksiyonlarda Argümanlar"
   ]
  },
  {
   "cell_type": "code",
   "execution_count": 11,
   "id": "c609e085-c251-4bee-8ce7-7dc7a9a94939",
   "metadata": {},
   "outputs": [],
   "source": [
    "def sayi_dondur(sayi):\n",
    "    return sayi"
   ]
  },
  {
   "cell_type": "code",
   "execution_count": 12,
   "id": "313fa5c7-84e8-4e4e-ad1d-23c0b60b9a41",
   "metadata": {},
   "outputs": [
    {
     "data": {
      "text/plain": [
       "100"
      ]
     },
     "execution_count": 12,
     "metadata": {},
     "output_type": "execute_result"
    }
   ],
   "source": [
    "sayi_dondur(100)"
   ]
  },
  {
   "cell_type": "code",
   "execution_count": 13,
   "id": "7f7052b3-db9b-478a-9f22-5ae0af19ff6b",
   "metadata": {},
   "outputs": [],
   "source": [
    "def sayi_dondur(sayi=250):\n",
    "    return sayi"
   ]
  },
  {
   "cell_type": "code",
   "execution_count": 14,
   "id": "9836b8c5-cbc7-421a-b654-64f772725fe9",
   "metadata": {},
   "outputs": [
    {
     "data": {
      "text/plain": [
       "250"
      ]
     },
     "execution_count": 14,
     "metadata": {},
     "output_type": "execute_result"
    }
   ],
   "source": [
    "sayi_dondur()"
   ]
  },
  {
   "cell_type": "code",
   "execution_count": 15,
   "id": "2821a553-f89c-4061-b689-ed1272dd5b57",
   "metadata": {},
   "outputs": [],
   "source": [
    "def buyuk_sayi_dondur(a,b):\n",
    "    if a>b:\n",
    "        return a\n",
    "    elif b>a:\n",
    "        return b"
   ]
  },
  {
   "cell_type": "code",
   "execution_count": 16,
   "id": "a3663183-af1e-4193-99b6-09616821a3d4",
   "metadata": {},
   "outputs": [
    {
     "data": {
      "text/plain": [
       "10"
      ]
     },
     "execution_count": 16,
     "metadata": {},
     "output_type": "execute_result"
    }
   ],
   "source": [
    "buyuk_sayi_dondur(5,10)"
   ]
  },
  {
   "cell_type": "markdown",
   "id": "ff46443e-65e6-4e22-933f-239abdfabf4a",
   "metadata": {},
   "source": [
    "### Fonksiyonlarin Birbiri ile Ilislisi"
   ]
  },
  {
   "cell_type": "code",
   "execution_count": 17,
   "id": "0619c5c7-888d-4a77-b2cf-4e9fe244cc0b",
   "metadata": {},
   "outputs": [],
   "source": [
    "def metin_yazdir(a,b):\n",
    "    buyuk_sayi = buyuk_sayi_dondur(a,b)\n",
    "    sablon_metin =\"{} daha büyük sayidir\".format(buyuk_sayi)\n",
    "    print(sablon_metin)"
   ]
  },
  {
   "cell_type": "code",
   "execution_count": 20,
   "id": "157b2fce-6271-4351-ad9d-05800850e1a1",
   "metadata": {},
   "outputs": [
    {
     "name": "stdout",
     "output_type": "stream",
     "text": [
      "10 daha büyük sayidir\n"
     ]
    }
   ],
   "source": [
    "metin_yazdir(5,10)"
   ]
  },
  {
   "cell_type": "markdown",
   "id": "c3600010-de72-4e85-9c1b-ea271a03c698",
   "metadata": {},
   "source": [
    "### Fonksiyonlar Birden Fazla Sonuç Döndürebilir"
   ]
  },
  {
   "cell_type": "code",
   "execution_count": 21,
   "id": "031f6da3-fc8c-462d-8f6b-3d52a34c1b6d",
   "metadata": {},
   "outputs": [
    {
     "data": {
      "text/plain": [
       "['Özgür', 'Güngör']"
      ]
     },
     "execution_count": 21,
     "metadata": {},
     "output_type": "execute_result"
    }
   ],
   "source": [
    "\"Özgür Güngör\".split()"
   ]
  },
  {
   "cell_type": "code",
   "execution_count": 22,
   "id": "b2bfeb6f-a755-469d-83fe-aaaead92506d",
   "metadata": {},
   "outputs": [],
   "source": [
    "def isim_soyisim_ayirma(isim_soyisim):\n",
    "    isim=isim_soyisim.split()[0]\n",
    "    soyisim=isim_soyisim.split()[1]\n",
    "    return isim,soyisim"
   ]
  },
  {
   "cell_type": "code",
   "execution_count": 23,
   "id": "f081166b-7ca4-41a4-baa2-84ac0097de67",
   "metadata": {},
   "outputs": [
    {
     "data": {
      "text/plain": [
       "('Özgür', 'Güngör')"
      ]
     },
     "execution_count": 23,
     "metadata": {},
     "output_type": "execute_result"
    }
   ],
   "source": [
    "isim_soyisim_ayirma(\"Özgür Güngör\")"
   ]
  },
  {
   "cell_type": "code",
   "execution_count": 24,
   "id": "7ce6f1fd-a862-4352-aa34-cae06977bdbb",
   "metadata": {},
   "outputs": [
    {
     "name": "stdout",
     "output_type": "stream",
     "text": [
      "Özgür\n",
      "Güngör\n"
     ]
    }
   ],
   "source": [
    "a,b = isim_soyisim_ayirma(\"Özgür Güngör\")\n",
    "print(a)\n",
    "print(b)"
   ]
  },
  {
   "cell_type": "markdown",
   "id": "1fcc8c76-d6e2-4a29-ac55-d072c2eb744e",
   "metadata": {},
   "source": [
    "### *args Argümanı"
   ]
  },
  {
   "cell_type": "code",
   "execution_count": 37,
   "id": "d9c0e624-c4ff-48e1-8774-925779bbdbd7",
   "metadata": {},
   "outputs": [
    {
     "data": {
      "text/plain": [
       "'Gökce Gün'"
      ]
     },
     "execution_count": 37,
     "metadata": {},
     "output_type": "execute_result"
    }
   ],
   "source": [
    "\" \".join([\"Gökce\", \"Gün\"])"
   ]
  },
  {
   "cell_type": "code",
   "execution_count": 38,
   "id": "aa77fca4-7728-47ac-a4cd-9faf9817dc72",
   "metadata": {},
   "outputs": [],
   "source": [
    "def isim_soyisim_birlestir(isim, soyisim):\n",
    "    return \" \".join([isim],[soyisim])"
   ]
  },
  {
   "cell_type": "code",
   "execution_count": 50,
   "id": "90e78788-1d57-435f-addb-dd513e0b2494",
   "metadata": {},
   "outputs": [
    {
     "data": {
      "text/plain": [
       "'Oguzcan Bozkurt'"
      ]
     },
     "execution_count": 50,
     "metadata": {},
     "output_type": "execute_result"
    }
   ],
   "source": [
    "isim_soyisim_birlestir(\"Oguzcan\", \"Bozkurt\")"
   ]
  },
  {
   "cell_type": "code",
   "execution_count": 49,
   "id": "9e272d03-b3a2-4d9c-af16-22a5604c15a4",
   "metadata": {},
   "outputs": [
    {
     "data": {
      "text/plain": [
       "'Erol Mesut Gün'"
      ]
     },
     "execution_count": 49,
     "metadata": {},
     "output_type": "execute_result"
    }
   ],
   "source": [
    "isim_soyisim_birlestir(\"Erol\", \"Mesut\", \"Gün\")"
   ]
  },
  {
   "cell_type": "code",
   "execution_count": 53,
   "id": "b6a795b5-41a1-428f-9f75-bd02f1171f4c",
   "metadata": {},
   "outputs": [],
   "source": [
    "def isim_soyisim_birlestir(*args):\n",
    "    for item in args:\n",
    "        print(item)\n",
    "    return \" \".join(args)"
   ]
  },
  {
   "cell_type": "code",
   "execution_count": 54,
   "id": "00fd04dd-4514-4c50-a362-2c7dc8370007",
   "metadata": {},
   "outputs": [
    {
     "name": "stdout",
     "output_type": "stream",
     "text": [
      "Erol\n",
      "Mesut\n",
      "Gün\n"
     ]
    },
    {
     "data": {
      "text/plain": [
       "'Erol Mesut Gün'"
      ]
     },
     "execution_count": 54,
     "metadata": {},
     "output_type": "execute_result"
    }
   ],
   "source": [
    "isim_soyisim_birlestir(\"Erol\", \"Mesut\", \"Gün\")"
   ]
  },
  {
   "cell_type": "code",
   "execution_count": 55,
   "id": "4d7d184c-e429-498b-a39f-8e282785cc90",
   "metadata": {},
   "outputs": [],
   "source": [
    "def gobek_adi_yazdir(**kwargs):\n",
    "    if 'gobekadi' in kwargs:\n",
    "        print(kwargs['gobekadi'])\n",
    "    else:\n",
    "        print(\"Gobek Adi Yok\")"
   ]
  },
  {
   "cell_type": "code",
   "execution_count": 56,
   "id": "8a2e5b58-d92e-4577-a15e-6d708abc9d39",
   "metadata": {},
   "outputs": [
    {
     "ename": "TypeError",
     "evalue": "gobek_adi_yazdir() takes 0 positional arguments but 2 were given",
     "output_type": "error",
     "traceback": [
      "\u001b[1;31m---------------------------------------------------------------------------\u001b[0m",
      "\u001b[1;31mTypeError\u001b[0m                                 Traceback (most recent call last)",
      "Cell \u001b[1;32mIn[56], line 1\u001b[0m\n\u001b[1;32m----> 1\u001b[0m gobek_adi_yazdir(\u001b[38;5;241m19\u001b[39m,\u001b[38;5;241m21\u001b[39m)\n",
      "\u001b[1;31mTypeError\u001b[0m: gobek_adi_yazdir() takes 0 positional arguments but 2 were given"
     ]
    }
   ],
   "source": [
    "gobek_adi_yazdir(19,21)"
   ]
  },
  {
   "cell_type": "code",
   "execution_count": 57,
   "id": "41a9ddbd-0d6d-4464-876e-daaded34c76c",
   "metadata": {},
   "outputs": [
    {
     "name": "stdout",
     "output_type": "stream",
     "text": [
      "Mesut\n"
     ]
    }
   ],
   "source": [
    "gobek_adi_yazdir(adi=\"Erol\", gobekadi=\"Mesut\", soyadi=\"Gün\")"
   ]
  },
  {
   "cell_type": "code",
   "execution_count": 58,
   "id": "35d9f6d3-2c95-49db-9bdc-bb549cb949eb",
   "metadata": {},
   "outputs": [
    {
     "name": "stdout",
     "output_type": "stream",
     "text": [
      "Gobek Adi Yok\n"
     ]
    }
   ],
   "source": [
    "gobek_adi_yazdir(adi=\"Gokce\", soyadi=\"Gün\")"
   ]
  },
  {
   "cell_type": "markdown",
   "id": "e01b6a13-c032-4ca2-8aeb-35cf772763cd",
   "metadata": {},
   "source": [
    "### map,filter ve lambda Expressions"
   ]
  },
  {
   "cell_type": "code",
   "execution_count": 1,
   "id": "b98c4642-2415-4e66-b0f6-f56ba2d59aab",
   "metadata": {},
   "outputs": [],
   "source": [
    "def karesini_al(x):\n",
    "    return x**2"
   ]
  },
  {
   "cell_type": "code",
   "execution_count": 2,
   "id": "f4eca0a8-9f39-4be9-8945-fa0e8beb5034",
   "metadata": {},
   "outputs": [
    {
     "data": {
      "text/plain": [
       "25"
      ]
     },
     "execution_count": 2,
     "metadata": {},
     "output_type": "execute_result"
    }
   ],
   "source": [
    "karesini_al(5)"
   ]
  },
  {
   "cell_type": "code",
   "execution_count": 3,
   "id": "42934718-7592-4395-ac91-b9fc4292487f",
   "metadata": {},
   "outputs": [
    {
     "data": {
      "text/plain": [
       "[1, 2, 3, 4, 5]"
      ]
     },
     "execution_count": 3,
     "metadata": {},
     "output_type": "execute_result"
    }
   ],
   "source": [
    "sayilar = [*range(1,6)]\n",
    "sayilar"
   ]
  },
  {
   "cell_type": "code",
   "execution_count": 4,
   "id": "3d2dac0d-e386-4367-903d-51fdc8386c59",
   "metadata": {},
   "outputs": [
    {
     "name": "stdout",
     "output_type": "stream",
     "text": [
      "[1, 2, 3, 4, 5]\n",
      "[1, 4, 9, 16, 25]\n"
     ]
    }
   ],
   "source": [
    "sayilar = [*range(1,6)]\n",
    "print(sayilar)\n",
    "for index in range(len(sayilar)):\n",
    "    sayilar[index] = karesini_al(sayilar[index])\n",
    "print(sayilar)"
   ]
  },
  {
   "cell_type": "code",
   "execution_count": 5,
   "id": "6f0de1a8-4aa6-4b6d-9cab-fc3ce2d8ea59",
   "metadata": {},
   "outputs": [
    {
     "data": {
      "text/plain": [
       "[1, 4, 9, 16, 25]"
      ]
     },
     "execution_count": 5,
     "metadata": {},
     "output_type": "execute_result"
    }
   ],
   "source": [
    "sayilar = [*range(1,6)]\n",
    "[*map(karesini_al, sayilar)]"
   ]
  },
  {
   "cell_type": "code",
   "execution_count": 6,
   "id": "528bc94b-8054-44ac-b994-59240e51dc0d",
   "metadata": {},
   "outputs": [],
   "source": [
    "def cift_sayilari_filtrele(x):\n",
    "    if x%2==0:\n",
    "        return x\n",
    "    #else:\n",
    "    #    return None"
   ]
  },
  {
   "cell_type": "code",
   "execution_count": 9,
   "id": "40936ed6-68bd-4631-9bfd-3d4b135f126b",
   "metadata": {},
   "outputs": [
    {
     "data": {
      "text/plain": [
       "10"
      ]
     },
     "execution_count": 9,
     "metadata": {},
     "output_type": "execute_result"
    }
   ],
   "source": [
    "cift_sayilari_filtrele(10)"
   ]
  },
  {
   "cell_type": "code",
   "execution_count": 10,
   "id": "ce149971-9c9c-4f69-8471-7f1b53596603",
   "metadata": {},
   "outputs": [],
   "source": [
    "def cift_sayilari_filtrele(x):\n",
    "    return x if x%2==0 else None"
   ]
  },
  {
   "cell_type": "code",
   "execution_count": 11,
   "id": "7c933f83-6f44-4d77-aaef-ddf985765560",
   "metadata": {},
   "outputs": [
    {
     "data": {
      "text/plain": [
       "10"
      ]
     },
     "execution_count": 11,
     "metadata": {},
     "output_type": "execute_result"
    }
   ],
   "source": [
    "cift_sayilari_filtrele(10)"
   ]
  },
  {
   "cell_type": "code",
   "execution_count": 13,
   "id": "f7796297-d1d1-4c9f-9ed9-e913cd5d5265",
   "metadata": {},
   "outputs": [
    {
     "data": {
      "text/plain": [
       "[2, 4]"
      ]
     },
     "execution_count": 13,
     "metadata": {},
     "output_type": "execute_result"
    }
   ],
   "source": [
    "sayilar = [*range(1,6)]\n",
    "[*filter(cift_sayilari_filtrele,sayilar)]"
   ]
  },
  {
   "cell_type": "code",
   "execution_count": 14,
   "id": "9935618f-0ae7-4503-a105-4272d7f45cf3",
   "metadata": {},
   "outputs": [],
   "source": [
    "def karesini_al(x):\n",
    "    return x**2"
   ]
  },
  {
   "cell_type": "code",
   "execution_count": 16,
   "id": "d14bd405-32fd-4127-8d13-394958e58446",
   "metadata": {},
   "outputs": [
    {
     "data": {
      "text/plain": [
       "[1, 4, 9, 16, 25]"
      ]
     },
     "execution_count": 16,
     "metadata": {},
     "output_type": "execute_result"
    }
   ],
   "source": [
    "sayilar = [*range(1,6)]\n",
    "[*list(map(lambda x: x**2, sayilar))]"
   ]
  },
  {
   "cell_type": "code",
   "execution_count": 17,
   "id": "8325107f-d186-4840-9de3-f68ee04609e5",
   "metadata": {},
   "outputs": [
    {
     "data": {
      "text/plain": [
       "[2, 4]"
      ]
     },
     "execution_count": 17,
     "metadata": {},
     "output_type": "execute_result"
    }
   ],
   "source": [
    "sayilar = [*range(1,6)]\n",
    "[*filter(lambda x: x if x%2==0 else None, sayilar)]"
   ]
  },
  {
   "cell_type": "markdown",
   "id": "865fec9c-5a91-40af-957c-d8afc6cbacdb",
   "metadata": {},
   "source": [
    "### Kullanici Girisi"
   ]
  },
  {
   "cell_type": "code",
   "execution_count": 18,
   "id": "bc4045c6-c72c-4777-9221-b252948e30cd",
   "metadata": {},
   "outputs": [
    {
     "name": "stdin",
     "output_type": "stream",
     "text": [
      "Bir sayi girin: 5\n"
     ]
    },
    {
     "data": {
      "text/plain": [
       "'5'"
      ]
     },
     "execution_count": 18,
     "metadata": {},
     "output_type": "execute_result"
    }
   ],
   "source": [
    "input(\"Bir sayi girin:\")"
   ]
  },
  {
   "cell_type": "code",
   "execution_count": 19,
   "id": "c3d3aa78-07c0-4d83-8ef9-87f713b87ba2",
   "metadata": {},
   "outputs": [
    {
     "name": "stdin",
     "output_type": "stream",
     "text": [
      "Bir sayi girin: 10\n"
     ]
    },
    {
     "data": {
      "text/plain": [
       "str"
      ]
     },
     "execution_count": 19,
     "metadata": {},
     "output_type": "execute_result"
    }
   ],
   "source": [
    "girdi = input(\"Bir sayi girin:\")\n",
    "type(girdi)"
   ]
  },
  {
   "cell_type": "code",
   "execution_count": 20,
   "id": "9d4b46db-9521-4519-8db0-f2b23c4079a6",
   "metadata": {},
   "outputs": [
    {
     "name": "stdin",
     "output_type": "stream",
     "text": [
      "Bir sayi girin: 18\n"
     ]
    },
    {
     "data": {
      "text/plain": [
       "int"
      ]
     },
     "execution_count": 20,
     "metadata": {},
     "output_type": "execute_result"
    }
   ],
   "source": [
    "girdi = input(\"Bir sayi girin:\")\n",
    "type(int(girdi))"
   ]
  },
  {
   "cell_type": "code",
   "execution_count": 24,
   "id": "636114c6-67d6-46e8-983c-104ac4bca4b0",
   "metadata": {},
   "outputs": [],
   "source": [
    "def uygulama():\n",
    "    girdi = input(\"Bir sayi girin:\")\n",
    "    islem = input(\"Verinin tek mi cift mi olduğunu sorgula:\")\n",
    "\n",
    "    if islem=='cift':\n",
    "        if int(girdi)%2==0:\n",
    "            return 'Evet {} sayisi bir çift sayidir'.format(girdi)\n",
    "        else:\n",
    "            return 'Hayır {} sayisi bir çift sayı değildir'.format(girdi)\n",
    "    elif islem=='tek':\n",
    "        if int(girdi)%2==1:\n",
    "            return 'Evet {} sayisi  tek sayidir'.format(girdi)\n",
    "        else:\n",
    "            return 'Hayır {} sayisi  tek sayi değildir'.format(girdi)"
   ]
  },
  {
   "cell_type": "code",
   "execution_count": 26,
   "id": "fb0abe7c-73ef-4f59-98f7-dd959a381d7b",
   "metadata": {},
   "outputs": [
    {
     "name": "stdin",
     "output_type": "stream",
     "text": [
      "Bir sayi girin: 4\n",
      "Verinin tek mi cift mi olduğunu sorgula: cift\n"
     ]
    },
    {
     "data": {
      "text/plain": [
       "'Evet 4 sayisi bir çift sayidir'"
      ]
     },
     "execution_count": 26,
     "metadata": {},
     "output_type": "execute_result"
    }
   ],
   "source": [
    "uygulama()"
   ]
  },
  {
   "cell_type": "markdown",
   "id": "0654cdf4-9844-4c03-a30f-53c85bab4c02",
   "metadata": {},
   "source": [
    "### Kullanici girisini onaylamak"
   ]
  },
  {
   "cell_type": "code",
   "execution_count": 27,
   "id": "8bdeac75-9579-4a3a-b1f2-91e9d77a458e",
   "metadata": {},
   "outputs": [],
   "source": [
    "def sayi_girdisi_kontrol():\n",
    "    girdi = input(\"Bir sayi giriniz:\")\n",
    "\n",
    "    if girdi.isdigit():\n",
    "        print(\"Tebrikler! Sayi tipi deger girdiniz...\")\n",
    "    else:\n",
    "        print(\"Üzgünüm! Bu bir sayi tipi degisken degildir..\")"
   ]
  },
  {
   "cell_type": "code",
   "execution_count": 28,
   "id": "0af7c7c5-3220-4bdc-9420-a7e54f4f4aa1",
   "metadata": {},
   "outputs": [
    {
     "name": "stdin",
     "output_type": "stream",
     "text": [
      "Bir sayi giriniz: a\n"
     ]
    },
    {
     "name": "stdout",
     "output_type": "stream",
     "text": [
      "Üzgünüm! Bu bir sayi tipi degisken degildir..\n"
     ]
    }
   ],
   "source": [
    "sayi_girdisi_kontrol()"
   ]
  },
  {
   "cell_type": "code",
   "execution_count": 29,
   "id": "5778a061-374a-47f9-bbf5-c07a667a5dc2",
   "metadata": {},
   "outputs": [
    {
     "name": "stdin",
     "output_type": "stream",
     "text": [
      "Bir sayi giriniz: 5\n"
     ]
    },
    {
     "name": "stdout",
     "output_type": "stream",
     "text": [
      "Tebrikler! Sayi tipi deger girdiniz...\n"
     ]
    }
   ],
   "source": [
    "sayi_girdisi_kontrol()"
   ]
  },
  {
   "cell_type": "code",
   "execution_count": 32,
   "id": "9fb9e31b-64bb-464f-9cdd-c8ab7d353d4c",
   "metadata": {},
   "outputs": [],
   "source": [
    "def sayi_girdisi_kontrol_dongu():\n",
    "    girdi = input(\"Bir sayi giriniz:\")\n",
    "    tekrar = 0\n",
    "    while not girdi.isdigit():\n",
    "        print(\"Üzgünüm! Vu bir sayi tipi degisken degildir...\")\n",
    "        girdi = input(\"Bir sayi giriniz:\")\n",
    "    else:\n",
    "        print(\"Tebrikler! Sayi tipi deger girdiniz...\")"
   ]
  },
  {
   "cell_type": "code",
   "execution_count": 34,
   "id": "4f7dfe21-47d7-4c59-8556-1b0fe1c40929",
   "metadata": {},
   "outputs": [
    {
     "name": "stdin",
     "output_type": "stream",
     "text": [
      "Bir sayi giriniz: 3\n"
     ]
    },
    {
     "name": "stdout",
     "output_type": "stream",
     "text": [
      "Tebrikler! Sayi tipi deger girdiniz...\n"
     ]
    }
   ],
   "source": [
    "sayi_girdisi_kontrol_dongu()"
   ]
  },
  {
   "cell_type": "code",
   "execution_count": 4,
   "id": "d342b1fb-a371-49bd-9c8d-a92e92a98b22",
   "metadata": {},
   "outputs": [
    {
     "ename": "SyntaxError",
     "evalue": "invalid syntax (3076358776.py, line 6)",
     "output_type": "error",
     "traceback": [
      "\u001b[1;36m  Cell \u001b[1;32mIn[4], line 6\u001b[1;36m\u001b[0m\n\u001b[1;33m    while:\u001b[0m\n\u001b[1;37m         ^\u001b[0m\n\u001b[1;31mSyntaxError\u001b[0m\u001b[1;31m:\u001b[0m invalid syntax\n"
     ]
    }
   ],
   "source": [
    "def eposta_kontrol():\n",
    "    # ozgurgungoor@icloud.com\n",
    "\n",
    "    girdi = input(\"Gecerli bir e posta adresi giriniz:\")\n",
    "\n",
    "    while:\n",
    "          print(\"Üzgünüm! Bu gecerli bir E-posta adresi degildir...\")\n",
    "          girdi = input(\"Gecerli bir E-posta adresi giriniz...\")\n",
    "    else:\n",
    "        print(\"Tebrikler! E posta adresinize başarıyla giriş yaptiniz...\")"
   ]
  },
  {
   "cell_type": "code",
   "execution_count": 5,
   "id": "1521b421-53cb-4646-ac0d-348c9158add3",
   "metadata": {},
   "outputs": [
    {
     "ename": "NameError",
     "evalue": "name 'degisken' is not defined",
     "output_type": "error",
     "traceback": [
      "\u001b[1;31m---------------------------------------------------------------------------\u001b[0m",
      "\u001b[1;31mNameError\u001b[0m                                 Traceback (most recent call last)",
      "Cell \u001b[1;32mIn[5], line 1\u001b[0m\n\u001b[1;32m----> 1\u001b[0m \u001b[38;5;124m'\u001b[39m\u001b[38;5;124ms\u001b[39m\u001b[38;5;124m'\u001b[39m \u001b[38;5;129;01min\u001b[39;00m degisken\n",
      "\u001b[1;31mNameError\u001b[0m: name 'degisken' is not defined"
     ]
    }
   ],
   "source": [
    "'s' in degisken"
   ]
  },
  {
   "cell_type": "markdown",
   "id": "b8383026-e241-4e61-ab43-9781e7bd8995",
   "metadata": {},
   "source": [
    "### Try, Except ve Finally Komutlari"
   ]
  },
  {
   "cell_type": "code",
   "execution_count": 10,
   "id": "99de88c7-91fd-4f89-9e21-649791d10ea1",
   "metadata": {},
   "outputs": [
    {
     "data": {
      "text/plain": [
       "1"
      ]
     },
     "execution_count": 10,
     "metadata": {},
     "output_type": "execute_result"
    }
   ],
   "source": [
    "round(1.2)"
   ]
  },
  {
   "cell_type": "code",
   "execution_count": 9,
   "id": "cebaa617-b202-4149-a34a-076c3b299e5e",
   "metadata": {},
   "outputs": [
    {
     "data": {
      "text/plain": [
       "2"
      ]
     },
     "execution_count": 9,
     "metadata": {},
     "output_type": "execute_result"
    }
   ],
   "source": [
    "round(1.6)"
   ]
  },
  {
   "cell_type": "markdown",
   "id": "d08e9340-714e-4cf1-a975-1b00d0c97b08",
   "metadata": {},
   "source": [
    " deger hangisi daha yakınsa ona yuvarlıyor  örnek 1.3  1 e "
   ]
  },
  {
   "cell_type": "code",
   "execution_count": 12,
   "id": "1c3b0f56-a5f3-4071-9742-7d5bf2def311",
   "metadata": {},
   "outputs": [],
   "source": [
    "def tam_sayiya_cevir():\n",
    "    girdi = input(\"Bir ondalik sayi giriniz:\")\n",
    "\n",
    "    #print(\"Yuvarlama isleminin sonucu: {}\".format(round(float(girdi))))\n",
    "\n",
    "    try:\n",
    "        girdi = float(girdi)\n",
    "        print = (\"Yuvarlama isleminin sonucu: {}\".format(round(girdi)))\n",
    "    except:\n",
    "        print(\"{} girdisi ondalik tipe çevrilmiyor\".format(girdi))"
   ]
  },
  {
   "cell_type": "code",
   "execution_count": 17,
   "id": "f99c9ea5-9b5e-434a-975d-b3dfcaf3c771",
   "metadata": {},
   "outputs": [
    {
     "name": "stdin",
     "output_type": "stream",
     "text": [
      "Bir ondalik sayi giriniz: 10\n"
     ]
    }
   ],
   "source": [
    "tam_sayiya_cevir()"
   ]
  },
  {
   "cell_type": "code",
   "execution_count": 25,
   "id": "125d509a-837a-4ddc-b992-9178d0282990",
   "metadata": {},
   "outputs": [],
   "source": [
    "def tam_sayiya_cevir():\n",
    "    girdi = input(\"Bir ondalik sayi giriniz:\")\n",
    "\n",
    "    #print(\"Yuvarlama isleminin sonucu: {}\".format(round(float(girdi))))\n",
    "\n",
    "    try:\n",
    "        girdi = float(girdi)\n",
    "    except:\n",
    "        print(\"{} girdisi ondalik tipe cevrilmiyor\".format(girdi))\n",
    "    else:\n",
    "        print(\"Yuvarlama isleminin sonucu: {}\".format(round(girdi)))"
   ]
  },
  {
   "cell_type": "code",
   "execution_count": 26,
   "id": "20dc528b-5ccc-428c-83bf-1c52fca00897",
   "metadata": {},
   "outputs": [
    {
     "name": "stdin",
     "output_type": "stream",
     "text": [
      "Bir ondalik sayi giriniz: 1.7\n"
     ]
    },
    {
     "name": "stdout",
     "output_type": "stream",
     "text": [
      "Yuvarlama isleminin sonucu: 2\n"
     ]
    }
   ],
   "source": [
    "tam_sayiya_cevir()"
   ]
  },
  {
   "cell_type": "code",
   "execution_count": 29,
   "id": "7b1c72ea-6097-4657-8fca-b76e6cbf5fa1",
   "metadata": {},
   "outputs": [],
   "source": [
    "def tam_sayiya_cevir():\n",
    "    girdi = input(\"Bir ondalik sayi giriniz:\")\n",
    "\n",
    "    status = ''\n",
    "    \n",
    "    try:\n",
    "        girdi = float(girdi)\n",
    "        print(\"Yuvarlama isleminin sonucu: {}\".format(round(girdi)))\n",
    "        status = 'basarili'\n",
    "    except:\n",
    "        print(\"{} girdisi ondalik tipe çevrilmiyor\".format(girdi))\n",
    "        status = 'basarisiz'\n",
    "    finally:\n",
    "        print('Tam sayiya cevirme islemi {} olarak tamamlandi!'.format(status))"
   ]
  },
  {
   "cell_type": "code",
   "execution_count": 31,
   "id": "f122fa3b-1ab1-4337-9bce-ae9f1f33e914",
   "metadata": {},
   "outputs": [
    {
     "name": "stdin",
     "output_type": "stream",
     "text": [
      "Bir ondalik sayi giriniz: a\n"
     ]
    },
    {
     "name": "stdout",
     "output_type": "stream",
     "text": [
      "a girdisi ondalik tipe çevrilmiyor\n",
      "Tam sayiya cevirme islemi basarisiz olarak tamamlandi!\n"
     ]
    }
   ],
   "source": [
    "tam_sayiya_cevir()"
   ]
  },
  {
   "cell_type": "code",
   "execution_count": 38,
   "id": "8964fb42-87fa-4d44-ac38-172329d64b56",
   "metadata": {},
   "outputs": [],
   "source": [
    "def tam_sayiya_cevir_dongu():\n",
    "\n",
    "    while True:\n",
    "        girdi = input(\"Bir ondalik sayi giriniz:\")\n",
    "\n",
    "        try:\n",
    "            girdi = float(girdi)\n",
    "            print(\"Yuvarlama isleminin sonucu: {}\".format(round(girdi)))\n",
    "            break\n",
    "        except:\n",
    "            print(\"{} girdisi ondalik tipe çevrilmiyor\".format(girdi))\n",
    "            pass"
   ]
  },
  {
   "cell_type": "code",
   "execution_count": 39,
   "id": "d53cce8d-2533-449e-9f1f-2adaf7c859fb",
   "metadata": {},
   "outputs": [
    {
     "name": "stdin",
     "output_type": "stream",
     "text": [
      "Bir ondalik sayi giriniz: gdf\n"
     ]
    },
    {
     "name": "stdout",
     "output_type": "stream",
     "text": [
      "gdf girdisi ondalik tipe çevrilmiyor\n"
     ]
    },
    {
     "name": "stdin",
     "output_type": "stream",
     "text": [
      "Bir ondalik sayi giriniz: u\n"
     ]
    },
    {
     "name": "stdout",
     "output_type": "stream",
     "text": [
      "u girdisi ondalik tipe çevrilmiyor\n"
     ]
    },
    {
     "name": "stdin",
     "output_type": "stream",
     "text": [
      "Bir ondalik sayi giriniz: True\n"
     ]
    },
    {
     "name": "stdout",
     "output_type": "stream",
     "text": [
      "True girdisi ondalik tipe çevrilmiyor\n"
     ]
    },
    {
     "name": "stdin",
     "output_type": "stream",
     "text": [
      "Bir ondalik sayi giriniz: 8.5\n"
     ]
    },
    {
     "name": "stdout",
     "output_type": "stream",
     "text": [
      "Yuvarlama isleminin sonucu: 8\n"
     ]
    }
   ],
   "source": [
    "tam_sayiya_cevir_dongu()"
   ]
  },
  {
   "cell_type": "code",
   "execution_count": 40,
   "id": "b2670e8e-aa77-48d8-adaa-aa0d7cb6c14e",
   "metadata": {},
   "outputs": [
    {
     "ename": "TypeError",
     "evalue": "unsupported operand type(s) for +: 'int' and 'str'",
     "output_type": "error",
     "traceback": [
      "\u001b[1;31m---------------------------------------------------------------------------\u001b[0m",
      "\u001b[1;31mTypeError\u001b[0m                                 Traceback (most recent call last)",
      "Cell \u001b[1;32mIn[40], line 1\u001b[0m\n\u001b[1;32m----> 1\u001b[0m \u001b[38;5;241m5\u001b[39m \u001b[38;5;241m+\u001b[39m \u001b[38;5;124m'\u001b[39m\u001b[38;5;124ma\u001b[39m\u001b[38;5;124m'\u001b[39m\n",
      "\u001b[1;31mTypeError\u001b[0m: unsupported operand type(s) for +: 'int' and 'str'"
     ]
    }
   ],
   "source": [
    "5 + 'a'"
   ]
  },
  {
   "cell_type": "code",
   "execution_count": 51,
   "id": "c929ec2f-b117-45ef-942d-c8d7f8be6b65",
   "metadata": {},
   "outputs": [
    {
     "name": "stdout",
     "output_type": "stream",
     "text": [
      "kod düzgün calısmiyor\n"
     ]
    }
   ],
   "source": [
    "try:\n",
    "    5 + 'a'\n",
    "except IndexError:\n",
    "    print('girilen verilerle islem yapilamiyor')\n",
    "except:\n",
    "    print('kod düzgün calısmiyor')"
   ]
  },
  {
   "cell_type": "code",
   "execution_count": 41,
   "id": "f182956f-f4bf-407f-8bae-2c8b010e5013",
   "metadata": {},
   "outputs": [
    {
     "ename": "IndexError",
     "evalue": "list index out of range",
     "output_type": "error",
     "traceback": [
      "\u001b[1;31m---------------------------------------------------------------------------\u001b[0m",
      "\u001b[1;31mIndexError\u001b[0m                                Traceback (most recent call last)",
      "Cell \u001b[1;32mIn[41], line 2\u001b[0m\n\u001b[0;32m      1\u001b[0m liste \u001b[38;5;241m=\u001b[39m []\n\u001b[1;32m----> 2\u001b[0m liste[\u001b[38;5;241m4\u001b[39m]\n",
      "\u001b[1;31mIndexError\u001b[0m: list index out of range"
     ]
    }
   ],
   "source": [
    "liste = []\n",
    "liste[4]"
   ]
  },
  {
   "cell_type": "code",
   "execution_count": 52,
   "id": "85ff1f1a-5f4f-4aa4-bcda-1d53afcf70e0",
   "metadata": {},
   "outputs": [
    {
     "name": "stdout",
     "output_type": "stream",
     "text": [
      "Indexlemeye calistiginiz eleman listenin disinda\n"
     ]
    }
   ],
   "source": [
    "liste = []\n",
    "try:\n",
    "    liste[-1]\n",
    "except IndexError:\n",
    "    print('Indexlemeye calistiginiz eleman listenin disinda')\n",
    "except:\n",
    "    print('kod düzgün calısmiyor')"
   ]
  },
  {
   "cell_type": "code",
   "execution_count": 47,
   "id": "77f3e8a7-5023-471d-850b-bc3ef7a535ee",
   "metadata": {},
   "outputs": [
    {
     "data": {
      "text/plain": [
       "'Özgür'"
      ]
     },
     "execution_count": 47,
     "metadata": {},
     "output_type": "execute_result"
    }
   ],
   "source": [
    "vatandas = {\n",
    "    'AD': 'Özgür',\n",
    "    'TC_NO': 343422\n",
    "}\n",
    "\n",
    "vatandas['AD']"
   ]
  },
  {
   "cell_type": "code",
   "execution_count": 53,
   "id": "cdbc4123-dcae-4dcb-821e-01c13cd7bfb7",
   "metadata": {},
   "outputs": [
    {
     "name": "stdout",
     "output_type": "stream",
     "text": [
      "Aranan dictionaryde verilen anahtar degeri mevcut degil\n"
     ]
    }
   ],
   "source": [
    "vatandas = {\n",
    "    'AD': 'Özgür',\n",
    "    'TC_NO': 343422\n",
    "}\n",
    "\n",
    "\n",
    "\n",
    "try:\n",
    "    vatandas['PASS_NO']\n",
    "except IndexError:\n",
    "    print('Indexlemeye calistiginiz eleman listenin disinda')\n",
    "except KeyError:\n",
    "    print('Aranan dictionaryde verilen anahtar degeri mevcut degil')\n",
    "except:\n",
    "    print('kod düzgün calısmiyor')"
   ]
  },
  {
   "cell_type": "markdown",
   "id": "1bc6f879-f324-49db-a9f4-ecc594a78aa1",
   "metadata": {},
   "source": [
    "### Fonksiyon Uygulamasi"
   ]
  },
  {
   "cell_type": "markdown",
   "id": "ad76b0d9-232e-42ff-be0a-63f26adf8b39",
   "metadata": {},
   "source": [
    "### Bilgi:"
   ]
  },
  {
   "cell_type": "markdown",
   "id": "e858e20b-55e1-4d94-ba76-dacef6ce3cf9",
   "metadata": {},
   "source": [
    "3 üzeri 2 = 9 Python'da üstel sayilari hesaplamak için 3**2 seklinde gösterilir"
   ]
  },
  {
   "cell_type": "code",
   "execution_count": 1,
   "id": "80f2d364-4a12-413d-a332-3579140691c7",
   "metadata": {},
   "outputs": [
    {
     "data": {
      "text/plain": [
       "9"
      ]
     },
     "execution_count": 1,
     "metadata": {},
     "output_type": "execute_result"
    }
   ],
   "source": [
    "3**2"
   ]
  },
  {
   "cell_type": "markdown",
   "id": "10add4b5-b50b-4dd6-8945-75912af14ed8",
   "metadata": {},
   "source": [
    "### Soru1: Aşağidaki fonksiyonu 2 parametre alacak ve üstsel sonucu return edecek bicimde doldurun"
   ]
  },
  {
   "cell_type": "code",
   "execution_count": 4,
   "id": "1c1ca537-a27f-4704-813e-dbd3f3c9789a",
   "metadata": {},
   "outputs": [],
   "source": [
    "def ustel_sayi_v1(a,b):\n",
    "    return a**b"
   ]
  },
  {
   "cell_type": "code",
   "execution_count": 5,
   "id": "3dd0a09a-66b8-4337-a985-7eaecfe13740",
   "metadata": {},
   "outputs": [
    {
     "data": {
      "text/plain": [
       "9"
      ]
     },
     "execution_count": 5,
     "metadata": {},
     "output_type": "execute_result"
    }
   ],
   "source": [
    "ustel_sayi_v1(3,2)"
   ]
  },
  {
   "cell_type": "markdown",
   "id": "2d1e1b08-b1b9-4af6-8e24-050e42db7572",
   "metadata": {},
   "source": [
    "### Soru2: Aşagidaki parametre 2 fonksiyon alacak ve  üstel sonucu return edecek bicimde ve ** yerine for döngüsü ile hesaplayacak bicimde olusturun"
   ]
  },
  {
   "cell_type": "code",
   "execution_count": 37,
   "id": "4290d550-7fe6-4c9a-9f1b-13cea2272973",
   "metadata": {},
   "outputs": [],
   "source": [
    "def ustsel_sayi_v2(a, b):\n",
    "    sonuc = 1\n",
    "    if b < 1:\n",
    "        return sonuc\n",
    "    else:\n",
    "        for kuvvet in range(1, b + 1):\n",
    "            sonuc *= a\n",
    "        return sonuc"
   ]
  },
  {
   "cell_type": "code",
   "execution_count": 38,
   "id": "9dd33d42-00f8-4e61-9be1-31884c19c566",
   "metadata": {},
   "outputs": [
    {
     "data": {
      "text/plain": [
       "125"
      ]
     },
     "execution_count": 38,
     "metadata": {},
     "output_type": "execute_result"
    }
   ],
   "source": [
    "ustsel_sayi_v2(5,3)"
   ]
  },
  {
   "cell_type": "code",
   "execution_count": 43,
   "id": "3d9e91bc-a3ba-4925-8a8f-333af32a9c94",
   "metadata": {},
   "outputs": [
    {
     "data": {
      "text/plain": [
       "1"
      ]
     },
     "execution_count": 43,
     "metadata": {},
     "output_type": "execute_result"
    }
   ],
   "source": [
    "ustsel_sayi_v2(3,0)"
   ]
  },
  {
   "cell_type": "markdown",
   "id": "ca7978cd-5e18-4457-9d96-12f013c88643",
   "metadata": {},
   "source": [
    "### Bilgi:"
   ]
  },
  {
   "cell_type": "markdown",
   "id": "d19b9959-4fd9-4638-825b-6f08e64c461b",
   "metadata": {},
   "source": [
    ".sort() komutu ile listeyi kücükten büyüge siralar"
   ]
  },
  {
   "cell_type": "code",
   "execution_count": 15,
   "id": "7a65f762-8955-4a41-9d64-98f47731a310",
   "metadata": {},
   "outputs": [
    {
     "data": {
      "text/plain": [
       "9"
      ]
     },
     "execution_count": 15,
     "metadata": {},
     "output_type": "execute_result"
    }
   ],
   "source": [
    "3**2"
   ]
  },
  {
   "cell_type": "code",
   "execution_count": 22,
   "id": "73a77a52-a1f4-4626-a127-4cbd62683260",
   "metadata": {},
   "outputs": [
    {
     "data": {
      "text/plain": [
       "[1, 2, 3, 4, 5]"
      ]
     },
     "execution_count": 22,
     "metadata": {},
     "output_type": "execute_result"
    }
   ],
   "source": [
    "liste = [1,5,2,3,4]\n",
    "liste.sort()\n",
    "liste"
   ]
  },
  {
   "cell_type": "code",
   "execution_count": null,
   "id": "d51f3bef-a5ce-43d2-a68f-dc637996d325",
   "metadata": {},
   "outputs": [],
   "source": []
  },
  {
   "cell_type": "markdown",
   "id": "3769bb34-6c0e-4175-871a-46e9f9019448",
   "metadata": {},
   "source": [
    " ### Quiz Soru ve Cevapları"
   ]
  },
  {
   "cell_type": "markdown",
   "id": "cec5205e-b86e-4a24-9106-bcff6c426200",
   "metadata": {},
   "source": [
    "### Soru1: Aşagıdaki fonksiyonu 2 parametre alacak ve üstel sonucu return edecek bicimde duldurun"
   ]
  },
  {
   "cell_type": "code",
   "execution_count": 47,
   "id": "e74d41e7-3780-48c6-92b8-4bc368eb13ad",
   "metadata": {},
   "outputs": [],
   "source": [
    "def ustel_sayi_v1(sayi1,sayi2):\n",
    "\n",
    "\n",
    "    return sayi1**sayi2"
   ]
  },
  {
   "cell_type": "code",
   "execution_count": 48,
   "id": "22600ba8-3523-4591-8352-42976473b4c0",
   "metadata": {},
   "outputs": [
    {
     "data": {
      "text/plain": [
       "9"
      ]
     },
     "execution_count": 48,
     "metadata": {},
     "output_type": "execute_result"
    }
   ],
   "source": [
    "ustel_sayi_v1(3,2)"
   ]
  },
  {
   "cell_type": "markdown",
   "id": "a70de156-58b9-4f2d-ac76-2faa9c1ff6e7",
   "metadata": {},
   "source": [
    "### Soru2: Aşağıdaki fonksiyonu 2 parametre alacak ve üstel sonucu return edecek bicimde ve ** yerine for döngüsü ile hesaplayacak bicimde olusturun"
   ]
  },
  {
   "cell_type": "code",
   "execution_count": 49,
   "id": "261eda3b-022a-4ca2-96fa-99f566aa5343",
   "metadata": {},
   "outputs": [],
   "source": [
    "def ustel_sayi_v2(a, b):\n",
    "\n",
    "\n",
    "\n",
    "\n",
    "\n",
    "    sonuc = 1\n",
    "    for kuvvet in range (1,b+1):\n",
    "        sonuc = sonuc * a\n",
    "    return sonuc"
   ]
  },
  {
   "cell_type": "code",
   "execution_count": 52,
   "id": "c621a0da-7e1e-4d7a-8b28-0185ba421cc8",
   "metadata": {},
   "outputs": [
    {
     "data": {
      "text/plain": [
       "125"
      ]
     },
     "execution_count": 52,
     "metadata": {},
     "output_type": "execute_result"
    }
   ],
   "source": [
    "ustel_sayi_v2(5,3)"
   ]
  },
  {
   "cell_type": "markdown",
   "id": "ed4648c9-da84-49be-9115-dba4fbe82774",
   "metadata": {},
   "source": [
    "### Soru3: Asagidaki fonksiyonu bir parametre alacak (sadece sayilardan olusan liste tipinde) ve ne buyuk iki sayiyi dondurecek bicimde olusturun"
   ]
  },
  {
   "cell_type": "code",
   "execution_count": 53,
   "id": "bd9d437f-8434-442f-93e4-f73379b9b373",
   "metadata": {},
   "outputs": [],
   "source": [
    "def listedeki_en_buyuk_iki_sayi(liste):\n",
    "\n",
    "    liste.sort()\n",
    "    return liste[-1], liste[-2]"
   ]
  },
  {
   "cell_type": "code",
   "execution_count": 54,
   "id": "9f943850-d513-483e-af11-96e58ed40332",
   "metadata": {},
   "outputs": [
    {
     "data": {
      "text/plain": [
       "(10, 6)"
      ]
     },
     "execution_count": 54,
     "metadata": {},
     "output_type": "execute_result"
    }
   ],
   "source": [
    "deneme = [1,5,10,2,6]\n",
    "listedeki_en_buyuk_iki_sayi(deneme)"
   ]
  },
  {
   "cell_type": "code",
   "execution_count": null,
   "id": "78f8d127-9284-4821-9443-454f1b208513",
   "metadata": {},
   "outputs": [],
   "source": []
  },
  {
   "cell_type": "code",
   "execution_count": null,
   "id": "b5cf494d-040a-405d-a4d6-396cb00dfb4f",
   "metadata": {},
   "outputs": [],
   "source": []
  },
  {
   "cell_type": "code",
   "execution_count": null,
   "id": "d1062db4-93de-4a75-925c-4e00516dfc6f",
   "metadata": {},
   "outputs": [],
   "source": []
  },
  {
   "cell_type": "markdown",
   "id": "587fa140-c2f3-4d7b-8e85-db6481d2d220",
   "metadata": {},
   "source": [
    "### Python Dersleri #25 | Class Yapısı ve OOP (Object Oriented Programming) Giriş"
   ]
  },
  {
   "cell_type": "markdown",
   "id": "7cb7f763-440b-422e-be1e-34182151e62a",
   "metadata": {},
   "source": [
    "### Class Olusturma,Attribute'lar ve Method'lar"
   ]
  },
  {
   "cell_type": "code",
   "execution_count": 19,
   "id": "e4de5168-a3ef-458b-82b5-db2fa8003f44",
   "metadata": {},
   "outputs": [],
   "source": [
    "class Ucus():\n",
    "    havayolu = \"THY\""
   ]
  },
  {
   "cell_type": "code",
   "execution_count": 20,
   "id": "db9882f3-821a-4f7d-bafb-b2574765c5e8",
   "metadata": {},
   "outputs": [],
   "source": [
    "ucus1 = Ucus()"
   ]
  },
  {
   "cell_type": "code",
   "execution_count": 21,
   "id": "08eebcc1-28ed-4cbf-8201-1599884957b5",
   "metadata": {},
   "outputs": [
    {
     "data": {
      "text/plain": [
       "'THY'"
      ]
     },
     "execution_count": 21,
     "metadata": {},
     "output_type": "execute_result"
    }
   ],
   "source": [
    "ucus1.havayolu"
   ]
  },
  {
   "cell_type": "code",
   "execution_count": 44,
   "id": "15f23073-427f-40fb-a329-bd92c842ed09",
   "metadata": {},
   "outputs": [],
   "source": [
    "class Ucus():\n",
    "    havayolu = \"THY\"\n",
    "\n",
    "    def __init__(self, kod, kalkis, varis, sure, kapasite, yolcu):\n",
    "        self.kod = kod\n",
    "        self.kalkis = kalkis\n",
    "        self.varis = varis\n",
    "        self.sure = sure\n",
    "        self.kapasite = kapasite\n",
    "        self.yolcu = yolcu"
   ]
  },
  {
   "cell_type": "code",
   "execution_count": 45,
   "id": "91a40531-23e2-43e1-b20d-ec560c7a29a4",
   "metadata": {},
   "outputs": [
    {
     "ename": "TypeError",
     "evalue": "Ucus.__init__() missing 6 required positional arguments: 'kod', 'kalkis', 'varis', 'sure', 'kapasite', and 'yolcu'",
     "output_type": "error",
     "traceback": [
      "\u001b[1;31m---------------------------------------------------------------------------\u001b[0m",
      "\u001b[1;31mTypeError\u001b[0m                                 Traceback (most recent call last)",
      "Cell \u001b[1;32mIn[45], line 1\u001b[0m\n\u001b[1;32m----> 1\u001b[0m ucus2 \u001b[38;5;241m=\u001b[39m Ucus()\n",
      "\u001b[1;31mTypeError\u001b[0m: Ucus.__init__() missing 6 required positional arguments: 'kod', 'kalkis', 'varis', 'sure', 'kapasite', and 'yolcu'"
     ]
    }
   ],
   "source": [
    "ucus2 = Ucus()"
   ]
  },
  {
   "cell_type": "code",
   "execution_count": 46,
   "id": "42a8bf2d-e6f0-4b84-ae6d-adfe23b3ba6b",
   "metadata": {},
   "outputs": [],
   "source": [
    "ucus2 = Ucus('TK123', 'IST', 'ANK', 60, 300, 50)"
   ]
  },
  {
   "cell_type": "code",
   "execution_count": 47,
   "id": "59fa4585-7062-428f-95eb-174de1e5ebbb",
   "metadata": {},
   "outputs": [
    {
     "data": {
      "text/plain": [
       "'ANK'"
      ]
     },
     "execution_count": 47,
     "metadata": {},
     "output_type": "execute_result"
    }
   ],
   "source": [
    "ucus2.varis"
   ]
  },
  {
   "cell_type": "code",
   "execution_count": 48,
   "id": "11b87131-8ddc-464d-88e2-727fed4a9d29",
   "metadata": {},
   "outputs": [
    {
     "data": {
      "text/plain": [
       "'THY'"
      ]
     },
     "execution_count": 48,
     "metadata": {},
     "output_type": "execute_result"
    }
   ],
   "source": [
    "ucus2.havayolu"
   ]
  },
  {
   "cell_type": "code",
   "execution_count": 50,
   "id": "57236f1c-70b9-43e8-a0b4-d767bd4a6156",
   "metadata": {},
   "outputs": [],
   "source": [
    "ucus3 = Ucus('TK223', 'BOD', 'ANT', 40, 250, 250)"
   ]
  },
  {
   "cell_type": "code",
   "execution_count": 52,
   "id": "d8d0e4c3-4525-4044-8046-c451646a05a3",
   "metadata": {},
   "outputs": [
    {
     "data": {
      "text/plain": [
       "'THY'"
      ]
     },
     "execution_count": 52,
     "metadata": {},
     "output_type": "execute_result"
    }
   ],
   "source": [
    "ucus3.havayolu"
   ]
  },
  {
   "cell_type": "code",
   "execution_count": 53,
   "id": "78871521-1ace-4411-87d6-1933ae159ee2",
   "metadata": {},
   "outputs": [],
   "source": [
    "class Ucus():\n",
    "    havayolu = \"THY\"\n",
    "\n",
    "    def __init__(self, kod, kalkis, varis, sure, kapasite, yolcu):\n",
    "        self.kod = kod\n",
    "        self.kalkis = kalkis\n",
    "        self.varis = varis\n",
    "        self.sure = sure\n",
    "        self.kapasite = kapasite\n",
    "        self.yolcu = yolcu\n",
    "\n",
    "    def anons_yap(self):\n",
    "        return \"{} sayili sefer {}-{} ucusumuz {} dakika surecektir\".format(\n",
    "            self.kod,\n",
    "            self.kalkis,\n",
    "            self.varis,\n",
    "            self.sure)"
   ]
  },
  {
   "cell_type": "code",
   "execution_count": 54,
   "id": "691048d5-5765-4a92-82d1-39f0e21f311b",
   "metadata": {},
   "outputs": [],
   "source": [
    "ucus3 = Ucus('TK223','BOD','ANT', 40, 250, 250)"
   ]
  },
  {
   "cell_type": "code",
   "execution_count": 55,
   "id": "e8138354-c8e2-4539-aad9-687491b506d0",
   "metadata": {},
   "outputs": [
    {
     "data": {
      "text/plain": [
       "'TK223 sayili sefer BOD-ANT ucusumuz 40 dakika surecektir'"
      ]
     },
     "execution_count": 55,
     "metadata": {},
     "output_type": "execute_result"
    }
   ],
   "source": [
    "ucus3.anons_yap()"
   ]
  },
  {
   "cell_type": "code",
   "execution_count": 71,
   "id": "863a64bc-91d3-40a0-93fc-c1d281e5db24",
   "metadata": {},
   "outputs": [],
   "source": [
    "class Ucus():\n",
    "    havayolu = \"THY\"\n",
    "\n",
    "    def __init__(self, kod, kalkis, varis, sure, kapasite, yolcu):\n",
    "        self.kod = kod\n",
    "        self.kalkis = kalkis\n",
    "        self.varis = varis\n",
    "        self.sure = sure\n",
    "        self.kapasite = kapasite\n",
    "        self.yolcu = yolcu\n",
    "\n",
    "    def anons_yap(self):\n",
    "        return \"{} sayili sefer {}-{} ucusumuz {} dakika surecektir\".format(\n",
    "            self.kod,\n",
    "            self.kalkis,\n",
    "            self.varis,\n",
    "            self.sure)\n",
    "        \n",
    "    def koltuk_sayisi_güncelle(self):\n",
    "        return self.kapasite - self.yolcu\n",
    "        \n",
    "    def bilet_satis(self, bilet_adedi=1):\n",
    "        if self.yolcu + bilet_adedi <= self.kapasite:\n",
    "            self.yolcu += bilet_adedi\n",
    "            self.koltuk_sayisi_güncelle()\n",
    "            print('{} adet bilet satılmistir, kalan koltuk sayisi {}'.format(\n",
    "                bilet_adedi,\n",
    "                self.koltuk_sayisi_güncelle()))\n",
    "        else:\n",
    "            print('Islem gerçekleştirilemedi. Yetersiz koltuk sayisi..')"
   ]
  },
  {
   "cell_type": "code",
   "execution_count": 72,
   "id": "b2602d01-01c1-4ac4-8705-1d402ecbe1e9",
   "metadata": {},
   "outputs": [],
   "source": [
    "ucus3 = Ucus('TK223', 'BOD', 'ANT', 40, 250, 200)"
   ]
  },
  {
   "cell_type": "code",
   "execution_count": 73,
   "id": "af93cd9b-4301-49a9-993c-be9835afd1ec",
   "metadata": {},
   "outputs": [
    {
     "data": {
      "text/plain": [
       "50"
      ]
     },
     "execution_count": 73,
     "metadata": {},
     "output_type": "execute_result"
    }
   ],
   "source": [
    "ucus3.koltuk_sayisi_güncelle()"
   ]
  },
  {
   "cell_type": "code",
   "execution_count": 74,
   "id": "15c4a3d7-6004-4022-82b6-5b1d976645d2",
   "metadata": {},
   "outputs": [
    {
     "name": "stdout",
     "output_type": "stream",
     "text": [
      "5 adet bilet satılmistir, kalan koltuk sayisi 45\n"
     ]
    }
   ],
   "source": [
    "ucus3.bilet_satis(5)"
   ]
  },
  {
   "cell_type": "markdown",
   "id": "ea4ae2db-ac35-427a-849d-788b2c6e0af5",
   "metadata": {},
   "source": [
    "### Dunder Method'lar (Double Under Score)"
   ]
  },
  {
   "cell_type": "code",
   "execution_count": 75,
   "id": "c9817a19-df16-4552-98c0-61fc7f17eec3",
   "metadata": {},
   "outputs": [],
   "source": [
    "ucus3 = Ucus('TK223','BOD','ANT', 40, 250, 250)"
   ]
  },
  {
   "cell_type": "code",
   "execution_count": 77,
   "id": "8b724d6f-f32d-44fc-8f00-c132367b2d48",
   "metadata": {},
   "outputs": [
    {
     "data": {
      "text/plain": [
       "['kod',\n",
       " 'kalkis',\n",
       " 'varis',\n",
       " 'sure',\n",
       " 'kapasite',\n",
       " 'yolcu',\n",
       " '__module__',\n",
       " 'havayolu',\n",
       " '__init__',\n",
       " 'anons_yap',\n",
       " 'koltuk_sayisi_güncelle',\n",
       " 'bilet_satis',\n",
       " '__dict__',\n",
       " '__weakref__',\n",
       " '__doc__',\n",
       " '__new__',\n",
       " '__repr__',\n",
       " '__hash__',\n",
       " '__str__',\n",
       " '__getattribute__',\n",
       " '__setattr__',\n",
       " '__delattr__',\n",
       " '__lt__',\n",
       " '__le__',\n",
       " '__eq__',\n",
       " '__ne__',\n",
       " '__gt__',\n",
       " '__ge__',\n",
       " '__reduce_ex__',\n",
       " '__reduce__',\n",
       " '__getstate__',\n",
       " '__subclasshook__',\n",
       " '__init_subclass__',\n",
       " '__format__',\n",
       " '__sizeof__',\n",
       " '__dir__',\n",
       " '__class__']"
      ]
     },
     "execution_count": 77,
     "metadata": {},
     "output_type": "execute_result"
    }
   ],
   "source": [
    "ucus3.__dir__()"
   ]
  },
  {
   "cell_type": "code",
   "execution_count": 80,
   "id": "186b824d-b144-4f2c-aea5-fa8a8e177d02",
   "metadata": {},
   "outputs": [],
   "source": [
    "class Ucus():\n",
    "    havayolu = \"THY\"\n",
    "\n",
    "    def __init__(self, kod, kalkis, varis, sure, kapasite, yolcu):\n",
    "        self.kod = kod\n",
    "        self.kalkis = kalkis\n",
    "        self.varis = varis\n",
    "        self.sure = sure\n",
    "        self.kapasite = kapasite\n",
    "        self.yolcu = yolcu\n",
    "\n",
    "    def __repr__(self):\n",
    "        return \"{} sefer sayili ucus, sistemde olusturulmustur..\".format(self.kod)\n",
    "\n",
    "    \n",
    "    def anons_yap(self):\n",
    "        return \"{} sayili sefer {}-{} ucusumuz {} dakika surecektir\".format(\n",
    "            self.kod,\n",
    "            self.kalkis,\n",
    "            self.varis,\n",
    "            self.sure)\n",
    "        \n",
    "    def koltuk_sayisi_güncelle(self):\n",
    "        return self.kapasite - self.yolcu\n",
    "        \n",
    "    def bilet_satis(self, bilet_adedi=1):\n",
    "        if self.yolcu + bilet_adedi <= self.kapasite:\n",
    "            self.yolcu += bilet_adedi\n",
    "            self.koltuk_sayisi_güncelle()\n",
    "            print('{} adet bilet satılmistir, kalan koltuk sayisi {}'.format(\n",
    "                bilet_adedi,\n",
    "                self.koltuk_sayisi_güncelle()))\n",
    "        else:\n",
    "            print('Islem gerçekleştirilemedi. Yetersiz koltuk sayisi..')"
   ]
  },
  {
   "cell_type": "code",
   "execution_count": 81,
   "id": "3b5815d4-83b8-4bc2-8aa1-0928238da563",
   "metadata": {},
   "outputs": [],
   "source": [
    "ucus3 = Ucus('TK223','BOD','ANT', 40, 250, 250)"
   ]
  },
  {
   "cell_type": "code",
   "execution_count": 82,
   "id": "fe33f02f-ce61-4a8d-8854-d2521c670160",
   "metadata": {},
   "outputs": [
    {
     "data": {
      "text/plain": [
       "TK223 sefer sayili ucus, sistemde olusturulmustur.."
      ]
     },
     "execution_count": 82,
     "metadata": {},
     "output_type": "execute_result"
    }
   ],
   "source": [
    "ucus3"
   ]
  },
  {
   "cell_type": "markdown",
   "id": "2f639ead-8e18-4ec5-aefc-99757eea4cb2",
   "metadata": {},
   "source": [
    "### Kalıtım (Inheritance)"
   ]
  },
  {
   "cell_type": "code",
   "execution_count": 97,
   "id": "8f0325a9-caaa-48bd-bd6a-7504206903c9",
   "metadata": {},
   "outputs": [],
   "source": [
    "class Seyahat():\n",
    "\n",
    "    def __init__(self, kalkis, varis):\n",
    "        self.kalkis = kalkis\n",
    "        self.varis = varis\n",
    "\n",
    "    def anons(self):\n",
    "        return \"{}-{} seyahatine hoşgeldiniz.\".format(self.kalkis, self.varis)\n",
    "        \n",
    "class Otobus(Seyahat):\n",
    "\n",
    "    def __init__(self, mola_duraklari, kalkis, varis):\n",
    "        super().__init__(kalkis, varis)\n",
    "        self.mola_duraklari = mola_duraklari"
   ]
  },
  {
   "cell_type": "code",
   "execution_count": 86,
   "id": "14e6ec4e-f8b4-4efd-8397-029395a1a2fc",
   "metadata": {},
   "outputs": [
    {
     "data": {
      "text/plain": [
       "'ANT-BOD seyahatine hoşgeldiniz.'"
      ]
     },
     "execution_count": 86,
     "metadata": {},
     "output_type": "execute_result"
    }
   ],
   "source": [
    "seyahat1 = Seyahat('ANT','BOD')\n",
    "seyahat1.anons()"
   ]
  },
  {
   "cell_type": "code",
   "execution_count": 98,
   "id": "24d10a06-37cd-48fb-95c2-291e6767ddc5",
   "metadata": {},
   "outputs": [],
   "source": [
    "oto1 = Otobus(['FET', 'ALAN'], 'IST', 'ANK')"
   ]
  },
  {
   "cell_type": "code",
   "execution_count": 91,
   "id": "ea0f08ab-da92-4af6-899c-c0986ff29337",
   "metadata": {},
   "outputs": [
    {
     "data": {
      "text/plain": [
       "['FET', 'ALAN']"
      ]
     },
     "execution_count": 91,
     "metadata": {},
     "output_type": "execute_result"
    }
   ],
   "source": [
    "oto1.mola_duraklari"
   ]
  },
  {
   "cell_type": "code",
   "execution_count": 99,
   "id": "2ecddea3-3811-428c-9304-623e9ef614e3",
   "metadata": {},
   "outputs": [
    {
     "data": {
      "text/plain": [
       "'IST'"
      ]
     },
     "execution_count": 99,
     "metadata": {},
     "output_type": "execute_result"
    }
   ],
   "source": [
    "oto1.kalkis"
   ]
  },
  {
   "cell_type": "code",
   "execution_count": 100,
   "id": "657e5c8f-e431-4a47-bd33-04b1d0321f31",
   "metadata": {},
   "outputs": [
    {
     "data": {
      "text/plain": [
       "'IST-ANK seyahatine hoşgeldiniz.'"
      ]
     },
     "execution_count": 100,
     "metadata": {},
     "output_type": "execute_result"
    }
   ],
   "source": [
    "oto1.anons()"
   ]
  },
  {
   "cell_type": "markdown",
   "id": "be76e4b0-a361-493f-8cda-cd9585230ed5",
   "metadata": {},
   "source": [
    "### Python Dersleri #28 | Dosya ve Klasör Module'leri"
   ]
  },
  {
   "cell_type": "code",
   "execution_count": 102,
   "id": "eee1122f-43a8-4323-9842-1ee53237f983",
   "metadata": {},
   "outputs": [
    {
     "name": "stdout",
     "output_type": "stream",
     "text": [
      " Volume in drive C has no label.\n",
      " Volume Serial Number is 6C08-37E8\n",
      "\n",
      " Directory of C:\\Users\\ozgur\n",
      "\n",
      "11.05.2024  00:07    <DIR>          .\n",
      "14.04.2024  18:31    <DIR>          ..\n",
      "19.04.2024  19:08    <DIR>          .anaconda\n",
      "04.05.2024  01:22    <DIR>          .android\n",
      "04.05.2024  18:03    <DIR>          .conda\n",
      "04.05.2024  13:53                25 .condarc\n",
      "19.04.2024  19:08    <DIR>          .continuum\n",
      "03.05.2024  02:26    <DIR>          .dotnet\n",
      "09.05.2024  22:57               215 .gitconfig\n",
      "09.05.2024  22:59    <DIR>          .gk\n",
      "04.05.2024  13:00    <DIR>          .gnupg\n",
      "04.05.2024  01:18    <DIR>          .gradle\n",
      "06.05.2024  03:38    <DIR>          .idlerc\n",
      "08.05.2024  22:46    <DIR>          .ipynb_checkpoints\n",
      "04.05.2024  13:58    <DIR>          .ipython\n",
      "04.05.2024  13:54    <DIR>          .jupyter\n",
      "20.04.2024  08:57               682 .labelImgSettings.pkl\n",
      "08.05.2024  12:03    <DIR>          .librarymanager\n",
      "22.04.2024  01:28    <DIR>          .matplotlib\n",
      "15.04.2024  01:21    <DIR>          .nuget\n",
      "15.04.2024  01:03    <DIR>          .skiko\n",
      "22.03.2024  19:44    <DIR>          .templateengine\n",
      "04.05.2024  14:00    <DIR>          .virtual_documents\n",
      "04.05.2024  13:06    <DIR>          .vscode\n",
      "04.05.2024  13:52    <DIR>          anaconda3\n",
      "04.05.2024  01:47    <DIR>          AndroidStudioProjects\n",
      "20.04.2024  02:24               172 classes.txt\n",
      "22.03.2024  18:47    <DIR>          Contacts\n",
      "22.03.2024  23:31    <DIR>          Documents\n",
      "09.05.2024  16:48    <DIR>          Downloads\n",
      "22.03.2024  18:47    <DIR>          Favorites\n",
      "22.03.2024  18:47    <DIR>          Links\n",
      "22.03.2024  18:47    <DIR>          Music\n",
      "22.03.2024  20:26    <DIR>          OneDrive\n",
      "20.04.2024  02:24                39 pexels-drew-williams-1285451-2657669.txt\n",
      "15.04.2024  01:41    <DIR>          PycharmProjects\n",
      "06.05.2024  05:23    <DIR>          python.derslerim\n",
      "11.05.2024  00:07           104.223 python-derslerim.ipynb\n",
      "22.03.2024  18:47    <DIR>          Saved Games\n",
      "26.03.2024  01:01    <DIR>          Searches\n",
      "22.03.2024  19:45    <DIR>          source\n",
      "04.05.2024  13:58                72 Untitled.ipynb\n",
      "04.05.2024  03:48    <DIR>          Videos\n",
      "               7 File(s)        105.428 bytes\n",
      "              36 Dir(s)  288.844.828.672 bytes free\n"
     ]
    }
   ],
   "source": [
    "%ls"
   ]
  },
  {
   "cell_type": "code",
   "execution_count": 103,
   "id": "b611de9b-d869-48fc-a1dc-2133b683c8c0",
   "metadata": {},
   "outputs": [
    {
     "data": {
      "text/plain": [
       "'C:\\\\Users\\\\ozgur'"
      ]
     },
     "execution_count": 103,
     "metadata": {},
     "output_type": "execute_result"
    }
   ],
   "source": [
    "%pwd"
   ]
  },
  {
   "cell_type": "markdown",
   "id": "19e2a9bd-fbef-4397-b522-c2669262a8a3",
   "metadata": {},
   "source": [
    "### Navigasyon ve içerik  listeleme"
   ]
  },
  {
   "cell_type": "code",
   "execution_count": 104,
   "id": "25826966-b0d1-4ff0-935b-a2fbf35b136e",
   "metadata": {},
   "outputs": [],
   "source": [
    "import os"
   ]
  },
  {
   "cell_type": "code",
   "execution_count": 105,
   "id": "e965009d-1709-4e50-9c66-02486d6cc235",
   "metadata": {},
   "outputs": [
    {
     "data": {
      "text/plain": [
       "'C:\\\\Users\\\\ozgur'"
      ]
     },
     "execution_count": 105,
     "metadata": {},
     "output_type": "execute_result"
    }
   ],
   "source": [
    "os.getcwd()"
   ]
  },
  {
   "cell_type": "code",
   "execution_count": 106,
   "id": "56a551f4-d994-4565-ab93-b5f6d9d45251",
   "metadata": {},
   "outputs": [
    {
     "data": {
      "text/plain": [
       "['.anaconda',\n",
       " '.android',\n",
       " '.conda',\n",
       " '.condarc',\n",
       " '.continuum',\n",
       " '.dotnet',\n",
       " '.gitconfig',\n",
       " '.gk',\n",
       " '.gnupg',\n",
       " '.gradle',\n",
       " '.idlerc',\n",
       " '.ipynb_checkpoints',\n",
       " '.ipython',\n",
       " '.jupyter',\n",
       " '.labelImgSettings.pkl',\n",
       " '.librarymanager',\n",
       " '.matplotlib',\n",
       " '.nuget',\n",
       " '.skiko',\n",
       " '.templateengine',\n",
       " '.virtual_documents',\n",
       " '.vscode',\n",
       " 'anaconda3',\n",
       " 'AndroidStudioProjects',\n",
       " 'AppData',\n",
       " 'Application Data',\n",
       " 'Belgelerim',\n",
       " 'classes.txt',\n",
       " 'Contacts',\n",
       " 'Cookies',\n",
       " 'Documents',\n",
       " 'Downloads',\n",
       " 'Favorites',\n",
       " 'Links',\n",
       " 'Local Settings',\n",
       " 'Music',\n",
       " 'NetHood',\n",
       " 'NTUSER.DAT',\n",
       " 'ntuser.dat.LOG1',\n",
       " 'ntuser.dat.LOG2',\n",
       " 'NTUSER.DAT{ab639ba5-e858-11ee-a61c-3c7c3fd2ca96}.TM.blf',\n",
       " 'NTUSER.DAT{ab639ba5-e858-11ee-a61c-3c7c3fd2ca96}.TMContainer00000000000000000001.regtrans-ms',\n",
       " 'NTUSER.DAT{ab639ba5-e858-11ee-a61c-3c7c3fd2ca96}.TMContainer00000000000000000002.regtrans-ms',\n",
       " 'ntuser.ini',\n",
       " 'OneDrive',\n",
       " 'pexels-drew-williams-1285451-2657669.txt',\n",
       " 'PrintHood',\n",
       " 'PycharmProjects',\n",
       " 'python-derslerim.ipynb',\n",
       " 'python.derslerim',\n",
       " 'Recent',\n",
       " 'Saved Games',\n",
       " 'Searches',\n",
       " 'SendTo',\n",
       " 'source',\n",
       " 'Start Menu',\n",
       " 'Templates',\n",
       " 'Untitled.ipynb',\n",
       " 'Videos']"
      ]
     },
     "execution_count": 106,
     "metadata": {},
     "output_type": "execute_result"
    }
   ],
   "source": [
    "os.listdir()"
   ]
  },
  {
   "cell_type": "code",
   "execution_count": 107,
   "id": "a3b86d55-e863-4197-bfc4-0be45b9de4d5",
   "metadata": {},
   "outputs": [
    {
     "data": {
      "text/plain": [
       "['All Users', 'Default', 'Default User', 'desktop.ini', 'ozgur', 'Public']"
      ]
     },
     "execution_count": 107,
     "metadata": {},
     "output_type": "execute_result"
    }
   ],
   "source": [
    "os.listdir('C:\\\\Users')"
   ]
  },
  {
   "cell_type": "code",
   "execution_count": 108,
   "id": "e76ca2be-9055-4b7c-acb8-e6dd1284fe75",
   "metadata": {},
   "outputs": [
    {
     "data": {
      "text/plain": [
       "'C:\\\\Users'"
      ]
     },
     "execution_count": 108,
     "metadata": {},
     "output_type": "execute_result"
    }
   ],
   "source": [
    "os.chdir;('C:\\\\Users')"
   ]
  },
  {
   "cell_type": "code",
   "execution_count": 109,
   "id": "79cf524f-71a9-49b8-ab23-fa9b6058f7b0",
   "metadata": {},
   "outputs": [
    {
     "data": {
      "text/plain": [
       "['.anaconda',\n",
       " '.android',\n",
       " '.conda',\n",
       " '.condarc',\n",
       " '.continuum',\n",
       " '.dotnet',\n",
       " '.gitconfig',\n",
       " '.gk',\n",
       " '.gnupg',\n",
       " '.gradle',\n",
       " '.idlerc',\n",
       " '.ipynb_checkpoints',\n",
       " '.ipython',\n",
       " '.jupyter',\n",
       " '.labelImgSettings.pkl',\n",
       " '.librarymanager',\n",
       " '.matplotlib',\n",
       " '.nuget',\n",
       " '.skiko',\n",
       " '.templateengine',\n",
       " '.virtual_documents',\n",
       " '.vscode',\n",
       " 'anaconda3',\n",
       " 'AndroidStudioProjects',\n",
       " 'AppData',\n",
       " 'Application Data',\n",
       " 'Belgelerim',\n",
       " 'classes.txt',\n",
       " 'Contacts',\n",
       " 'Cookies',\n",
       " 'Documents',\n",
       " 'Downloads',\n",
       " 'Favorites',\n",
       " 'Links',\n",
       " 'Local Settings',\n",
       " 'Music',\n",
       " 'NetHood',\n",
       " 'NTUSER.DAT',\n",
       " 'ntuser.dat.LOG1',\n",
       " 'ntuser.dat.LOG2',\n",
       " 'NTUSER.DAT{ab639ba5-e858-11ee-a61c-3c7c3fd2ca96}.TM.blf',\n",
       " 'NTUSER.DAT{ab639ba5-e858-11ee-a61c-3c7c3fd2ca96}.TMContainer00000000000000000001.regtrans-ms',\n",
       " 'NTUSER.DAT{ab639ba5-e858-11ee-a61c-3c7c3fd2ca96}.TMContainer00000000000000000002.regtrans-ms',\n",
       " 'ntuser.ini',\n",
       " 'OneDrive',\n",
       " 'pexels-drew-williams-1285451-2657669.txt',\n",
       " 'PrintHood',\n",
       " 'PycharmProjects',\n",
       " 'python-derslerim.ipynb',\n",
       " 'python.derslerim',\n",
       " 'Recent',\n",
       " 'Saved Games',\n",
       " 'Searches',\n",
       " 'SendTo',\n",
       " 'source',\n",
       " 'Start Menu',\n",
       " 'Templates',\n",
       " 'Untitled.ipynb',\n",
       " 'Videos']"
      ]
     },
     "execution_count": 109,
     "metadata": {},
     "output_type": "execute_result"
    }
   ],
   "source": [
    "os.listdir()"
   ]
  },
  {
   "cell_type": "code",
   "execution_count": 110,
   "id": "d6dc3ddb-c1fb-4699-af76-cc9210ac5506",
   "metadata": {},
   "outputs": [],
   "source": [
    "os.chdir('C:\\\\Users\\\\ozgur')"
   ]
  },
  {
   "cell_type": "code",
   "execution_count": 111,
   "id": "ca4c141a-54f7-4b6a-be98-a274da8c968e",
   "metadata": {},
   "outputs": [
    {
     "data": {
      "text/plain": [
       "['.anaconda',\n",
       " '.android',\n",
       " '.conda',\n",
       " '.condarc',\n",
       " '.continuum',\n",
       " '.dotnet',\n",
       " '.gitconfig',\n",
       " '.gk',\n",
       " '.gnupg',\n",
       " '.gradle',\n",
       " '.idlerc',\n",
       " '.ipynb_checkpoints',\n",
       " '.ipython',\n",
       " '.jupyter',\n",
       " '.labelImgSettings.pkl',\n",
       " '.librarymanager',\n",
       " '.matplotlib',\n",
       " '.nuget',\n",
       " '.skiko',\n",
       " '.templateengine',\n",
       " '.virtual_documents',\n",
       " '.vscode',\n",
       " 'anaconda3',\n",
       " 'AndroidStudioProjects',\n",
       " 'AppData',\n",
       " 'Application Data',\n",
       " 'Belgelerim',\n",
       " 'classes.txt',\n",
       " 'Contacts',\n",
       " 'Cookies',\n",
       " 'Documents',\n",
       " 'Downloads',\n",
       " 'Favorites',\n",
       " 'Links',\n",
       " 'Local Settings',\n",
       " 'Music',\n",
       " 'NetHood',\n",
       " 'NTUSER.DAT',\n",
       " 'ntuser.dat.LOG1',\n",
       " 'ntuser.dat.LOG2',\n",
       " 'NTUSER.DAT{ab639ba5-e858-11ee-a61c-3c7c3fd2ca96}.TM.blf',\n",
       " 'NTUSER.DAT{ab639ba5-e858-11ee-a61c-3c7c3fd2ca96}.TMContainer00000000000000000001.regtrans-ms',\n",
       " 'NTUSER.DAT{ab639ba5-e858-11ee-a61c-3c7c3fd2ca96}.TMContainer00000000000000000002.regtrans-ms',\n",
       " 'ntuser.ini',\n",
       " 'OneDrive',\n",
       " 'pexels-drew-williams-1285451-2657669.txt',\n",
       " 'PrintHood',\n",
       " 'PycharmProjects',\n",
       " 'python-derslerim.ipynb',\n",
       " 'python.derslerim',\n",
       " 'Recent',\n",
       " 'Saved Games',\n",
       " 'Searches',\n",
       " 'SendTo',\n",
       " 'source',\n",
       " 'Start Menu',\n",
       " 'Templates',\n",
       " 'Untitled.ipynb',\n",
       " 'Videos']"
      ]
     },
     "execution_count": 111,
     "metadata": {},
     "output_type": "execute_result"
    }
   ],
   "source": [
    "os.listdir()"
   ]
  },
  {
   "cell_type": "code",
   "execution_count": 112,
   "id": "5d8732c4-2e32-4873-a555-2fe7f0dac80c",
   "metadata": {},
   "outputs": [
    {
     "name": "stdout",
     "output_type": "stream",
     "text": [
      ".anacondaMESUT\n",
      ".androidMESUT\n",
      ".condaMESUT\n",
      ".condarcMESUT\n",
      ".continuumMESUT\n",
      ".dotnetMESUT\n",
      ".gitconfigMESUT\n",
      ".gkMESUT\n",
      ".gnupgMESUT\n",
      ".gradleMESUT\n",
      ".idlercMESUT\n",
      ".ipynb_checkpointsMESUT\n",
      ".ipythonMESUT\n",
      ".jupyterMESUT\n",
      ".labelImgSettings.pklMESUT\n",
      ".librarymanagerMESUT\n",
      ".matplotlibMESUT\n",
      ".nugetMESUT\n",
      ".skikoMESUT\n",
      ".templateengineMESUT\n",
      ".virtual_documentsMESUT\n",
      ".vscodeMESUT\n",
      "anaconda3MESUT\n",
      "AndroidStudioProjectsMESUT\n",
      "AppDataMESUT\n",
      "Application DataMESUT\n",
      "BelgelerimMESUT\n",
      "classes.txtMESUT\n",
      "ContactsMESUT\n",
      "CookiesMESUT\n",
      "DocumentsMESUT\n",
      "DownloadsMESUT\n",
      "FavoritesMESUT\n",
      "LinksMESUT\n",
      "Local SettingsMESUT\n",
      "MusicMESUT\n",
      "NetHoodMESUT\n",
      "NTUSER.DATMESUT\n",
      "ntuser.dat.LOG1MESUT\n",
      "ntuser.dat.LOG2MESUT\n",
      "NTUSER.DAT{ab639ba5-e858-11ee-a61c-3c7c3fd2ca96}.TM.blfMESUT\n",
      "NTUSER.DAT{ab639ba5-e858-11ee-a61c-3c7c3fd2ca96}.TMContainer00000000000000000001.regtrans-msMESUT\n",
      "NTUSER.DAT{ab639ba5-e858-11ee-a61c-3c7c3fd2ca96}.TMContainer00000000000000000002.regtrans-msMESUT\n",
      "ntuser.iniMESUT\n",
      "OneDriveMESUT\n",
      "pexels-drew-williams-1285451-2657669.txtMESUT\n",
      "PrintHoodMESUT\n",
      "PycharmProjectsMESUT\n",
      "python-derslerim.ipynbMESUT\n",
      "python.derslerimMESUT\n",
      "RecentMESUT\n",
      "Saved GamesMESUT\n",
      "SearchesMESUT\n",
      "SendToMESUT\n",
      "sourceMESUT\n",
      "Start MenuMESUT\n",
      "TemplatesMESUT\n",
      "Untitled.ipynbMESUT\n",
      "VideosMESUT\n"
     ]
    }
   ],
   "source": [
    "dosyalar = os.listdir()\n",
    "for eleman in dosyalar:\n",
    "    print(eleman + 'MESUT')"
   ]
  },
  {
   "cell_type": "code",
   "execution_count": 114,
   "id": "50bfe08d-b3d4-4449-a44f-51ef7499078a",
   "metadata": {},
   "outputs": [
    {
     "ename": "TypeError",
     "evalue": "mkdir() missing required argument 'path' (pos 1)",
     "output_type": "error",
     "traceback": [
      "\u001b[1;31m---------------------------------------------------------------------------\u001b[0m",
      "\u001b[1;31mTypeError\u001b[0m                                 Traceback (most recent call last)",
      "Cell \u001b[1;32mIn[114], line 1\u001b[0m\n\u001b[1;32m----> 1\u001b[0m os\u001b[38;5;241m.\u001b[39mmkdir()\n",
      "\u001b[1;31mTypeError\u001b[0m: mkdir() missing required argument 'path' (pos 1)"
     ]
    }
   ],
   "source": [
    "os.mkdir()"
   ]
  },
  {
   "cell_type": "code",
   "execution_count": 115,
   "id": "bcce3a39-ea23-41bc-9733-9d3e41a8f5c0",
   "metadata": {},
   "outputs": [
    {
     "data": {
      "text/plain": [
       "['.anaconda',\n",
       " '.android',\n",
       " '.conda',\n",
       " '.condarc',\n",
       " '.continuum',\n",
       " '.dotnet',\n",
       " '.gitconfig',\n",
       " '.gk',\n",
       " '.gnupg',\n",
       " '.gradle',\n",
       " '.idlerc',\n",
       " '.ipynb_checkpoints',\n",
       " '.ipython',\n",
       " '.jupyter',\n",
       " '.labelImgSettings.pkl',\n",
       " '.librarymanager',\n",
       " '.matplotlib',\n",
       " '.nuget',\n",
       " '.skiko',\n",
       " '.templateengine',\n",
       " '.virtual_documents',\n",
       " '.vscode',\n",
       " 'anaconda3',\n",
       " 'AndroidStudioProjects',\n",
       " 'AppData',\n",
       " 'Application Data',\n",
       " 'Belgelerim',\n",
       " 'classes.txt',\n",
       " 'Contacts',\n",
       " 'Cookies',\n",
       " 'Documents',\n",
       " 'Downloads',\n",
       " 'Favorites',\n",
       " 'Links',\n",
       " 'Local Settings',\n",
       " 'Music',\n",
       " 'NetHood',\n",
       " 'NTUSER.DAT',\n",
       " 'ntuser.dat.LOG1',\n",
       " 'ntuser.dat.LOG2',\n",
       " 'NTUSER.DAT{ab639ba5-e858-11ee-a61c-3c7c3fd2ca96}.TM.blf',\n",
       " 'NTUSER.DAT{ab639ba5-e858-11ee-a61c-3c7c3fd2ca96}.TMContainer00000000000000000001.regtrans-ms',\n",
       " 'NTUSER.DAT{ab639ba5-e858-11ee-a61c-3c7c3fd2ca96}.TMContainer00000000000000000002.regtrans-ms',\n",
       " 'ntuser.ini',\n",
       " 'OneDrive',\n",
       " 'pexels-drew-williams-1285451-2657669.txt',\n",
       " 'PrintHood',\n",
       " 'PycharmProjects',\n",
       " 'python-derslerim.ipynb',\n",
       " 'python.derslerim',\n",
       " 'Recent',\n",
       " 'Saved Games',\n",
       " 'Searches',\n",
       " 'SendTo',\n",
       " 'source',\n",
       " 'Start Menu',\n",
       " 'Templates',\n",
       " 'Untitled.ipynb',\n",
       " 'Videos']"
      ]
     },
     "execution_count": 115,
     "metadata": {},
     "output_type": "execute_result"
    }
   ],
   "source": [
    "os.listdir()    "
   ]
  },
  {
   "cell_type": "code",
   "execution_count": 116,
   "id": "83448dd5-a2e3-4785-b58d-d14787164553",
   "metadata": {},
   "outputs": [
    {
     "ename": "TypeError",
     "evalue": "rmdir() missing required argument 'path' (pos 1)",
     "output_type": "error",
     "traceback": [
      "\u001b[1;31m---------------------------------------------------------------------------\u001b[0m",
      "\u001b[1;31mTypeError\u001b[0m                                 Traceback (most recent call last)",
      "Cell \u001b[1;32mIn[116], line 1\u001b[0m\n\u001b[1;32m----> 1\u001b[0m os\u001b[38;5;241m.\u001b[39mrmdir()\n",
      "\u001b[1;31mTypeError\u001b[0m: rmdir() missing required argument 'path' (pos 1)"
     ]
    }
   ],
   "source": [
    "os.rmdir()"
   ]
  },
  {
   "cell_type": "code",
   "execution_count": 117,
   "id": "1d2def94-29a0-4b26-b209-451deaf73024",
   "metadata": {},
   "outputs": [],
   "source": [
    "yeni_dosya = os.open('yeni_dosya.txt', os.O_RDWR | os.O_CREAT)\n",
    "os.write(yeni_dosya, \"Merhaba Dünya!\".encode())\n",
    "os.close(yeni_dosya)"
   ]
  },
  {
   "cell_type": "code",
   "execution_count": 130,
   "id": "d3577262-dc24-4b39-97b9-242553e54ec2",
   "metadata": {},
   "outputs": [
    {
     "name": "stdout",
     "output_type": "stream",
     "text": [
      "Dosya boyutu: 15\n",
      "İstatistikler: os.stat_result(st_mode=33206, st_ino=27584547718108886, st_dev=1812477928, st_nlink=1, st_uid=0, st_gid=0, st_size=15, st_atime=1715377071, st_mtime=1715376592, st_ctime=1715376592)\n",
      "Okunan veri: b'Merha'\n"
     ]
    }
   ],
   "source": [
    "\n",
    "yeni_dosya = os.open('yeni_dosya.txt', os.O_RDWR | os.O_RDONLY)\n",
    "istatislik = os.fstat(yeni_dosya)\n",
    "uzunluk = istatislik.st_size\n",
    "veri = os.read(yeni_dosya, 5)\n",
    "print(\"Dosya boyutu:\", uzunluk)\n",
    "print(\"İstatistikler:\", istatislik)\n",
    "print(\"Okunan veri:\", veri)\n",
    "os.close(yeni_dosya)"
   ]
  },
  {
   "cell_type": "code",
   "execution_count": 131,
   "id": "55f19d2c-c16e-465f-b185-694a43354d89",
   "metadata": {},
   "outputs": [
    {
     "ename": "PermissionError",
     "evalue": "[WinError 32] Dosya başka bir işlem tarafından kullanıldığından bu işlem dosyaya erişemiyor: 'yeni_dosya.txt'",
     "output_type": "error",
     "traceback": [
      "\u001b[1;31m---------------------------------------------------------------------------\u001b[0m",
      "\u001b[1;31mPermissionError\u001b[0m                           Traceback (most recent call last)",
      "Cell \u001b[1;32mIn[131], line 1\u001b[0m\n\u001b[1;32m----> 1\u001b[0m os\u001b[38;5;241m.\u001b[39munlink(\u001b[38;5;124m'\u001b[39m\u001b[38;5;124myeni_dosya.txt\u001b[39m\u001b[38;5;124m'\u001b[39m)\n",
      "\u001b[1;31mPermissionError\u001b[0m: [WinError 32] Dosya başka bir işlem tarafından kullanıldığından bu işlem dosyaya erişemiyor: 'yeni_dosya.txt'"
     ]
    }
   ],
   "source": [
    "os.unlink('yeni_dosya.txt')"
   ]
  },
  {
   "cell_type": "code",
   "execution_count": 132,
   "id": "a028dd13-f06e-4ab0-972e-b7a1107aa0c0",
   "metadata": {},
   "outputs": [],
   "source": [
    "os.mkdir(\"deneme_yeni\")"
   ]
  },
  {
   "cell_type": "code",
   "execution_count": 134,
   "id": "fd96851d-e566-4e67-aee1-67d7a26c4d7b",
   "metadata": {},
   "outputs": [
    {
     "data": {
      "text/plain": [
       "['.anaconda',\n",
       " '.android',\n",
       " '.conda',\n",
       " '.condarc',\n",
       " '.continuum',\n",
       " '.dotnet',\n",
       " '.gitconfig',\n",
       " '.gk',\n",
       " '.gnupg',\n",
       " '.gradle',\n",
       " '.idlerc',\n",
       " '.ipynb_checkpoints',\n",
       " '.ipython',\n",
       " '.jupyter',\n",
       " '.labelImgSettings.pkl',\n",
       " '.librarymanager',\n",
       " '.matplotlib',\n",
       " '.nuget',\n",
       " '.skiko',\n",
       " '.templateengine',\n",
       " '.virtual_documents',\n",
       " '.vscode',\n",
       " 'anaconda3',\n",
       " 'AndroidStudioProjects',\n",
       " 'AppData',\n",
       " 'Application Data',\n",
       " 'Belgelerim',\n",
       " 'classes.txt',\n",
       " 'Contacts',\n",
       " 'Cookies',\n",
       " 'deneme_yeni',\n",
       " 'Documents',\n",
       " 'Downloads',\n",
       " 'Favorites',\n",
       " 'Links',\n",
       " 'Local Settings',\n",
       " 'Music',\n",
       " 'NetHood',\n",
       " 'NTUSER.DAT',\n",
       " 'ntuser.dat.LOG1',\n",
       " 'ntuser.dat.LOG2',\n",
       " 'NTUSER.DAT{ab639ba5-e858-11ee-a61c-3c7c3fd2ca96}.TM.blf',\n",
       " 'NTUSER.DAT{ab639ba5-e858-11ee-a61c-3c7c3fd2ca96}.TMContainer00000000000000000001.regtrans-ms',\n",
       " 'NTUSER.DAT{ab639ba5-e858-11ee-a61c-3c7c3fd2ca96}.TMContainer00000000000000000002.regtrans-ms',\n",
       " 'ntuser.ini',\n",
       " 'OneDrive',\n",
       " 'pexels-drew-williams-1285451-2657669.txt',\n",
       " 'PrintHood',\n",
       " 'PycharmProjects',\n",
       " 'python-derslerim.ipynb',\n",
       " 'python.derslerim',\n",
       " 'Recent',\n",
       " 'Saved Games',\n",
       " 'Searches',\n",
       " 'SendTo',\n",
       " 'source',\n",
       " 'Start Menu',\n",
       " 'Templates',\n",
       " 'Untitled.ipynb',\n",
       " 'Videos',\n",
       " 'yeni_dosya.txt']"
      ]
     },
     "execution_count": 134,
     "metadata": {},
     "output_type": "execute_result"
    }
   ],
   "source": [
    "os.listdir()"
   ]
  },
  {
   "cell_type": "markdown",
   "id": "a7de2f20-0e9b-4742-b0e1-042777ff6bc0",
   "metadata": {},
   "source": [
    "### REgular Experssions (REGEX)"
   ]
  },
  {
   "cell_type": "code",
   "execution_count": 135,
   "id": "60828a35-bc13-4587-8da7-913880337bf3",
   "metadata": {},
   "outputs": [],
   "source": [
    "import re"
   ]
  },
  {
   "cell_type": "code",
   "execution_count": 143,
   "id": "d93894be-bad5-4ad1-b83a-db7d42332631",
   "metadata": {},
   "outputs": [
    {
     "data": {
      "text/plain": [
       "<re.Match object; span=(39, 45), match='Yüksek'>"
      ]
     },
     "execution_count": 143,
     "metadata": {},
     "output_type": "execute_result"
    }
   ],
   "source": [
    "cumle = \"Özgür Güngör Kastamonu Taşköprü Meslek Yüksek Okulu\"\n",
    "\n",
    "patern = \"Yüksek\"\n",
    "\n",
    "re.search(patern, cumle)"
   ]
  },
  {
   "cell_type": "code",
   "execution_count": 144,
   "id": "4bb04dc2-b81e-4ff7-9e92-c3ea3386b64d",
   "metadata": {},
   "outputs": [
    {
     "ename": "AttributeError",
     "evalue": "module 're' has no attribute 'reach'",
     "output_type": "error",
     "traceback": [
      "\u001b[1;31m---------------------------------------------------------------------------\u001b[0m",
      "\u001b[1;31mAttributeError\u001b[0m                            Traceback (most recent call last)",
      "Cell \u001b[1;32mIn[144], line 1\u001b[0m\n\u001b[1;32m----> 1\u001b[0m durum \u001b[38;5;241m=\u001b[39m re\u001b[38;5;241m.\u001b[39mreach(patern, cumle)\n\u001b[0;32m      2\u001b[0m durum\u001b[38;5;241m.\u001b[39mspan()\n",
      "\u001b[1;31mAttributeError\u001b[0m: module 're' has no attribute 'reach'"
     ]
    }
   ],
   "source": [
    "durum = re.reach(patern, cumle)\n",
    "durum.span()"
   ]
  },
  {
   "cell_type": "code",
   "execution_count": 142,
   "id": "79192036-981c-4c23-867e-911774e103a8",
   "metadata": {},
   "outputs": [
    {
     "ename": "NameError",
     "evalue": "name 'Özgür' is not defined",
     "output_type": "error",
     "traceback": [
      "\u001b[1;31m---------------------------------------------------------------------------\u001b[0m",
      "\u001b[1;31mNameError\u001b[0m                                 Traceback (most recent call last)",
      "Cell \u001b[1;32mIn[142], line 1\u001b[0m\n\u001b[1;32m----> 1\u001b[0m \u001b[38;5;28mdir\u001b[39m(Özgür)\n",
      "\u001b[1;31mNameError\u001b[0m: name 'Özgür' is not defined"
     ]
    }
   ],
   "source": [
    "dir(Özgür)"
   ]
  },
  {
   "cell_type": "code",
   "execution_count": 145,
   "id": "90979b34-aa4d-4ebb-90dc-add7ecc6f128",
   "metadata": {},
   "outputs": [
    {
     "name": "stdout",
     "output_type": "stream",
     "text": [
      "Yüksek\n"
     ]
    }
   ],
   "source": [
    "for eslesme in re.findall(patern, cumle):\n",
    "    print(eslesme)"
   ]
  },
  {
   "cell_type": "code",
   "execution_count": 147,
   "id": "89a10e36-ad15-4779-baa7-de6befe5a8ce",
   "metadata": {},
   "outputs": [
    {
     "name": "stdout",
     "output_type": "stream",
     "text": [
      "(39, 45) Yüksek\n"
     ]
    }
   ],
   "source": [
    "for eslesme in re.finditer(patern, cumle):\n",
    "    print(eslesme.span(), eslesme.group())"
   ]
  },
  {
   "cell_type": "markdown",
   "id": "81f137a3-3e1d-4d23-84d9-4e8c07b6be6e",
   "metadata": {},
   "source": [
    "### Dinamik Kullanım"
   ]
  },
  {
   "cell_type": "code",
   "execution_count": 148,
   "id": "2f97910e-659c-40a9-aa7c-3db0b84b096a",
   "metadata": {},
   "outputs": [],
   "source": [
    "#################################################################################\n",
    "########## Ifade ########### Aciklama ######### Örnek ####### Patern ############\n",
    "##########-----------------------------------------------------------------######\n",
    "##########  \\d   ########### rakam    ######### base42 ##### base \\d\\d     ######\n",
    "##########  \\w   ########### karakter ######### R2-D2  ##### \\w\\w\\w\\w\\w\\   ######\n",
    "##########  \\s   ########### bosluk         ### Ping Pong ##  Ping\\sPong   ######\n",
    "##########  \\D   ########### rakam degil    ### base      ## \\D\\D\\D\\D      ######\n",
    "##########  \\W   ########### karakter deil  ### R2D2      ##  \\W\\W\\W\\W     ######\n",
    "##########  \\S   ########### bosluk deil    ### PingPong  ## \\S\\S\\S\\S\\S\\S\\S\\S ###\n",
    "##########-----------------------------------------------------------------######\n",
    "#################################################################################"
   ]
  },
  {
   "cell_type": "code",
   "execution_count": 156,
   "id": "c93ea709-155b-4e36-aa40-e9ee2627c6fe",
   "metadata": {},
   "outputs": [
    {
     "name": "stdout",
     "output_type": "stream",
     "text": [
      "None\n"
     ]
    }
   ],
   "source": [
    "import re\n",
    "\n",
    "ornek = \"En sevdigim kanal TRT.\"\n",
    "patern1 = r\"\\bbase\\d\\d\\b\"  # \"base\" kelimesinin ardından iki rakam olan desen\n",
    "print(re.search(patern1, ornek))"
   ]
  },
  {
   "cell_type": "code",
   "execution_count": 157,
   "id": "c0259a24-8e0a-45d0-bfa2-56b3566c9b29",
   "metadata": {},
   "outputs": [
    {
     "name": "stdout",
     "output_type": "stream",
     "text": [
      "<re.Match object; span=(14, 28), match='0522 444 55 88'>\n"
     ]
    }
   ],
   "source": [
    "cumle = \"Selam, tel no 0522 444 55 88.\"\n",
    "patern2 = r\"\\b\\d{4} \\d{3} \\d{2} \\d{2}\\b\"  # 4 rakam, boşluk, 3 rakam, boşluk, 2 rakam, boşluk, 2 rakam\n",
    "print(re.search(patern2, cumle))"
   ]
  },
  {
   "cell_type": "code",
   "execution_count": 160,
   "id": "6dfa5801-2974-4ca5-b8e6-c8a137338e07",
   "metadata": {},
   "outputs": [],
   "source": [
    "cumle = \"Selam, benim telefon numaram 0535 888 77 99.\"\n",
    "patern = r\"\\d{3,4}-\\d{7}\"\n",
    "\n",
    "re.search(patern, cumle)"
   ]
  },
  {
   "cell_type": "markdown",
   "id": "fbfe2f20-1d3a-4fb7-ab38-ec112e4142bf",
   "metadata": {},
   "source": [
    "### Random Modüle'ü"
   ]
  },
  {
   "cell_type": "code",
   "execution_count": 162,
   "id": "08014c6e-a088-4fda-8b07-5c2cbee6eeba",
   "metadata": {},
   "outputs": [],
   "source": [
    "import random"
   ]
  },
  {
   "cell_type": "code",
   "execution_count": 163,
   "id": "1d011c86-b83e-4a8f-b8de-29f506164861",
   "metadata": {},
   "outputs": [
    {
     "data": {
      "text/plain": [
       "['__name__',\n",
       " '__doc__',\n",
       " '__package__',\n",
       " '__loader__',\n",
       " '__spec__',\n",
       " '__file__',\n",
       " '__cached__',\n",
       " '__builtins__',\n",
       " '_warn',\n",
       " '_log',\n",
       " '_exp',\n",
       " '_pi',\n",
       " '_e',\n",
       " '_ceil',\n",
       " '_sqrt',\n",
       " '_acos',\n",
       " '_cos',\n",
       " '_sin',\n",
       " 'TWOPI',\n",
       " '_floor',\n",
       " '_isfinite',\n",
       " '_urandom',\n",
       " '_Set',\n",
       " '_Sequence',\n",
       " '_index',\n",
       " '_accumulate',\n",
       " '_repeat',\n",
       " '_bisect',\n",
       " '_os',\n",
       " '_random',\n",
       " '_sha512',\n",
       " '__all__',\n",
       " 'NV_MAGICCONST',\n",
       " 'LOG4',\n",
       " 'SG_MAGICCONST',\n",
       " 'BPF',\n",
       " 'RECIP_BPF',\n",
       " '_ONE',\n",
       " 'Random',\n",
       " 'SystemRandom',\n",
       " '_inst',\n",
       " 'seed',\n",
       " 'random',\n",
       " 'uniform',\n",
       " 'triangular',\n",
       " 'randint',\n",
       " 'choice',\n",
       " 'randrange',\n",
       " 'sample',\n",
       " 'shuffle',\n",
       " 'choices',\n",
       " 'normalvariate',\n",
       " 'lognormvariate',\n",
       " 'expovariate',\n",
       " 'vonmisesvariate',\n",
       " 'gammavariate',\n",
       " 'gauss',\n",
       " 'betavariate',\n",
       " 'paretovariate',\n",
       " 'weibullvariate',\n",
       " 'getstate',\n",
       " 'setstate',\n",
       " 'getrandbits',\n",
       " 'randbytes',\n",
       " '_test_generator',\n",
       " '_test']"
      ]
     },
     "execution_count": 163,
     "metadata": {},
     "output_type": "execute_result"
    }
   ],
   "source": [
    "random.__dir__()"
   ]
  },
  {
   "cell_type": "code",
   "execution_count": 164,
   "id": "83215f4f-b183-49e3-bc4d-b4335639224d",
   "metadata": {},
   "outputs": [
    {
     "name": "stdout",
     "output_type": "stream",
     "text": [
      "Help on module random:\n",
      "\n",
      "NAME\n",
      "    random - Random variable generators.\n",
      "\n",
      "MODULE REFERENCE\n",
      "    https://docs.python.org/3.11/library/random.html\n",
      "    \n",
      "    The following documentation is automatically generated from the Python\n",
      "    source files.  It may be incomplete, incorrect or include features that\n",
      "    are considered implementation detail and may vary between Python\n",
      "    implementations.  When in doubt, consult the module reference at the\n",
      "    location listed above.\n",
      "\n",
      "DESCRIPTION\n",
      "        bytes\n",
      "        -----\n",
      "               uniform bytes (values between 0 and 255)\n",
      "    \n",
      "        integers\n",
      "        --------\n",
      "               uniform within range\n",
      "    \n",
      "        sequences\n",
      "        ---------\n",
      "               pick random element\n",
      "               pick random sample\n",
      "               pick weighted random sample\n",
      "               generate random permutation\n",
      "    \n",
      "        distributions on the real line:\n",
      "        ------------------------------\n",
      "               uniform\n",
      "               triangular\n",
      "               normal (Gaussian)\n",
      "               lognormal\n",
      "               negative exponential\n",
      "               gamma\n",
      "               beta\n",
      "               pareto\n",
      "               Weibull\n",
      "    \n",
      "        distributions on the circle (angles 0 to 2pi)\n",
      "        ---------------------------------------------\n",
      "               circular uniform\n",
      "               von Mises\n",
      "    \n",
      "    General notes on the underlying Mersenne Twister core generator:\n",
      "    \n",
      "    * The period is 2**19937-1.\n",
      "    * It is one of the most extensively tested generators in existence.\n",
      "    * The random() method is implemented in C, executes in a single Python step,\n",
      "      and is, therefore, threadsafe.\n",
      "\n",
      "CLASSES\n",
      "    _random.Random(builtins.object)\n",
      "        Random\n",
      "            SystemRandom\n",
      "    \n",
      "    class Random(_random.Random)\n",
      "     |  Random(x=None)\n",
      "     |  \n",
      "     |  Random number generator base class used by bound module functions.\n",
      "     |  \n",
      "     |  Used to instantiate instances of Random to get generators that don't\n",
      "     |  share state.\n",
      "     |  \n",
      "     |  Class Random can also be subclassed if you want to use a different basic\n",
      "     |  generator of your own devising: in that case, override the following\n",
      "     |  methods:  random(), seed(), getstate(), and setstate().\n",
      "     |  Optionally, implement a getrandbits() method so that randrange()\n",
      "     |  can cover arbitrarily large ranges.\n",
      "     |  \n",
      "     |  Method resolution order:\n",
      "     |      Random\n",
      "     |      _random.Random\n",
      "     |      builtins.object\n",
      "     |  \n",
      "     |  Methods defined here:\n",
      "     |  \n",
      "     |  __getstate__(self)\n",
      "     |      Helper for pickle.\n",
      "     |  \n",
      "     |  __init__(self, x=None)\n",
      "     |      Initialize an instance.\n",
      "     |      \n",
      "     |      Optional argument x controls seeding, as for Random.seed().\n",
      "     |  \n",
      "     |  __reduce__(self)\n",
      "     |      Helper for pickle.\n",
      "     |  \n",
      "     |  __setstate__(self, state)\n",
      "     |  \n",
      "     |  betavariate(self, alpha, beta)\n",
      "     |      Beta distribution.\n",
      "     |      \n",
      "     |      Conditions on the parameters are alpha > 0 and beta > 0.\n",
      "     |      Returned values range between 0 and 1.\n",
      "     |  \n",
      "     |  choice(self, seq)\n",
      "     |      Choose a random element from a non-empty sequence.\n",
      "     |  \n",
      "     |  choices(self, population, weights=None, *, cum_weights=None, k=1)\n",
      "     |      Return a k sized list of population elements chosen with replacement.\n",
      "     |      \n",
      "     |      If the relative weights or cumulative weights are not specified,\n",
      "     |      the selections are made with equal probability.\n",
      "     |  \n",
      "     |  expovariate(self, lambd)\n",
      "     |      Exponential distribution.\n",
      "     |      \n",
      "     |      lambd is 1.0 divided by the desired mean.  It should be\n",
      "     |      nonzero.  (The parameter would be called \"lambda\", but that is\n",
      "     |      a reserved word in Python.)  Returned values range from 0 to\n",
      "     |      positive infinity if lambd is positive, and from negative\n",
      "     |      infinity to 0 if lambd is negative.\n",
      "     |  \n",
      "     |  gammavariate(self, alpha, beta)\n",
      "     |      Gamma distribution.  Not the gamma function!\n",
      "     |      \n",
      "     |      Conditions on the parameters are alpha > 0 and beta > 0.\n",
      "     |      \n",
      "     |      The probability distribution function is:\n",
      "     |      \n",
      "     |                  x ** (alpha - 1) * math.exp(-x / beta)\n",
      "     |        pdf(x) =  --------------------------------------\n",
      "     |                    math.gamma(alpha) * beta ** alpha\n",
      "     |  \n",
      "     |  gauss(self, mu=0.0, sigma=1.0)\n",
      "     |      Gaussian distribution.\n",
      "     |      \n",
      "     |      mu is the mean, and sigma is the standard deviation.  This is\n",
      "     |      slightly faster than the normalvariate() function.\n",
      "     |      \n",
      "     |      Not thread-safe without a lock around calls.\n",
      "     |  \n",
      "     |  getstate(self)\n",
      "     |      Return internal state; can be passed to setstate() later.\n",
      "     |  \n",
      "     |  lognormvariate(self, mu, sigma)\n",
      "     |      Log normal distribution.\n",
      "     |      \n",
      "     |      If you take the natural logarithm of this distribution, you'll get a\n",
      "     |      normal distribution with mean mu and standard deviation sigma.\n",
      "     |      mu can have any value, and sigma must be greater than zero.\n",
      "     |  \n",
      "     |  normalvariate(self, mu=0.0, sigma=1.0)\n",
      "     |      Normal distribution.\n",
      "     |      \n",
      "     |      mu is the mean, and sigma is the standard deviation.\n",
      "     |  \n",
      "     |  paretovariate(self, alpha)\n",
      "     |      Pareto distribution.  alpha is the shape parameter.\n",
      "     |  \n",
      "     |  randbytes(self, n)\n",
      "     |      Generate n random bytes.\n",
      "     |  \n",
      "     |  randint(self, a, b)\n",
      "     |      Return random integer in range [a, b], including both end points.\n",
      "     |  \n",
      "     |  randrange(self, start, stop=None, step=1)\n",
      "     |      Choose a random item from range(stop) or range(start, stop[, step]).\n",
      "     |      \n",
      "     |      Roughly equivalent to ``choice(range(start, stop, step))`` but\n",
      "     |      supports arbitrarily large ranges and is optimized for common cases.\n",
      "     |  \n",
      "     |  sample(self, population, k, *, counts=None)\n",
      "     |      Chooses k unique random elements from a population sequence.\n",
      "     |      \n",
      "     |      Returns a new list containing elements from the population while\n",
      "     |      leaving the original population unchanged.  The resulting list is\n",
      "     |      in selection order so that all sub-slices will also be valid random\n",
      "     |      samples.  This allows raffle winners (the sample) to be partitioned\n",
      "     |      into grand prize and second place winners (the subslices).\n",
      "     |      \n",
      "     |      Members of the population need not be hashable or unique.  If the\n",
      "     |      population contains repeats, then each occurrence is a possible\n",
      "     |      selection in the sample.\n",
      "     |      \n",
      "     |      Repeated elements can be specified one at a time or with the optional\n",
      "     |      counts parameter.  For example:\n",
      "     |      \n",
      "     |          sample(['red', 'blue'], counts=[4, 2], k=5)\n",
      "     |      \n",
      "     |      is equivalent to:\n",
      "     |      \n",
      "     |          sample(['red', 'red', 'red', 'red', 'blue', 'blue'], k=5)\n",
      "     |      \n",
      "     |      To choose a sample from a range of integers, use range() for the\n",
      "     |      population argument.  This is especially fast and space efficient\n",
      "     |      for sampling from a large population:\n",
      "     |      \n",
      "     |          sample(range(10000000), 60)\n",
      "     |  \n",
      "     |  seed(self, a=None, version=2)\n",
      "     |      Initialize internal state from a seed.\n",
      "     |      \n",
      "     |      The only supported seed types are None, int, float,\n",
      "     |      str, bytes, and bytearray.\n",
      "     |      \n",
      "     |      None or no argument seeds from current time or from an operating\n",
      "     |      system specific randomness source if available.\n",
      "     |      \n",
      "     |      If *a* is an int, all bits are used.\n",
      "     |      \n",
      "     |      For version 2 (the default), all of the bits are used if *a* is a str,\n",
      "     |      bytes, or bytearray.  For version 1 (provided for reproducing random\n",
      "     |      sequences from older versions of Python), the algorithm for str and\n",
      "     |      bytes generates a narrower range of seeds.\n",
      "     |  \n",
      "     |  setstate(self, state)\n",
      "     |      Restore internal state from object returned by getstate().\n",
      "     |  \n",
      "     |  shuffle(self, x)\n",
      "     |      Shuffle list x in place, and return None.\n",
      "     |  \n",
      "     |  triangular(self, low=0.0, high=1.0, mode=None)\n",
      "     |      Triangular distribution.\n",
      "     |      \n",
      "     |      Continuous distribution bounded by given lower and upper limits,\n",
      "     |      and having a given mode value in-between.\n",
      "     |      \n",
      "     |      http://en.wikipedia.org/wiki/Triangular_distribution\n",
      "     |  \n",
      "     |  uniform(self, a, b)\n",
      "     |      Get a random number in the range [a, b) or [a, b] depending on rounding.\n",
      "     |  \n",
      "     |  vonmisesvariate(self, mu, kappa)\n",
      "     |      Circular data distribution.\n",
      "     |      \n",
      "     |      mu is the mean angle, expressed in radians between 0 and 2*pi, and\n",
      "     |      kappa is the concentration parameter, which must be greater than or\n",
      "     |      equal to zero.  If kappa is equal to zero, this distribution reduces\n",
      "     |      to a uniform random angle over the range 0 to 2*pi.\n",
      "     |  \n",
      "     |  weibullvariate(self, alpha, beta)\n",
      "     |      Weibull distribution.\n",
      "     |      \n",
      "     |      alpha is the scale parameter and beta is the shape parameter.\n",
      "     |  \n",
      "     |  ----------------------------------------------------------------------\n",
      "     |  Class methods defined here:\n",
      "     |  \n",
      "     |  __init_subclass__(**kwargs) from builtins.type\n",
      "     |      Control how subclasses generate random integers.\n",
      "     |      \n",
      "     |      The algorithm a subclass can use depends on the random() and/or\n",
      "     |      getrandbits() implementation available to it and determines\n",
      "     |      whether it can generate random integers from arbitrarily large\n",
      "     |      ranges.\n",
      "     |  \n",
      "     |  ----------------------------------------------------------------------\n",
      "     |  Data descriptors defined here:\n",
      "     |  \n",
      "     |  __dict__\n",
      "     |      dictionary for instance variables\n",
      "     |  \n",
      "     |  __weakref__\n",
      "     |      list of weak references to the object\n",
      "     |  \n",
      "     |  ----------------------------------------------------------------------\n",
      "     |  Data and other attributes defined here:\n",
      "     |  \n",
      "     |  VERSION = 3\n",
      "     |  \n",
      "     |  ----------------------------------------------------------------------\n",
      "     |  Methods inherited from _random.Random:\n",
      "     |  \n",
      "     |  getrandbits(self, k, /)\n",
      "     |      getrandbits(k) -> x.  Generates an int with k random bits.\n",
      "     |  \n",
      "     |  random(self, /)\n",
      "     |      random() -> x in the interval [0, 1).\n",
      "     |  \n",
      "     |  ----------------------------------------------------------------------\n",
      "     |  Static methods inherited from _random.Random:\n",
      "     |  \n",
      "     |  __new__(*args, **kwargs) from builtins.type\n",
      "     |      Create and return a new object.  See help(type) for accurate signature.\n",
      "    \n",
      "    class SystemRandom(Random)\n",
      "     |  SystemRandom(x=None)\n",
      "     |  \n",
      "     |  Alternate random number generator using sources provided\n",
      "     |  by the operating system (such as /dev/urandom on Unix or\n",
      "     |  CryptGenRandom on Windows).\n",
      "     |  \n",
      "     |   Not available on all systems (see os.urandom() for details).\n",
      "     |  \n",
      "     |  Method resolution order:\n",
      "     |      SystemRandom\n",
      "     |      Random\n",
      "     |      _random.Random\n",
      "     |      builtins.object\n",
      "     |  \n",
      "     |  Methods defined here:\n",
      "     |  \n",
      "     |  getrandbits(self, k)\n",
      "     |      getrandbits(k) -> x.  Generates an int with k random bits.\n",
      "     |  \n",
      "     |  getstate = _notimplemented(self, *args, **kwds)\n",
      "     |  \n",
      "     |  randbytes(self, n)\n",
      "     |      Generate n random bytes.\n",
      "     |  \n",
      "     |  random(self)\n",
      "     |      Get the next random number in the range 0.0 <= X < 1.0.\n",
      "     |  \n",
      "     |  seed(self, *args, **kwds)\n",
      "     |      Stub method.  Not used for a system random number generator.\n",
      "     |  \n",
      "     |  setstate = _notimplemented(self, *args, **kwds)\n",
      "     |  \n",
      "     |  ----------------------------------------------------------------------\n",
      "     |  Methods inherited from Random:\n",
      "     |  \n",
      "     |  __getstate__(self)\n",
      "     |      Helper for pickle.\n",
      "     |  \n",
      "     |  __init__(self, x=None)\n",
      "     |      Initialize an instance.\n",
      "     |      \n",
      "     |      Optional argument x controls seeding, as for Random.seed().\n",
      "     |  \n",
      "     |  __reduce__(self)\n",
      "     |      Helper for pickle.\n",
      "     |  \n",
      "     |  __setstate__(self, state)\n",
      "     |  \n",
      "     |  betavariate(self, alpha, beta)\n",
      "     |      Beta distribution.\n",
      "     |      \n",
      "     |      Conditions on the parameters are alpha > 0 and beta > 0.\n",
      "     |      Returned values range between 0 and 1.\n",
      "     |  \n",
      "     |  choice(self, seq)\n",
      "     |      Choose a random element from a non-empty sequence.\n",
      "     |  \n",
      "     |  choices(self, population, weights=None, *, cum_weights=None, k=1)\n",
      "     |      Return a k sized list of population elements chosen with replacement.\n",
      "     |      \n",
      "     |      If the relative weights or cumulative weights are not specified,\n",
      "     |      the selections are made with equal probability.\n",
      "     |  \n",
      "     |  expovariate(self, lambd)\n",
      "     |      Exponential distribution.\n",
      "     |      \n",
      "     |      lambd is 1.0 divided by the desired mean.  It should be\n",
      "     |      nonzero.  (The parameter would be called \"lambda\", but that is\n",
      "     |      a reserved word in Python.)  Returned values range from 0 to\n",
      "     |      positive infinity if lambd is positive, and from negative\n",
      "     |      infinity to 0 if lambd is negative.\n",
      "     |  \n",
      "     |  gammavariate(self, alpha, beta)\n",
      "     |      Gamma distribution.  Not the gamma function!\n",
      "     |      \n",
      "     |      Conditions on the parameters are alpha > 0 and beta > 0.\n",
      "     |      \n",
      "     |      The probability distribution function is:\n",
      "     |      \n",
      "     |                  x ** (alpha - 1) * math.exp(-x / beta)\n",
      "     |        pdf(x) =  --------------------------------------\n",
      "     |                    math.gamma(alpha) * beta ** alpha\n",
      "     |  \n",
      "     |  gauss(self, mu=0.0, sigma=1.0)\n",
      "     |      Gaussian distribution.\n",
      "     |      \n",
      "     |      mu is the mean, and sigma is the standard deviation.  This is\n",
      "     |      slightly faster than the normalvariate() function.\n",
      "     |      \n",
      "     |      Not thread-safe without a lock around calls.\n",
      "     |  \n",
      "     |  lognormvariate(self, mu, sigma)\n",
      "     |      Log normal distribution.\n",
      "     |      \n",
      "     |      If you take the natural logarithm of this distribution, you'll get a\n",
      "     |      normal distribution with mean mu and standard deviation sigma.\n",
      "     |      mu can have any value, and sigma must be greater than zero.\n",
      "     |  \n",
      "     |  normalvariate(self, mu=0.0, sigma=1.0)\n",
      "     |      Normal distribution.\n",
      "     |      \n",
      "     |      mu is the mean, and sigma is the standard deviation.\n",
      "     |  \n",
      "     |  paretovariate(self, alpha)\n",
      "     |      Pareto distribution.  alpha is the shape parameter.\n",
      "     |  \n",
      "     |  randint(self, a, b)\n",
      "     |      Return random integer in range [a, b], including both end points.\n",
      "     |  \n",
      "     |  randrange(self, start, stop=None, step=1)\n",
      "     |      Choose a random item from range(stop) or range(start, stop[, step]).\n",
      "     |      \n",
      "     |      Roughly equivalent to ``choice(range(start, stop, step))`` but\n",
      "     |      supports arbitrarily large ranges and is optimized for common cases.\n",
      "     |  \n",
      "     |  sample(self, population, k, *, counts=None)\n",
      "     |      Chooses k unique random elements from a population sequence.\n",
      "     |      \n",
      "     |      Returns a new list containing elements from the population while\n",
      "     |      leaving the original population unchanged.  The resulting list is\n",
      "     |      in selection order so that all sub-slices will also be valid random\n",
      "     |      samples.  This allows raffle winners (the sample) to be partitioned\n",
      "     |      into grand prize and second place winners (the subslices).\n",
      "     |      \n",
      "     |      Members of the population need not be hashable or unique.  If the\n",
      "     |      population contains repeats, then each occurrence is a possible\n",
      "     |      selection in the sample.\n",
      "     |      \n",
      "     |      Repeated elements can be specified one at a time or with the optional\n",
      "     |      counts parameter.  For example:\n",
      "     |      \n",
      "     |          sample(['red', 'blue'], counts=[4, 2], k=5)\n",
      "     |      \n",
      "     |      is equivalent to:\n",
      "     |      \n",
      "     |          sample(['red', 'red', 'red', 'red', 'blue', 'blue'], k=5)\n",
      "     |      \n",
      "     |      To choose a sample from a range of integers, use range() for the\n",
      "     |      population argument.  This is especially fast and space efficient\n",
      "     |      for sampling from a large population:\n",
      "     |      \n",
      "     |          sample(range(10000000), 60)\n",
      "     |  \n",
      "     |  shuffle(self, x)\n",
      "     |      Shuffle list x in place, and return None.\n",
      "     |  \n",
      "     |  triangular(self, low=0.0, high=1.0, mode=None)\n",
      "     |      Triangular distribution.\n",
      "     |      \n",
      "     |      Continuous distribution bounded by given lower and upper limits,\n",
      "     |      and having a given mode value in-between.\n",
      "     |      \n",
      "     |      http://en.wikipedia.org/wiki/Triangular_distribution\n",
      "     |  \n",
      "     |  uniform(self, a, b)\n",
      "     |      Get a random number in the range [a, b) or [a, b] depending on rounding.\n",
      "     |  \n",
      "     |  vonmisesvariate(self, mu, kappa)\n",
      "     |      Circular data distribution.\n",
      "     |      \n",
      "     |      mu is the mean angle, expressed in radians between 0 and 2*pi, and\n",
      "     |      kappa is the concentration parameter, which must be greater than or\n",
      "     |      equal to zero.  If kappa is equal to zero, this distribution reduces\n",
      "     |      to a uniform random angle over the range 0 to 2*pi.\n",
      "     |  \n",
      "     |  weibullvariate(self, alpha, beta)\n",
      "     |      Weibull distribution.\n",
      "     |      \n",
      "     |      alpha is the scale parameter and beta is the shape parameter.\n",
      "     |  \n",
      "     |  ----------------------------------------------------------------------\n",
      "     |  Class methods inherited from Random:\n",
      "     |  \n",
      "     |  __init_subclass__(**kwargs) from builtins.type\n",
      "     |      Control how subclasses generate random integers.\n",
      "     |      \n",
      "     |      The algorithm a subclass can use depends on the random() and/or\n",
      "     |      getrandbits() implementation available to it and determines\n",
      "     |      whether it can generate random integers from arbitrarily large\n",
      "     |      ranges.\n",
      "     |  \n",
      "     |  ----------------------------------------------------------------------\n",
      "     |  Data descriptors inherited from Random:\n",
      "     |  \n",
      "     |  __dict__\n",
      "     |      dictionary for instance variables\n",
      "     |  \n",
      "     |  __weakref__\n",
      "     |      list of weak references to the object\n",
      "     |  \n",
      "     |  ----------------------------------------------------------------------\n",
      "     |  Data and other attributes inherited from Random:\n",
      "     |  \n",
      "     |  VERSION = 3\n",
      "     |  \n",
      "     |  ----------------------------------------------------------------------\n",
      "     |  Static methods inherited from _random.Random:\n",
      "     |  \n",
      "     |  __new__(*args, **kwargs) from builtins.type\n",
      "     |      Create and return a new object.  See help(type) for accurate signature.\n",
      "\n",
      "FUNCTIONS\n",
      "    betavariate(alpha, beta) method of Random instance\n",
      "        Beta distribution.\n",
      "        \n",
      "        Conditions on the parameters are alpha > 0 and beta > 0.\n",
      "        Returned values range between 0 and 1.\n",
      "    \n",
      "    choice(seq) method of Random instance\n",
      "        Choose a random element from a non-empty sequence.\n",
      "    \n",
      "    choices(population, weights=None, *, cum_weights=None, k=1) method of Random instance\n",
      "        Return a k sized list of population elements chosen with replacement.\n",
      "        \n",
      "        If the relative weights or cumulative weights are not specified,\n",
      "        the selections are made with equal probability.\n",
      "    \n",
      "    expovariate(lambd) method of Random instance\n",
      "        Exponential distribution.\n",
      "        \n",
      "        lambd is 1.0 divided by the desired mean.  It should be\n",
      "        nonzero.  (The parameter would be called \"lambda\", but that is\n",
      "        a reserved word in Python.)  Returned values range from 0 to\n",
      "        positive infinity if lambd is positive, and from negative\n",
      "        infinity to 0 if lambd is negative.\n",
      "    \n",
      "    gammavariate(alpha, beta) method of Random instance\n",
      "        Gamma distribution.  Not the gamma function!\n",
      "        \n",
      "        Conditions on the parameters are alpha > 0 and beta > 0.\n",
      "        \n",
      "        The probability distribution function is:\n",
      "        \n",
      "                    x ** (alpha - 1) * math.exp(-x / beta)\n",
      "          pdf(x) =  --------------------------------------\n",
      "                      math.gamma(alpha) * beta ** alpha\n",
      "    \n",
      "    gauss(mu=0.0, sigma=1.0) method of Random instance\n",
      "        Gaussian distribution.\n",
      "        \n",
      "        mu is the mean, and sigma is the standard deviation.  This is\n",
      "        slightly faster than the normalvariate() function.\n",
      "        \n",
      "        Not thread-safe without a lock around calls.\n",
      "    \n",
      "    getrandbits(k, /) method of Random instance\n",
      "        getrandbits(k) -> x.  Generates an int with k random bits.\n",
      "    \n",
      "    getstate() method of Random instance\n",
      "        Return internal state; can be passed to setstate() later.\n",
      "    \n",
      "    lognormvariate(mu, sigma) method of Random instance\n",
      "        Log normal distribution.\n",
      "        \n",
      "        If you take the natural logarithm of this distribution, you'll get a\n",
      "        normal distribution with mean mu and standard deviation sigma.\n",
      "        mu can have any value, and sigma must be greater than zero.\n",
      "    \n",
      "    normalvariate(mu=0.0, sigma=1.0) method of Random instance\n",
      "        Normal distribution.\n",
      "        \n",
      "        mu is the mean, and sigma is the standard deviation.\n",
      "    \n",
      "    paretovariate(alpha) method of Random instance\n",
      "        Pareto distribution.  alpha is the shape parameter.\n",
      "    \n",
      "    randbytes(n) method of Random instance\n",
      "        Generate n random bytes.\n",
      "    \n",
      "    randint(a, b) method of Random instance\n",
      "        Return random integer in range [a, b], including both end points.\n",
      "    \n",
      "    random() method of Random instance\n",
      "        random() -> x in the interval [0, 1).\n",
      "    \n",
      "    randrange(start, stop=None, step=1) method of Random instance\n",
      "        Choose a random item from range(stop) or range(start, stop[, step]).\n",
      "        \n",
      "        Roughly equivalent to ``choice(range(start, stop, step))`` but\n",
      "        supports arbitrarily large ranges and is optimized for common cases.\n",
      "    \n",
      "    sample(population, k, *, counts=None) method of Random instance\n",
      "        Chooses k unique random elements from a population sequence.\n",
      "        \n",
      "        Returns a new list containing elements from the population while\n",
      "        leaving the original population unchanged.  The resulting list is\n",
      "        in selection order so that all sub-slices will also be valid random\n",
      "        samples.  This allows raffle winners (the sample) to be partitioned\n",
      "        into grand prize and second place winners (the subslices).\n",
      "        \n",
      "        Members of the population need not be hashable or unique.  If the\n",
      "        population contains repeats, then each occurrence is a possible\n",
      "        selection in the sample.\n",
      "        \n",
      "        Repeated elements can be specified one at a time or with the optional\n",
      "        counts parameter.  For example:\n",
      "        \n",
      "            sample(['red', 'blue'], counts=[4, 2], k=5)\n",
      "        \n",
      "        is equivalent to:\n",
      "        \n",
      "            sample(['red', 'red', 'red', 'red', 'blue', 'blue'], k=5)\n",
      "        \n",
      "        To choose a sample from a range of integers, use range() for the\n",
      "        population argument.  This is especially fast and space efficient\n",
      "        for sampling from a large population:\n",
      "        \n",
      "            sample(range(10000000), 60)\n",
      "    \n",
      "    seed(a=None, version=2) method of Random instance\n",
      "        Initialize internal state from a seed.\n",
      "        \n",
      "        The only supported seed types are None, int, float,\n",
      "        str, bytes, and bytearray.\n",
      "        \n",
      "        None or no argument seeds from current time or from an operating\n",
      "        system specific randomness source if available.\n",
      "        \n",
      "        If *a* is an int, all bits are used.\n",
      "        \n",
      "        For version 2 (the default), all of the bits are used if *a* is a str,\n",
      "        bytes, or bytearray.  For version 1 (provided for reproducing random\n",
      "        sequences from older versions of Python), the algorithm for str and\n",
      "        bytes generates a narrower range of seeds.\n",
      "    \n",
      "    setstate(state) method of Random instance\n",
      "        Restore internal state from object returned by getstate().\n",
      "    \n",
      "    shuffle(x) method of Random instance\n",
      "        Shuffle list x in place, and return None.\n",
      "    \n",
      "    triangular(low=0.0, high=1.0, mode=None) method of Random instance\n",
      "        Triangular distribution.\n",
      "        \n",
      "        Continuous distribution bounded by given lower and upper limits,\n",
      "        and having a given mode value in-between.\n",
      "        \n",
      "        http://en.wikipedia.org/wiki/Triangular_distribution\n",
      "    \n",
      "    uniform(a, b) method of Random instance\n",
      "        Get a random number in the range [a, b) or [a, b] depending on rounding.\n",
      "    \n",
      "    vonmisesvariate(mu, kappa) method of Random instance\n",
      "        Circular data distribution.\n",
      "        \n",
      "        mu is the mean angle, expressed in radians between 0 and 2*pi, and\n",
      "        kappa is the concentration parameter, which must be greater than or\n",
      "        equal to zero.  If kappa is equal to zero, this distribution reduces\n",
      "        to a uniform random angle over the range 0 to 2*pi.\n",
      "    \n",
      "    weibullvariate(alpha, beta) method of Random instance\n",
      "        Weibull distribution.\n",
      "        \n",
      "        alpha is the scale parameter and beta is the shape parameter.\n",
      "\n",
      "DATA\n",
      "    __all__ = ['Random', 'SystemRandom', 'betavariate', 'choice', 'choices...\n",
      "\n",
      "FILE\n",
      "    c:\\users\\ozgur\\anaconda3\\lib\\random.py\n",
      "\n",
      "\n"
     ]
    }
   ],
   "source": [
    "help(random)"
   ]
  },
  {
   "cell_type": "code",
   "execution_count": 165,
   "id": "d2416d13-e3a2-477b-af61-f1c2194f066d",
   "metadata": {},
   "outputs": [
    {
     "data": {
      "text/plain": [
       "0.024105128140885834"
      ]
     },
     "execution_count": 165,
     "metadata": {},
     "output_type": "execute_result"
    }
   ],
   "source": [
    "random.random()"
   ]
  },
  {
   "cell_type": "code",
   "execution_count": 166,
   "id": "c8184295-63ee-4808-9f54-d7119f8c47df",
   "metadata": {},
   "outputs": [
    {
     "data": {
      "text/plain": [
       "5.2545269083616875"
      ]
     },
     "execution_count": 166,
     "metadata": {},
     "output_type": "execute_result"
    }
   ],
   "source": [
    "random.uniform(5,10)"
   ]
  },
  {
   "cell_type": "code",
   "execution_count": 167,
   "id": "8ab5e941-993f-4317-bee0-a62d2fd86c59",
   "metadata": {},
   "outputs": [
    {
     "data": {
      "text/plain": [
       "9"
      ]
     },
     "execution_count": 167,
     "metadata": {},
     "output_type": "execute_result"
    }
   ],
   "source": [
    "random.randint(5,10)"
   ]
  },
  {
   "cell_type": "code",
   "execution_count": 171,
   "id": "81df6716-fd66-43f8-bc7b-e1bdc2eb2c71",
   "metadata": {},
   "outputs": [
    {
     "data": {
      "text/plain": [
       "5"
      ]
     },
     "execution_count": 171,
     "metadata": {},
     "output_type": "execute_result"
    }
   ],
   "source": [
    "random.choice(range(10))"
   ]
  },
  {
   "cell_type": "raw",
   "id": "2243f4bc-489d-49f1-b996-ba9de22cb4d3",
   "metadata": {},
   "source": [
    "random.sample(range(10), k=4)"
   ]
  },
  {
   "cell_type": "code",
   "execution_count": 172,
   "id": "11f21538-651d-45ba-87e2-90de8a0f897c",
   "metadata": {},
   "outputs": [
    {
     "name": "stdout",
     "output_type": "stream",
     "text": [
      "[0, 1, 2, 3, 4, 5, 6, 7, 8, 9]\n",
      "[8, 0, 1, 5, 3, 4, 6, 9, 2, 7]\n"
     ]
    }
   ],
   "source": [
    "liste = [*range(10)]\n",
    "print(liste)\n",
    "random.shuffle(liste)\n",
    "print(liste)"
   ]
  },
  {
   "cell_type": "markdown",
   "id": "f3de2fcc-4931-4f1c-bd0c-d46fdb9af726",
   "metadata": {},
   "source": [
    "### Math Modüle'ü"
   ]
  },
  {
   "cell_type": "code",
   "execution_count": 173,
   "id": "838056ec-3a2a-4db9-b322-13ad0ada6a98",
   "metadata": {},
   "outputs": [],
   "source": [
    "import math"
   ]
  },
  {
   "cell_type": "code",
   "execution_count": 174,
   "id": "adabeb82-5135-486c-abc0-0ae716afbb19",
   "metadata": {},
   "outputs": [
    {
     "name": "stdout",
     "output_type": "stream",
     "text": [
      "Help on built-in module math:\n",
      "\n",
      "NAME\n",
      "    math\n",
      "\n",
      "DESCRIPTION\n",
      "    This module provides access to the mathematical functions\n",
      "    defined by the C standard.\n",
      "\n",
      "FUNCTIONS\n",
      "    acos(x, /)\n",
      "        Return the arc cosine (measured in radians) of x.\n",
      "        \n",
      "        The result is between 0 and pi.\n",
      "    \n",
      "    acosh(x, /)\n",
      "        Return the inverse hyperbolic cosine of x.\n",
      "    \n",
      "    asin(x, /)\n",
      "        Return the arc sine (measured in radians) of x.\n",
      "        \n",
      "        The result is between -pi/2 and pi/2.\n",
      "    \n",
      "    asinh(x, /)\n",
      "        Return the inverse hyperbolic sine of x.\n",
      "    \n",
      "    atan(x, /)\n",
      "        Return the arc tangent (measured in radians) of x.\n",
      "        \n",
      "        The result is between -pi/2 and pi/2.\n",
      "    \n",
      "    atan2(y, x, /)\n",
      "        Return the arc tangent (measured in radians) of y/x.\n",
      "        \n",
      "        Unlike atan(y/x), the signs of both x and y are considered.\n",
      "    \n",
      "    atanh(x, /)\n",
      "        Return the inverse hyperbolic tangent of x.\n",
      "    \n",
      "    cbrt(x, /)\n",
      "        Return the cube root of x.\n",
      "    \n",
      "    ceil(x, /)\n",
      "        Return the ceiling of x as an Integral.\n",
      "        \n",
      "        This is the smallest integer >= x.\n",
      "    \n",
      "    comb(n, k, /)\n",
      "        Number of ways to choose k items from n items without repetition and without order.\n",
      "        \n",
      "        Evaluates to n! / (k! * (n - k)!) when k <= n and evaluates\n",
      "        to zero when k > n.\n",
      "        \n",
      "        Also called the binomial coefficient because it is equivalent\n",
      "        to the coefficient of k-th term in polynomial expansion of the\n",
      "        expression (1 + x)**n.\n",
      "        \n",
      "        Raises TypeError if either of the arguments are not integers.\n",
      "        Raises ValueError if either of the arguments are negative.\n",
      "    \n",
      "    copysign(x, y, /)\n",
      "        Return a float with the magnitude (absolute value) of x but the sign of y.\n",
      "        \n",
      "        On platforms that support signed zeros, copysign(1.0, -0.0)\n",
      "        returns -1.0.\n",
      "    \n",
      "    cos(x, /)\n",
      "        Return the cosine of x (measured in radians).\n",
      "    \n",
      "    cosh(x, /)\n",
      "        Return the hyperbolic cosine of x.\n",
      "    \n",
      "    degrees(x, /)\n",
      "        Convert angle x from radians to degrees.\n",
      "    \n",
      "    dist(p, q, /)\n",
      "        Return the Euclidean distance between two points p and q.\n",
      "        \n",
      "        The points should be specified as sequences (or iterables) of\n",
      "        coordinates.  Both inputs must have the same dimension.\n",
      "        \n",
      "        Roughly equivalent to:\n",
      "            sqrt(sum((px - qx) ** 2.0 for px, qx in zip(p, q)))\n",
      "    \n",
      "    erf(x, /)\n",
      "        Error function at x.\n",
      "    \n",
      "    erfc(x, /)\n",
      "        Complementary error function at x.\n",
      "    \n",
      "    exp(x, /)\n",
      "        Return e raised to the power of x.\n",
      "    \n",
      "    exp2(x, /)\n",
      "        Return 2 raised to the power of x.\n",
      "    \n",
      "    expm1(x, /)\n",
      "        Return exp(x)-1.\n",
      "        \n",
      "        This function avoids the loss of precision involved in the direct evaluation of exp(x)-1 for small x.\n",
      "    \n",
      "    fabs(x, /)\n",
      "        Return the absolute value of the float x.\n",
      "    \n",
      "    factorial(n, /)\n",
      "        Find n!.\n",
      "        \n",
      "        Raise a ValueError if x is negative or non-integral.\n",
      "    \n",
      "    floor(x, /)\n",
      "        Return the floor of x as an Integral.\n",
      "        \n",
      "        This is the largest integer <= x.\n",
      "    \n",
      "    fmod(x, y, /)\n",
      "        Return fmod(x, y), according to platform C.\n",
      "        \n",
      "        x % y may differ.\n",
      "    \n",
      "    frexp(x, /)\n",
      "        Return the mantissa and exponent of x, as pair (m, e).\n",
      "        \n",
      "        m is a float and e is an int, such that x = m * 2.**e.\n",
      "        If x is 0, m and e are both 0.  Else 0.5 <= abs(m) < 1.0.\n",
      "    \n",
      "    fsum(seq, /)\n",
      "        Return an accurate floating point sum of values in the iterable seq.\n",
      "        \n",
      "        Assumes IEEE-754 floating point arithmetic.\n",
      "    \n",
      "    gamma(x, /)\n",
      "        Gamma function at x.\n",
      "    \n",
      "    gcd(*integers)\n",
      "        Greatest Common Divisor.\n",
      "    \n",
      "    hypot(...)\n",
      "        hypot(*coordinates) -> value\n",
      "        \n",
      "        Multidimensional Euclidean distance from the origin to a point.\n",
      "        \n",
      "        Roughly equivalent to:\n",
      "            sqrt(sum(x**2 for x in coordinates))\n",
      "        \n",
      "        For a two dimensional point (x, y), gives the hypotenuse\n",
      "        using the Pythagorean theorem:  sqrt(x*x + y*y).\n",
      "        \n",
      "        For example, the hypotenuse of a 3/4/5 right triangle is:\n",
      "        \n",
      "            >>> hypot(3.0, 4.0)\n",
      "            5.0\n",
      "    \n",
      "    isclose(a, b, *, rel_tol=1e-09, abs_tol=0.0)\n",
      "        Determine whether two floating point numbers are close in value.\n",
      "        \n",
      "          rel_tol\n",
      "            maximum difference for being considered \"close\", relative to the\n",
      "            magnitude of the input values\n",
      "          abs_tol\n",
      "            maximum difference for being considered \"close\", regardless of the\n",
      "            magnitude of the input values\n",
      "        \n",
      "        Return True if a is close in value to b, and False otherwise.\n",
      "        \n",
      "        For the values to be considered close, the difference between them\n",
      "        must be smaller than at least one of the tolerances.\n",
      "        \n",
      "        -inf, inf and NaN behave similarly to the IEEE 754 Standard.  That\n",
      "        is, NaN is not close to anything, even itself.  inf and -inf are\n",
      "        only close to themselves.\n",
      "    \n",
      "    isfinite(x, /)\n",
      "        Return True if x is neither an infinity nor a NaN, and False otherwise.\n",
      "    \n",
      "    isinf(x, /)\n",
      "        Return True if x is a positive or negative infinity, and False otherwise.\n",
      "    \n",
      "    isnan(x, /)\n",
      "        Return True if x is a NaN (not a number), and False otherwise.\n",
      "    \n",
      "    isqrt(n, /)\n",
      "        Return the integer part of the square root of the input.\n",
      "    \n",
      "    lcm(*integers)\n",
      "        Least Common Multiple.\n",
      "    \n",
      "    ldexp(x, i, /)\n",
      "        Return x * (2**i).\n",
      "        \n",
      "        This is essentially the inverse of frexp().\n",
      "    \n",
      "    lgamma(x, /)\n",
      "        Natural logarithm of absolute value of Gamma function at x.\n",
      "    \n",
      "    log(...)\n",
      "        log(x, [base=math.e])\n",
      "        Return the logarithm of x to the given base.\n",
      "        \n",
      "        If the base not specified, returns the natural logarithm (base e) of x.\n",
      "    \n",
      "    log10(x, /)\n",
      "        Return the base 10 logarithm of x.\n",
      "    \n",
      "    log1p(x, /)\n",
      "        Return the natural logarithm of 1+x (base e).\n",
      "        \n",
      "        The result is computed in a way which is accurate for x near zero.\n",
      "    \n",
      "    log2(x, /)\n",
      "        Return the base 2 logarithm of x.\n",
      "    \n",
      "    modf(x, /)\n",
      "        Return the fractional and integer parts of x.\n",
      "        \n",
      "        Both results carry the sign of x and are floats.\n",
      "    \n",
      "    nextafter(x, y, /)\n",
      "        Return the next floating-point value after x towards y.\n",
      "    \n",
      "    perm(n, k=None, /)\n",
      "        Number of ways to choose k items from n items without repetition and with order.\n",
      "        \n",
      "        Evaluates to n! / (n - k)! when k <= n and evaluates\n",
      "        to zero when k > n.\n",
      "        \n",
      "        If k is not specified or is None, then k defaults to n\n",
      "        and the function returns n!.\n",
      "        \n",
      "        Raises TypeError if either of the arguments are not integers.\n",
      "        Raises ValueError if either of the arguments are negative.\n",
      "    \n",
      "    pow(x, y, /)\n",
      "        Return x**y (x to the power of y).\n",
      "    \n",
      "    prod(iterable, /, *, start=1)\n",
      "        Calculate the product of all the elements in the input iterable.\n",
      "        \n",
      "        The default start value for the product is 1.\n",
      "        \n",
      "        When the iterable is empty, return the start value.  This function is\n",
      "        intended specifically for use with numeric values and may reject\n",
      "        non-numeric types.\n",
      "    \n",
      "    radians(x, /)\n",
      "        Convert angle x from degrees to radians.\n",
      "    \n",
      "    remainder(x, y, /)\n",
      "        Difference between x and the closest integer multiple of y.\n",
      "        \n",
      "        Return x - n*y where n*y is the closest integer multiple of y.\n",
      "        In the case where x is exactly halfway between two multiples of\n",
      "        y, the nearest even value of n is used. The result is always exact.\n",
      "    \n",
      "    sin(x, /)\n",
      "        Return the sine of x (measured in radians).\n",
      "    \n",
      "    sinh(x, /)\n",
      "        Return the hyperbolic sine of x.\n",
      "    \n",
      "    sqrt(x, /)\n",
      "        Return the square root of x.\n",
      "    \n",
      "    tan(x, /)\n",
      "        Return the tangent of x (measured in radians).\n",
      "    \n",
      "    tanh(x, /)\n",
      "        Return the hyperbolic tangent of x.\n",
      "    \n",
      "    trunc(x, /)\n",
      "        Truncates the Real x to the nearest Integral toward 0.\n",
      "        \n",
      "        Uses the __trunc__ magic method.\n",
      "    \n",
      "    ulp(x, /)\n",
      "        Return the value of the least significant bit of the float x.\n",
      "\n",
      "DATA\n",
      "    e = 2.718281828459045\n",
      "    inf = inf\n",
      "    nan = nan\n",
      "    pi = 3.141592653589793\n",
      "    tau = 6.283185307179586\n",
      "\n",
      "FILE\n",
      "    (built-in)\n",
      "\n",
      "\n"
     ]
    }
   ],
   "source": [
    "help(math)"
   ]
  },
  {
   "cell_type": "code",
   "execution_count": 175,
   "id": "0afbbf38-f3bd-430c-8e92-235846ea11cc",
   "metadata": {},
   "outputs": [
    {
     "data": {
      "text/plain": [
       "7"
      ]
     },
     "execution_count": 175,
     "metadata": {},
     "output_type": "execute_result"
    }
   ],
   "source": [
    "round(7.1)"
   ]
  },
  {
   "cell_type": "code",
   "execution_count": 176,
   "id": "a7120301-c811-47fb-8c29-da4b6fa26fdd",
   "metadata": {},
   "outputs": [
    {
     "data": {
      "text/plain": [
       "8"
      ]
     },
     "execution_count": 176,
     "metadata": {},
     "output_type": "execute_result"
    }
   ],
   "source": [
    "math.ceil(7.8)"
   ]
  },
  {
   "cell_type": "code",
   "execution_count": 177,
   "id": "32366e8b-7a70-47ab-a622-2e39097c3932",
   "metadata": {},
   "outputs": [
    {
     "data": {
      "text/plain": [
       "24"
      ]
     },
     "execution_count": 177,
     "metadata": {},
     "output_type": "execute_result"
    }
   ],
   "source": [
    "math.factorial(4)"
   ]
  },
  {
   "cell_type": "markdown",
   "id": "d2d7133a-459a-4865-a2fc-699931aaf75f",
   "metadata": {},
   "source": [
    "### collections Module'ü"
   ]
  },
  {
   "cell_type": "code",
   "execution_count": 178,
   "id": "e029049e-5bc6-4d98-b4cc-e939e4276df3",
   "metadata": {},
   "outputs": [],
   "source": [
    "from collections import Counter\n",
    "import random"
   ]
  },
  {
   "cell_type": "code",
   "execution_count": 181,
   "id": "52c519a1-cdc2-426c-9574-dc95fe3b80ab",
   "metadata": {},
   "outputs": [
    {
     "name": "stdout",
     "output_type": "stream",
     "text": [
      "[[5, 2, 3, 9], [5, 1, 8, 7], [6, 1, 0, 3], [3, 6, 5, 1]]\n",
      "[5, 2, 3, 9, 5, 1, 8, 7, 6, 1, 0, 3, 3, 6, 5, 1]\n"
     ]
    }
   ],
   "source": [
    "list1 = random.sample(range(10), k=4)\n",
    "list2 = random.sample(range(10), k=4)\n",
    "list3 = random.sample(range(10), k=4)\n",
    "list4 = random.sample(range(10), k=4)\n",
    "\n",
    "liste_listesi = [list1, list2, list3, list4]\n",
    "list_toplam = list1 + list2 + list3 + list4\n",
    "\n",
    "print(liste_listesi)\n",
    "print(list_toplam)"
   ]
  },
  {
   "cell_type": "code",
   "execution_count": 183,
   "id": "6fd2e132-056c-4b2f-9f92-5f964adda433",
   "metadata": {},
   "outputs": [
    {
     "name": "stdout",
     "output_type": "stream",
     "text": [
      "1. liste \t [5, 2, 3, 9]\n",
      "2. liste \t [5, 1, 8, 7]\n",
      "3. liste \t [6, 1, 0, 3]\n",
      "4. liste \t [3, 6, 5, 1]\n"
     ]
    },
    {
     "data": {
      "text/plain": [
       "Counter({5: 3, 3: 3, 1: 3, 6: 2, 2: 1, 9: 1, 8: 1, 7: 1, 0: 1})"
      ]
     },
     "execution_count": 183,
     "metadata": {},
     "output_type": "execute_result"
    }
   ],
   "source": [
    "for index, liste in enumerate(liste_listesi):\n",
    "    print('{}. liste \\t {}'.format(index+1, liste))\n",
    "Counter(list_toplam)"
   ]
  },
  {
   "cell_type": "code",
   "execution_count": 184,
   "id": "27c44486-a99d-4bc2-b6be-0692ef2b0ab4",
   "metadata": {},
   "outputs": [
    {
     "data": {
      "text/plain": [
       "Counter({'f': 4, 'd': 3, 'g': 3, 'h': 2})"
      ]
     },
     "execution_count": 184,
     "metadata": {},
     "output_type": "execute_result"
    }
   ],
   "source": [
    "Counter(\"dfgdfghfgdfh\")"
   ]
  },
  {
   "cell_type": "code",
   "execution_count": 187,
   "id": "38c32c9d-fe54-4add-b0e5-88f7f0d1a716",
   "metadata": {},
   "outputs": [
    {
     "name": "stdout",
     "output_type": "stream",
     "text": [
      "  sdfs\n",
      "df\n",
      "ds\n",
      "fdsf\n",
      "dsf\n",
      "sd\n",
      "f\n",
      "dsf\n",
      "d\n"
     ]
    }
   ],
   "source": [
    "sarki = \"\"\"  sdfs\n",
    "df\n",
    "ds\n",
    "fdsf\n",
    "dsf\n",
    "sd\n",
    "f\n",
    "dsf\n",
    "d\"\"\"\n",
    "print(sarki)"
   ]
  },
  {
   "cell_type": "code",
   "execution_count": 188,
   "id": "53cf051e-3dd3-45e9-982e-7abf7d5b8e5e",
   "metadata": {},
   "outputs": [
    {
     "data": {
      "text/plain": [
       "Counter({'d': 8, '\\n': 8, 's': 7, 'f': 7, ' ': 2})"
      ]
     },
     "execution_count": 188,
     "metadata": {},
     "output_type": "execute_result"
    }
   ],
   "source": [
    "Counter(sarki)"
   ]
  },
  {
   "cell_type": "code",
   "execution_count": 192,
   "id": "7b61b3ac-cc61-463a-b074-1713983ae2e1",
   "metadata": {},
   "outputs": [
    {
     "data": {
      "text/plain": [
       "['sdfs', 'df', 'ds', 'fdsf', 'dsf', 'sd', 'f', 'dsf', 'd']"
      ]
     },
     "execution_count": 192,
     "metadata": {},
     "output_type": "execute_result"
    }
   ],
   "source": [
    "sarki.split()"
   ]
  },
  {
   "cell_type": "code",
   "execution_count": 193,
   "id": "301745d0-8f9b-42e1-8dde-654b655b309c",
   "metadata": {},
   "outputs": [
    {
     "data": {
      "text/plain": [
       "Counter({'dsf': 2,\n",
       "         'sdfs': 1,\n",
       "         'df': 1,\n",
       "         'ds': 1,\n",
       "         'fdsf': 1,\n",
       "         'sd': 1,\n",
       "         'f': 1,\n",
       "         'd': 1})"
      ]
     },
     "execution_count": 193,
     "metadata": {},
     "output_type": "execute_result"
    }
   ],
   "source": [
    "Counter(sarki.split())"
   ]
  },
  {
   "cell_type": "code",
   "execution_count": 194,
   "id": "45481cd1-73b8-4f5e-a3f5-fee11a1d45fb",
   "metadata": {},
   "outputs": [
    {
     "data": {
      "text/plain": [
       "'  sdfs\\ndf\\nds\\nfdsf\\ndsf\\nsd\\nf\\ndsf\\nd'"
      ]
     },
     "execution_count": 194,
     "metadata": {},
     "output_type": "execute_result"
    }
   ],
   "source": [
    "sarki.lower()"
   ]
  },
  {
   "cell_type": "code",
   "execution_count": 196,
   "id": "1532accb-9e71-417c-8d1f-456344deb604",
   "metadata": {},
   "outputs": [
    {
     "data": {
      "text/plain": [
       "['sdfs', 'df', 'ds', 'fdsf', 'dsf', 'sd', 'f', 'dsf', 'd']"
      ]
     },
     "execution_count": 196,
     "metadata": {},
     "output_type": "execute_result"
    }
   ],
   "source": [
    "sarki.lower().split()"
   ]
  },
  {
   "cell_type": "code",
   "execution_count": 198,
   "id": "2db8d0d0-e7b1-453d-a776-98c2a4defb5c",
   "metadata": {},
   "outputs": [
    {
     "data": {
      "text/plain": [
       "Counter({'dsf': 2,\n",
       "         'sdfs': 1,\n",
       "         'df': 1,\n",
       "         'ds': 1,\n",
       "         'fdsf': 1,\n",
       "         'sd': 1,\n",
       "         'f': 1,\n",
       "         'd': 1})"
      ]
     },
     "execution_count": 198,
     "metadata": {},
     "output_type": "execute_result"
    }
   ],
   "source": [
    "Counter(sarki.lower().split())"
   ]
  },
  {
   "cell_type": "code",
   "execution_count": 201,
   "id": "b11a109e-5e1d-4e8e-aa27-1a3919bca953",
   "metadata": {},
   "outputs": [
    {
     "data": {
      "text/plain": [
       "[('dsf', 2)]"
      ]
     },
     "execution_count": 201,
     "metadata": {},
     "output_type": "execute_result"
    }
   ],
   "source": [
    "Counter(sarki.lower().split()).most_common(1)"
   ]
  },
  {
   "cell_type": "code",
   "execution_count": 202,
   "id": "940297c1-bfd4-41d8-91ab-afa882cfb8f8",
   "metadata": {},
   "outputs": [],
   "source": [
    "import datetime"
   ]
  },
  {
   "cell_type": "markdown",
   "id": "c212aecd-09bc-453d-b02f-9451805bdc09",
   "metadata": {},
   "source": [
    "### datetime.date"
   ]
  },
  {
   "cell_type": "code",
   "execution_count": 203,
   "id": "611b64db-014b-4f76-b1e1-51e4fa944990",
   "metadata": {},
   "outputs": [],
   "source": [
    "from datetime import date"
   ]
  },
  {
   "cell_type": "code",
   "execution_count": 204,
   "id": "bba14d97-e871-41ba-9474-be605d14000e",
   "metadata": {},
   "outputs": [
    {
     "data": {
      "text/plain": [
       "datetime.date(2024, 5, 11)"
      ]
     },
     "execution_count": 204,
     "metadata": {},
     "output_type": "execute_result"
    }
   ],
   "source": [
    "bugun = date.today()\n",
    "bugun"
   ]
  },
  {
   "cell_type": "code",
   "execution_count": 206,
   "id": "34efb61f-da78-423a-802d-b40bb39fb889",
   "metadata": {},
   "outputs": [
    {
     "data": {
      "text/plain": [
       "datetime.date(2020, 10, 10)"
      ]
     },
     "execution_count": 206,
     "metadata": {},
     "output_type": "execute_result"
    }
   ],
   "source": [
    "dun = date(2020, 10, 10)\n",
    "dun"
   ]
  },
  {
   "cell_type": "code",
   "execution_count": 207,
   "id": "28e05bb9-22fc-4ae1-a6b9-e11d98015a28",
   "metadata": {},
   "outputs": [
    {
     "data": {
      "text/plain": [
       "datetime.timedelta(days=1309)"
      ]
     },
     "execution_count": 207,
     "metadata": {},
     "output_type": "execute_result"
    }
   ],
   "source": [
    "bugun - dun"
   ]
  },
  {
   "cell_type": "code",
   "execution_count": 210,
   "id": "dc08ef55-c0c0-4318-9b82-020fee80e18a",
   "metadata": {},
   "outputs": [
    {
     "data": {
      "text/plain": [
       "1309"
      ]
     },
     "execution_count": 210,
     "metadata": {},
     "output_type": "execute_result"
    }
   ],
   "source": [
    "zaman_araligi = bugun - dun\n",
    "zaman_araligi.days"
   ]
  },
  {
   "cell_type": "code",
   "execution_count": 209,
   "id": "e13da014-290e-40ed-b753-4804ffd094b9",
   "metadata": {},
   "outputs": [
    {
     "data": {
      "text/plain": [
       "datetime.date(2024, 5, 12)"
      ]
     },
     "execution_count": 209,
     "metadata": {},
     "output_type": "execute_result"
    }
   ],
   "source": [
    "yarin = bugun + datetime.timedelta(days = 1)\n",
    "yarin"
   ]
  },
  {
   "cell_type": "code",
   "execution_count": 211,
   "id": "d2a6f34a-7ad0-41b1-a481-b86fb3f05c5e",
   "metadata": {},
   "outputs": [
    {
     "data": {
      "text/plain": [
       "False"
      ]
     },
     "execution_count": 211,
     "metadata": {},
     "output_type": "execute_result"
    }
   ],
   "source": [
    "dun > bugun"
   ]
  },
  {
   "cell_type": "code",
   "execution_count": 214,
   "id": "bcf20637-4cc2-4599-8ac9-1f9be3bc9cba",
   "metadata": {},
   "outputs": [
    {
     "data": {
      "text/plain": [
       "10"
      ]
     },
     "execution_count": 214,
     "metadata": {},
     "output_type": "execute_result"
    }
   ],
   "source": [
    "bugun.__getattribute__('month')"
   ]
  },
  {
   "cell_type": "code",
   "execution_count": 217,
   "id": "4e40f825-3c60-4d4e-ae9c-50ce6f8d1c92",
   "metadata": {},
   "outputs": [
    {
     "data": {
      "text/plain": [
       "41"
      ]
     },
     "execution_count": 217,
     "metadata": {},
     "output_type": "execute_result"
    }
   ],
   "source": [
    "date.isocalendar(bugun)[1]"
   ]
  },
  {
   "cell_type": "code",
   "execution_count": 216,
   "id": "0ee3f43e-f1a2-4c16-a48d-bffa7eaf1f1a",
   "metadata": {},
   "outputs": [
    {
     "data": {
      "text/plain": [
       "5"
      ]
     },
     "execution_count": 216,
     "metadata": {},
     "output_type": "execute_result"
    }
   ],
   "source": [
    "date.weekday(bugun)"
   ]
  },
  {
   "cell_type": "code",
   "execution_count": 218,
   "id": "ea0f2ea1-ddab-4d0b-8335-2aee573cd0c8",
   "metadata": {},
   "outputs": [
    {
     "data": {
      "text/plain": [
       "'Sat Oct 10 00:00:00 2020'"
      ]
     },
     "execution_count": 218,
     "metadata": {},
     "output_type": "execute_result"
    }
   ],
   "source": [
    "date.ctime(bugun)"
   ]
  },
  {
   "cell_type": "code",
   "execution_count": 219,
   "id": "c72d5b34-e854-4ad1-ba80-e769320fbc93",
   "metadata": {},
   "outputs": [],
   "source": [
    "from datetime import time    "
   ]
  },
  {
   "cell_type": "code",
   "execution_count": 222,
   "id": "bdef05a9-ac81-43df-9260-301ddf772493",
   "metadata": {},
   "outputs": [
    {
     "name": "stdout",
     "output_type": "stream",
     "text": [
      "21:15:05\n"
     ]
    }
   ],
   "source": [
    "zaman = time(21,15,5)\n",
    "print(zaman)"
   ]
  },
  {
   "cell_type": "code",
   "execution_count": 223,
   "id": "9d264228-3925-4a3d-851c-44c9fd46032b",
   "metadata": {},
   "outputs": [
    {
     "data": {
      "text/plain": [
       "21"
      ]
     },
     "execution_count": 223,
     "metadata": {},
     "output_type": "execute_result"
    }
   ],
   "source": [
    "zaman.hour"
   ]
  },
  {
   "cell_type": "code",
   "execution_count": 224,
   "id": "7afcf869-bfed-4d5f-bddf-b14a52c0eb91",
   "metadata": {},
   "outputs": [
    {
     "data": {
      "text/plain": [
       "15"
      ]
     },
     "execution_count": 224,
     "metadata": {},
     "output_type": "execute_result"
    }
   ],
   "source": [
    "zaman.minute"
   ]
  },
  {
   "cell_type": "code",
   "execution_count": 225,
   "id": "46d307fc-f3fc-4c4f-ae6a-9edfe661bc02",
   "metadata": {},
   "outputs": [
    {
     "data": {
      "text/plain": [
       "5"
      ]
     },
     "execution_count": 225,
     "metadata": {},
     "output_type": "execute_result"
    }
   ],
   "source": [
    "zaman.second"
   ]
  },
  {
   "cell_type": "code",
   "execution_count": 226,
   "id": "c610ebb0-b38a-4654-ba7b-2b0fbb9e0470",
   "metadata": {},
   "outputs": [
    {
     "name": "stdout",
     "output_type": "stream",
     "text": [
      "2020-10-21 11:05:03\n"
     ]
    }
   ],
   "source": [
    "dt = datetime.datetime(2020,10,21,11,5,3)\n",
    "print(dt)"
   ]
  },
  {
   "cell_type": "code",
   "execution_count": 227,
   "id": "1f9383b7-2b8a-4930-8b0a-3e009565e121",
   "metadata": {},
   "outputs": [
    {
     "data": {
      "text/plain": [
       "11"
      ]
     },
     "execution_count": 227,
     "metadata": {},
     "output_type": "execute_result"
    }
   ],
   "source": [
    "dt.hour"
   ]
  },
  {
   "cell_type": "code",
   "execution_count": 228,
   "id": "02972451-cfe6-404c-9cee-34e6e96d5f1c",
   "metadata": {},
   "outputs": [],
   "source": [
    "import time"
   ]
  },
  {
   "cell_type": "code",
   "execution_count": 230,
   "id": "29d4a1d1-fd46-4717-a06f-481a4166d939",
   "metadata": {},
   "outputs": [
    {
     "data": {
      "text/plain": [
       "1715386145.6718464"
      ]
     },
     "execution_count": 230,
     "metadata": {},
     "output_type": "execute_result"
    }
   ],
   "source": [
    "time.time()"
   ]
  },
  {
   "cell_type": "code",
   "execution_count": 231,
   "id": "5aadae93-d321-4853-90e7-8d12ffc8232e",
   "metadata": {},
   "outputs": [
    {
     "name": "stdout",
     "output_type": "stream",
     "text": [
      "Baslama Zamani:\t1715386378.1633437\n",
      "Bitis Zamani:\t1715386383.1642008\n",
      "Calisma Süresi:\t5.00085711479187\n"
     ]
    }
   ],
   "source": [
    "baslangic_zamani = time.time()\n",
    "print(\"Baslama Zamani:\\t{}\".format(baslangic_zamani))\n",
    "time.sleep(5)\n",
    "bitis_zamani = time.time()\n",
    "print(\"Bitis Zamani:\\t{}\".format(bitis_zamani))\n",
    "print(\"Calisma Süresi:\\t{}\".format(bitis_zamani - baslangic_zamani))"
   ]
  },
  {
   "cell_type": "markdown",
   "id": "08a0919f-0552-4aed-a7a1-9dc963b69481",
   "metadata": {},
   "source": [
    "### Decorator prensibi"
   ]
  },
  {
   "cell_type": "code",
   "execution_count": 232,
   "id": "0afba1a3-918e-4c1a-81c6-046281ec3c9b",
   "metadata": {},
   "outputs": [
    {
     "ename": "SyntaxError",
     "evalue": "invalid syntax (2704208948.py, line 2)",
     "output_type": "error",
     "traceback": [
      "\u001b[1;36m  Cell \u001b[1;32mIn[232], line 2\u001b[1;36m\u001b[0m\n\u001b[1;33m    def ...\u001b[0m\n\u001b[1;37m        ^\u001b[0m\n\u001b[1;31mSyntaxError\u001b[0m\u001b[1;31m:\u001b[0m invalid syntax\n"
     ]
    }
   ],
   "source": [
    "@decorator\n",
    "def ..."
   ]
  },
  {
   "cell_type": "code",
   "execution_count": 233,
   "id": "1d69260f-61d6-40e5-a81f-29e8b05c9398",
   "metadata": {},
   "outputs": [],
   "source": [
    "def deneme():\n",
    "    print('abc')"
   ]
  },
  {
   "cell_type": "code",
   "execution_count": 234,
   "id": "38d93aa9-39cd-404b-8cca-160a7b3506f3",
   "metadata": {},
   "outputs": [
    {
     "name": "stdout",
     "output_type": "stream",
     "text": [
      "abc\n"
     ]
    }
   ],
   "source": [
    "deneme()"
   ]
  },
  {
   "cell_type": "code",
   "execution_count": 235,
   "id": "716ca74c-3384-4a4d-b6c1-048c29b50fb9",
   "metadata": {},
   "outputs": [],
   "source": [
    "f = deneme"
   ]
  },
  {
   "cell_type": "code",
   "execution_count": 236,
   "id": "d4c75207-86f1-4c79-91e1-625d44c64cb3",
   "metadata": {},
   "outputs": [
    {
     "name": "stdout",
     "output_type": "stream",
     "text": [
      "abc\n"
     ]
    }
   ],
   "source": [
    "f()"
   ]
  },
  {
   "cell_type": "code",
   "execution_count": 237,
   "id": "db5f6547-ed54-4741-b061-8744f2b8725e",
   "metadata": {},
   "outputs": [],
   "source": [
    "def deneme():\n",
    "    print(\"deneme fonksiyonu calisiyor\")\n",
    "\n",
    "    def test():\n",
    "        return \"test fonksiyonu çalisiyor\"\n",
    "\n",
    "    print(test())"
   ]
  },
  {
   "cell_type": "code",
   "execution_count": 238,
   "id": "99c6290a-d923-4354-8e0d-c82aa47e0ef0",
   "metadata": {},
   "outputs": [
    {
     "name": "stdout",
     "output_type": "stream",
     "text": [
      "deneme fonksiyonu calisiyor\n",
      "test fonksiyonu çalisiyor\n"
     ]
    }
   ],
   "source": [
    "deneme()"
   ]
  },
  {
   "cell_type": "code",
   "execution_count": 243,
   "id": "4b77d70c-b13b-4632-b95d-a6b0181c9292",
   "metadata": {},
   "outputs": [
    {
     "ename": "IndentationError",
     "evalue": "unindent does not match any outer indentation level (<tokenize>, line 7)",
     "output_type": "error",
     "traceback": [
      "\u001b[1;36m  File \u001b[1;32m<tokenize>:7\u001b[1;36m\u001b[0m\n\u001b[1;33m    return test\u001b[0m\n\u001b[1;37m    ^\u001b[0m\n\u001b[1;31mIndentationError\u001b[0m\u001b[1;31m:\u001b[0m unindent does not match any outer indentation level\n"
     ]
    }
   ],
   "source": [
    "def deneme():\n",
    "    print(\"deneme fonksiyonu calisiyor\")\n",
    "\n",
    "    def test():\n",
    "        return \"test fonksiyonu çalisiyor\"\n",
    "\n",
    "   return test"
   ]
  },
  {
   "cell_type": "code",
   "execution_count": 244,
   "id": "f48f3939-c692-4dab-91ff-e530420f537c",
   "metadata": {},
   "outputs": [
    {
     "name": "stdout",
     "output_type": "stream",
     "text": [
      "deneme fonksiyonu calisiyor\n",
      "test fonksiyonu çalisiyor\n"
     ]
    }
   ],
   "source": [
    "deneme()"
   ]
  },
  {
   "cell_type": "code",
   "execution_count": 245,
   "id": "f19f4f9c-1ea0-4240-ab83-9dc3afabe037",
   "metadata": {},
   "outputs": [
    {
     "name": "stdout",
     "output_type": "stream",
     "text": [
      "deneme fonksiyonu calisiyor\n",
      "test fonksiyonu çalisiyor\n"
     ]
    },
    {
     "ename": "TypeError",
     "evalue": "'NoneType' object is not callable",
     "output_type": "error",
     "traceback": [
      "\u001b[1;31m---------------------------------------------------------------------------\u001b[0m",
      "\u001b[1;31mTypeError\u001b[0m                                 Traceback (most recent call last)",
      "Cell \u001b[1;32mIn[245], line 2\u001b[0m\n\u001b[0;32m      1\u001b[0m f \u001b[38;5;241m=\u001b[39m deneme()\n\u001b[1;32m----> 2\u001b[0m f()\n",
      "\u001b[1;31mTypeError\u001b[0m: 'NoneType' object is not callable"
     ]
    }
   ],
   "source": [
    "f = deneme()\n",
    "f()"
   ]
  },
  {
   "cell_type": "code",
   "execution_count": 246,
   "id": "30fe8dc7-fbea-433b-ae43-11f23a55d036",
   "metadata": {},
   "outputs": [
    {
     "name": "stdout",
     "output_type": "stream",
     "text": [
      "deneme fonksiyonu calisiyor\n",
      "test fonksiyonu çalisiyor\n"
     ]
    },
    {
     "ename": "TypeError",
     "evalue": "'NoneType' object is not callable",
     "output_type": "error",
     "traceback": [
      "\u001b[1;31m---------------------------------------------------------------------------\u001b[0m",
      "\u001b[1;31mTypeError\u001b[0m                                 Traceback (most recent call last)",
      "Cell \u001b[1;32mIn[246], line 2\u001b[0m\n\u001b[0;32m      1\u001b[0m f \u001b[38;5;241m=\u001b[39m deneme()\n\u001b[1;32m----> 2\u001b[0m \u001b[38;5;28mprint\u001b[39m(f())\n",
      "\u001b[1;31mTypeError\u001b[0m: 'NoneType' object is not callable"
     ]
    }
   ],
   "source": [
    "f = deneme()\n",
    "print(f())"
   ]
  },
  {
   "cell_type": "code",
   "execution_count": 247,
   "id": "b38f0812-3865-4718-b39e-14fd14202126",
   "metadata": {},
   "outputs": [],
   "source": [
    "def deneme():\n",
    "    return \"deneme fonksiyonu calisiyor\""
   ]
  },
  {
   "cell_type": "code",
   "execution_count": 249,
   "id": "98e0cc86-e1f7-4fcb-b023-7ff912d39dc7",
   "metadata": {},
   "outputs": [],
   "source": [
    "def ikinci(f):\n",
    "    print(\"ikinci fonksiyon calisiyor\")\n",
    "\n",
    "    print(f())"
   ]
  },
  {
   "cell_type": "code",
   "execution_count": 250,
   "id": "7421adad-49b2-46d0-b25f-15ac554fc4c5",
   "metadata": {},
   "outputs": [
    {
     "name": "stdout",
     "output_type": "stream",
     "text": [
      "ikinci fonksiyon calisiyor\n",
      "deneme fonksiyonu calisiyor\n"
     ]
    }
   ],
   "source": [
    "ikinci(deneme)"
   ]
  },
  {
   "cell_type": "code",
   "execution_count": 251,
   "id": "175c5761-a1a0-4b66-b354-a89693884fec",
   "metadata": {},
   "outputs": [],
   "source": [
    "def code(f):\n",
    "\n",
    "    def wrapper():\n",
    "        print(\"Baslangic\")\n",
    "\n",
    "        f()\n",
    "\n",
    "        print(\"Bitis\")\n",
    "\n",
    "    return wrapper"
   ]
  },
  {
   "cell_type": "code",
   "execution_count": 1,
   "id": "7258af64-9ed7-4be8-9431-1139287b1851",
   "metadata": {},
   "outputs": [],
   "source": [
    "def yazdir():\n",
    "    print(\"yazdir\")"
   ]
  },
  {
   "cell_type": "code",
   "execution_count": 2,
   "id": "ac52d66a-239c-4c85-99e8-d77889f997ec",
   "metadata": {},
   "outputs": [],
   "source": [
    "import requests"
   ]
  },
  {
   "cell_type": "markdown",
   "id": "a40b0c50-900d-4bb7-858b-0c8ef888ae78",
   "metadata": {},
   "source": [
    "# eksik yarierli izle tamamla "
   ]
  },
  {
   "cell_type": "markdown",
   "id": "dc94e304-8e88-41b7-97a2-95f80b196d2c",
   "metadata": {},
   "source": [
    "Python Dersleri #40 | Arayüz Oluşturma (GUI) Tkinter - part 1"
   ]
  },
  {
   "cell_type": "code",
   "execution_count": 44,
   "id": "29a2215f-84b9-4039-9f49-f93d189bcb29",
   "metadata": {},
   "outputs": [
    {
     "name": "stdout",
     "output_type": "stream",
     "text": [
      "Collecting tkcalendar\n",
      "  Downloading tkcalendar-1.6.1-py3-none-any.whl.metadata (22 kB)\n",
      "Requirement already satisfied: babel in c:\\users\\ozgur\\anaconda3\\lib\\site-packages (from tkcalendar) (2.11.0)\n",
      "Requirement already satisfied: pytz>=2015.7 in c:\\users\\ozgur\\anaconda3\\lib\\site-packages (from babel->tkcalendar) (2023.3.post1)\n",
      "Downloading tkcalendar-1.6.1-py3-none-any.whl (40 kB)\n",
      "   ---------------------------------------- 0.0/40.9 kB ? eta -:--:--\n",
      "   ------------------------------ --------- 30.7/40.9 kB 640.0 kB/s eta 0:00:01\n",
      "   ---------------------------------------- 40.9/40.9 kB 652.6 kB/s eta 0:00:00\n",
      "Installing collected packages: tkcalendar\n",
      "Successfully installed tkcalendar-1.6.1\n",
      "Note: you may need to restart the kernel to use updated packages.\n"
     ]
    }
   ],
   "source": [
    "pip install tkcalendar"
   ]
  },
  {
   "cell_type": "code",
   "execution_count": 13,
   "id": "0c848abc-8cd3-4c74-8053-f7c6fe9bc8f9",
   "metadata": {
    "scrolled": true
   },
   "outputs": [],
   "source": [
    "from tkinter import *\n",
    "from tkcalendar import DateEntry\n",
    "import tkinter.messagebox as messagebox\n",
    "\n",
    "# PART - I\n",
    "master = Tk()\n",
    "\n",
    "canvas = Canvas(master, height=450, width=750)\n",
    "canvas.pack()\n",
    "\n",
    "frame_ust = Frame(master, bg='#add8e6')\n",
    "frame_ust.place(relx=0.1, rely=0.1, relwidth=0.8, relheight=0.1)\n",
    "\n",
    "frame_alt_sol = Frame(master, bg='#add8e6')\n",
    "frame_alt_sol.place(relx=0.1, rely=0.21, relwidth=0.23, relheight=0.4)\n",
    "\n",
    "frame_alt_sag = Frame(master, bg='#add8e6')\n",
    "frame_alt_sag.place(relx=0.34, rely=0.21, relwidth=0.56, relheight=0.4)\n",
    "\n",
    "hatirlatma_tipi_etiket = Label(frame_ust, bg='#add8e6', text=\"Hatirlatma Tipi:\", font=\"Verdana 10 bold\")\n",
    "hatirlatma_tipi_etiket.pack(padx=10, pady=10, side=LEFT)\n",
    "\n",
    "hatirlatma_tipi_opsiyon = StringVar(frame_ust)\n",
    "hatirlatma_tipi_opsiyon.set(\"\")\n",
    "\n",
    "hatirlatma_tipi_acilir_menu = OptionMenu(\n",
    "    frame_ust,\n",
    "    hatirlatma_tipi_opsiyon,\n",
    "    \"Dogum Günü\",\n",
    "    \"Alisveris\",\n",
    "    \"Ödeme\"\n",
    ")\n",
    "hatirlatma_tipi_acilir_menu.pack(padx=10, pady=10, side=LEFT)\n",
    "\n",
    "hatirlatma_tarih_secici = DateEntry(frame_ust, width=12, background='orange', foreground='black', borderwidth=1, locale=\"de_DE\")\n",
    "hatirlatma_tarih_secici.pack(padx=10, pady=10, side=RIGHT)\n",
    "\n",
    "hatirlatma_tarihi_etiket = Label(frame_ust, bg='#add8e6', text=\"Hatirlatma Tarihi:\", font=\"Verdana 10 bold\")\n",
    "hatirlatma_tarihi_etiket.pack(padx=10, pady=10, side=RIGHT)\n",
    "\n",
    "# PART - II\n",
    "\n",
    "Label(frame_alt_sol, text=\"Hatirlatma Yönetimi\", bg='#add8e6', font=\"Verdana 10 bold\").pack(padx=10, pady=10, anchor=NW)\n",
    "\n",
    "var = IntVar()\n",
    "\n",
    "R1 = Radiobutton(frame_alt_sol, text=\"Sisteme kaydet\", variable=var, value=1, bg='#add8e6', font=\"Verdana 10\")\n",
    "R1.pack(anchor=NW, pady=5, padx=15)\n",
    "\n",
    "R2 = Radiobutton(frame_alt_sol, text=\"E-posta Gönder\", variable=var, value=2, bg='#add8e6', font=\"Verdana 10\")\n",
    "R2.pack(anchor=NW, pady=5, padx=15)\n",
    "\n",
    "var1 = IntVar()\n",
    "C1 = Checkbutton(frame_alt_sol, text='Bir hafta önce', variable=var1, onvalue=1, offvalue=0, bg='#add8e6', font=\"Verdana 10\")\n",
    "C1.pack(anchor=NW, pady=2, padx=25)\n",
    "\n",
    "var2 = IntVar()\n",
    "C2 = Checkbutton(frame_alt_sol, text='Bir gün önce', variable=var2, onvalue=1, offvalue=0, bg='#add8e6', font=\"Verdana 10\")\n",
    "C2.pack(anchor=NW, pady=2, padx=25)\n",
    "\n",
    "var3 = IntVar()\n",
    "C3 = Checkbutton(frame_alt_sol, text='Ayni gün', variable=var3, onvalue=1, offvalue=0, bg='#add8e6', font=\"Verdana 10\")\n",
    "C3.pack(anchor=NW, pady=2, padx=25)\n",
    "\n",
    "# PART - III\n",
    "\n",
    "def gonder():\n",
    "    son_mesaj = \"\"\n",
    "    try:\n",
    "        if var.get():\n",
    "            if var.get() == 1:\n",
    "                son_mesaj += \"Veriniz basariyla sisteme kaydedilmiştir.\"\n",
    "\n",
    "                tip = hatirlatma_tipi_opsiyon.get() if hatirlatma_tipi_opsiyon.get()=='' else \"Genel\"\n",
    "                tarih = hatirlatma_tarih_secici.get()\n",
    "                mesaj = metin_alani.get(\"1.0\", \"end\")\n",
    "\n",
    "                with open(\"hatirlatmalar.txt\", \"w\") as dosya:\n",
    "                    dosya.write(\n",
    "                        '{} katagorisinde, {} tarihinde ve \"{}\" notuyla hatirlatma'.format(\n",
    "                            tip,\n",
    "                            tarih,\n",
    "                            mesaj\n",
    "                        ))\n",
    "                    dosya.close()\n",
    "\n",
    "            elif var.get() == 2:\n",
    "                son_mesaj += \"E-posta yoluyla hatirlatma size ulaşacaktir.\"\n",
    "\n",
    "            messagebox.showinfo(\"Basarili Islem\", son_mesaj)\n",
    "        else:\n",
    "            son_mesaj += \"Gerekli alanları doldurdugunuzdan emin olun!\"\n",
    "            messagebox.showwarning(\"Yetersiz Bilgi\", son_mesaj)\n",
    "\n",
    "    except Exception as e:\n",
    "        son_mesaj += \"Islem basarisiz oldu!\"\n",
    "        messagebox.showerror(\"Basarisiz Islem\", son_mesaj)\n",
    "    finally:\n",
    "        master.destroy()\n",
    "\n",
    "Label(frame_alt_sag, text=\"Hatirlatma Mesaji\", bg='#add8e6', font=\"Verdana 10 bold\").pack(padx=10, pady=10, anchor=NW)\n",
    "\n",
    "metin_alani = Text(frame_alt_sag, height=9, width=50)\n",
    "metin_alani.tag_configure('style', foreground='#bfbfbf', font=('Verdana', 7, 'bold'))\n",
    "metin_alani.pack()\n",
    "karsilama_metni = 'Mesajini buraya gir...'\n",
    "metin_alani.insert(END, karsilama_metni, 'style')\n",
    "\n",
    "gonder_Button = Button(frame_alt_sag, text=\"Gönder\", command=gonder)\n",
    "gonder_Button.pack(anchor=S)\n",
    "\n",
    "master.mainloop()\n"
   ]
  },
  {
   "cell_type": "markdown",
   "id": "d9eaa67d-70e6-4dd8-a183-00d859d3f469",
   "metadata": {},
   "source": [
    "### Basit Posta Gönderimi"
   ]
  },
  {
   "cell_type": "code",
   "execution_count": 3,
   "id": "984224e9-9915-445e-b986-de422db214ad",
   "metadata": {},
   "outputs": [],
   "source": [
    "import smtplib\n",
    "import ssl"
   ]
  },
  {
   "cell_type": "code",
   "execution_count": 10,
   "id": "ec363baa-fa5e-442f-9a31-8a8aa97cee75",
   "metadata": {},
   "outputs": [],
   "source": [
    "kullanici = '<sahte6769@gmail.com>'\n",
    "sifre = '<Sahte102i>'\n",
    "Baslik = \"Konu Başlığı\""
   ]
  },
  {
   "cell_type": "code",
   "execution_count": 11,
   "id": "b0d67ea5-9da6-4fc8-8607-40d6e672b6be",
   "metadata": {},
   "outputs": [],
   "source": [
    "alici = kullanici\n",
    "#baslik = 'Python gönderisi'\n",
    "mesaj = 'Deneme Mesaji'\n",
    "\n",
    "context = ssl.create_default_context()"
   ]
  },
  {
   "cell_type": "code",
   "execution_count": 13,
   "id": "9f6805c5-47bd-4aae-b2ac-b2bcec98bd6f",
   "metadata": {},
   "outputs": [
    {
     "ename": "SMTPAuthenticationError",
     "evalue": "(535, b'5.7.8 Username and Password not accepted. For more information, go to\\n5.7.8  https://support.google.com/mail/?p=BadCredentials 4fb4d7f45d1cf-5733bea651asm4461756a12.11 - gsmtp')",
     "output_type": "error",
     "traceback": [
      "\u001b[1;31m---------------------------------------------------------------------------\u001b[0m",
      "\u001b[1;31mSMTPAuthenticationError\u001b[0m                   Traceback (most recent call last)",
      "Cell \u001b[1;32mIn[13], line 14\u001b[0m\n\u001b[0;32m     11\u001b[0m eposta_sunucusu \u001b[38;5;241m=\u001b[39m smtplib\u001b[38;5;241m.\u001b[39mSMTP_SSL(host\u001b[38;5;241m=\u001b[39mhost, port\u001b[38;5;241m=\u001b[39mport, context\u001b[38;5;241m=\u001b[39mcontext)\n\u001b[0;32m     13\u001b[0m \u001b[38;5;66;03m# Giriş yapın\u001b[39;00m\n\u001b[1;32m---> 14\u001b[0m eposta_sunucusu\u001b[38;5;241m.\u001b[39mlogin(kullanici, sifre)\n\u001b[0;32m     16\u001b[0m \u001b[38;5;66;03m# Mesajı gönderin\u001b[39;00m\n\u001b[0;32m     17\u001b[0m eposta_sunucusu\u001b[38;5;241m.\u001b[39msendmail(kullanici, alici, mesaj)\n",
      "File \u001b[1;32m~\\anaconda3\\Lib\\smtplib.py:750\u001b[0m, in \u001b[0;36mSMTP.login\u001b[1;34m(self, user, password, initial_response_ok)\u001b[0m\n\u001b[0;32m    747\u001b[0m         last_exception \u001b[38;5;241m=\u001b[39m e\n\u001b[0;32m    749\u001b[0m \u001b[38;5;66;03m# We could not login successfully.  Return result of last attempt.\u001b[39;00m\n\u001b[1;32m--> 750\u001b[0m \u001b[38;5;28;01mraise\u001b[39;00m last_exception\n",
      "File \u001b[1;32m~\\anaconda3\\Lib\\smtplib.py:739\u001b[0m, in \u001b[0;36mSMTP.login\u001b[1;34m(self, user, password, initial_response_ok)\u001b[0m\n\u001b[0;32m    737\u001b[0m method_name \u001b[38;5;241m=\u001b[39m \u001b[38;5;124m'\u001b[39m\u001b[38;5;124mauth_\u001b[39m\u001b[38;5;124m'\u001b[39m \u001b[38;5;241m+\u001b[39m authmethod\u001b[38;5;241m.\u001b[39mlower()\u001b[38;5;241m.\u001b[39mreplace(\u001b[38;5;124m'\u001b[39m\u001b[38;5;124m-\u001b[39m\u001b[38;5;124m'\u001b[39m, \u001b[38;5;124m'\u001b[39m\u001b[38;5;124m_\u001b[39m\u001b[38;5;124m'\u001b[39m)\n\u001b[0;32m    738\u001b[0m \u001b[38;5;28;01mtry\u001b[39;00m:\n\u001b[1;32m--> 739\u001b[0m     (code, resp) \u001b[38;5;241m=\u001b[39m \u001b[38;5;28mself\u001b[39m\u001b[38;5;241m.\u001b[39mauth(\n\u001b[0;32m    740\u001b[0m         authmethod, \u001b[38;5;28mgetattr\u001b[39m(\u001b[38;5;28mself\u001b[39m, method_name),\n\u001b[0;32m    741\u001b[0m         initial_response_ok\u001b[38;5;241m=\u001b[39minitial_response_ok)\n\u001b[0;32m    742\u001b[0m     \u001b[38;5;66;03m# 235 == 'Authentication successful'\u001b[39;00m\n\u001b[0;32m    743\u001b[0m     \u001b[38;5;66;03m# 503 == 'Error: already authenticated'\u001b[39;00m\n\u001b[0;32m    744\u001b[0m     \u001b[38;5;28;01mif\u001b[39;00m code \u001b[38;5;129;01min\u001b[39;00m (\u001b[38;5;241m235\u001b[39m, \u001b[38;5;241m503\u001b[39m):\n",
      "File \u001b[1;32m~\\anaconda3\\Lib\\smtplib.py:662\u001b[0m, in \u001b[0;36mSMTP.auth\u001b[1;34m(self, mechanism, authobject, initial_response_ok)\u001b[0m\n\u001b[0;32m    660\u001b[0m \u001b[38;5;28;01mif\u001b[39;00m code \u001b[38;5;129;01min\u001b[39;00m (\u001b[38;5;241m235\u001b[39m, \u001b[38;5;241m503\u001b[39m):\n\u001b[0;32m    661\u001b[0m     \u001b[38;5;28;01mreturn\u001b[39;00m (code, resp)\n\u001b[1;32m--> 662\u001b[0m \u001b[38;5;28;01mraise\u001b[39;00m SMTPAuthenticationError(code, resp)\n",
      "\u001b[1;31mSMTPAuthenticationError\u001b[0m: (535, b'5.7.8 Username and Password not accepted. For more information, go to\\n5.7.8  https://support.google.com/mail/?p=BadCredentials 4fb4d7f45d1cf-5733bea651asm4461756a12.11 - gsmtp')"
     ]
    }
   ],
   "source": [
    "import smtplib\n",
    "import ssl\n",
    "\n",
    "port = 465\n",
    "host = \"smtp.gmail.com\"\n",
    "\n",
    "# SSL bağlantısı için bir SSL context oluşturun\n",
    "context = ssl.create_default_context()\n",
    "\n",
    "# SMTP_SSL sınıfını kullanarak bağlantıyı oluşturun\n",
    "eposta_sunucusu = smtplib.SMTP_SSL(host=host, port=port, context=context)\n",
    "\n",
    "# Giriş yapın\n",
    "eposta_sunucusu.login(kullanici, sifre)\n",
    "\n",
    "# Mesajı gönderin\n",
    "eposta_sunucusu.sendmail(kullanici, alici, mesaj)\n",
    "\n",
    "# Bağlantıyı kapatın\n",
    "eposta_sunucusu.quit()\n"
   ]
  },
  {
   "cell_type": "markdown",
   "id": "f2f9e9c2-7ebf-4509-9111-d418581f51b2",
   "metadata": {},
   "source": [
    "# yukarıda bir hata mesajı verilmedi e posta şifre doğru girildiği zaman çalışacaktır. :)"
   ]
  },
  {
   "cell_type": "code",
   "execution_count": 18,
   "id": "3e82ee60-84cb-40ba-81e3-2eafdbb65fa8",
   "metadata": {},
   "outputs": [
    {
     "name": "stdout",
     "output_type": "stream",
     "text": [
      "E-posta gönderilirken bir hata oluştu: (535, b'5.7.8 Username and Password not accepted. For more information, go to\\n5.7.8  https://support.google.com/mail/?p=BadCredentials a640c23a62f3a-a5a17b01932sm434510366b.168 - gsmtp')\n"
     ]
    }
   ],
   "source": [
    "import smtplib\n",
    "import ssl\n",
    "\n",
    "kullanici = 'sahte6769@gmail.com'\n",
    "sifre = 'Sahte102i'\n",
    "Baslik = \"Konu Başlığı\"\n",
    "alici = kullanici\n",
    "mesaj = 'Deneme Mesaji'\n",
    "\n",
    "port = 465\n",
    "host = \"smtp.gmail.com\"\n",
    "\n",
    "# SSL bağlantısı için bir SSL context oluşturun\n",
    "context = ssl.create_default_context()\n",
    "\n",
    "try:\n",
    "    # SMTP_SSL sınıfını kullanarak bağlantıyı oluşturun\n",
    "    with smtplib.SMTP_SSL(host=host, port=port, context=context) as eposta_sunucusu:\n",
    "        # Giriş yapın\n",
    "        eposta_sunucusu.login(kullanici, sifre)\n",
    "\n",
    "        # Mesajı gönderin\n",
    "        eposta_sunucusu.sendmail(kullanici, alici, mesaj)\n",
    "        print(\"E-posta başarıyla gönderildi!\")\n",
    "except Exception as e:\n",
    "    print(f\"E-posta gönderilirken bir hata oluştu: {str(e)}\")\n"
   ]
  },
  {
   "cell_type": "markdown",
   "id": "4138f143-99d2-46d7-976d-2a9cb822e017",
   "metadata": {},
   "source": [
    "### Eklentili Posta Gönderimi"
   ]
  },
  {
   "cell_type": "code",
   "execution_count": 9,
   "id": "6800b4da-4234-4db3-9bf9-e4572ed97899",
   "metadata": {},
   "outputs": [
    {
     "ename": "NameError",
     "evalue": "name 'Baslik' is not defined",
     "output_type": "error",
     "traceback": [
      "\u001b[1;31m---------------------------------------------------------------------------\u001b[0m",
      "\u001b[1;31mNameError\u001b[0m                                 Traceback (most recent call last)",
      "Cell \u001b[1;32mIn[9], line 9\u001b[0m\n\u001b[0;32m      7\u001b[0m posta[\u001b[38;5;124m'\u001b[39m\u001b[38;5;124mFrom\u001b[39m\u001b[38;5;124m'\u001b[39m] \u001b[38;5;241m=\u001b[39m kullanici\n\u001b[0;32m      8\u001b[0m posta[\u001b[38;5;124m'\u001b[39m\u001b[38;5;124mTo\u001b[39m\u001b[38;5;124m'\u001b[39m] \u001b[38;5;241m=\u001b[39m kullanici\n\u001b[1;32m----> 9\u001b[0m posta[\u001b[38;5;124m'\u001b[39m\u001b[38;5;124mSubject\u001b[39m\u001b[38;5;124m'\u001b[39m] \u001b[38;5;241m=\u001b[39m Baslik\n\u001b[0;32m     11\u001b[0m posta\u001b[38;5;241m.\u001b[39mattach(MIMEText(mesaj, \u001b[38;5;124m'\u001b[39m\u001b[38;5;124mplain\u001b[39m\u001b[38;5;124m'\u001b[39m))\n\u001b[0;32m     13\u001b[0m eklenti_dosya_ismi \u001b[38;5;241m=\u001b[39m \u001b[38;5;124m\"\u001b[39m\u001b[38;5;124mframe.png\u001b[39m\u001b[38;5;124m\"\u001b[39m\n",
      "\u001b[1;31mNameError\u001b[0m: name 'Baslik' is not defined"
     ]
    }
   ],
   "source": [
    "from email.mime.multipart import MIMEMultipart\n",
    "from email.mime.text import MIMEText\n",
    "from email.mime.base import MIMEBase\n",
    "from email import encoders\n",
    "\n",
    "posta = MIMEMultipart()\n",
    "posta['From'] = kullanici\n",
    "posta['To'] = kullanici\n",
    "posta['Subject'] = Baslik\n",
    "\n",
    "posta.attach(MIMEText(mesaj, 'plain'))\n",
    "\n",
    "eklenti_dosya_ismi = \"frame.png\"\n",
    "\n",
    "with open(eklenti_dosya_ismi, 'rb') as eklenti_dosyasi:\n",
    "    payload = MIMEBase('application', 'octet-stream')\n",
    "    payload.set_payload((eklenti_dosyasi).read())\n",
    "    encoders.encode_base64(payload)\n",
    "\n",
    "    payload.add_header(\"Content-Disposition\", \"attachment\", filename=eklenti_dosya_ismi)\n",
    "    posta.attach(payload)\n",
    "\n",
    "posta_str = posta.as_string()\n"
   ]
  },
  {
   "cell_type": "code",
   "execution_count": 29,
   "id": "6b5a8743-4f04-4474-ba7d-2e28a3b9e10f",
   "metadata": {},
   "outputs": [],
   "source": [
    "Baslik = \"Görüntü Dosyası\""
   ]
  },
  {
   "cell_type": "code",
   "execution_count": 30,
   "id": "d07324cf-1158-4d99-af27-ea21262226bc",
   "metadata": {},
   "outputs": [],
   "source": [
    "from email.mime.multipart import MIMEMultipart\n",
    "from email.mime.text import MIMEText\n",
    "from email.mime.base import MIMEBase\n",
    "from email import encoders\n",
    "\n",
    "posta = MIMEMultipart()\n",
    "posta['From'] = kullanici\n",
    "posta['To'] = kullanici\n",
    "Baslik = \"Görüntü Dosyası\"\n",
    "posta['Subject'] = Baslik\n",
    "\n",
    "posta.attach(MIMEText(mesaj, 'plain'))\n",
    "\n",
    "eklenti_dosya_ismi = \"frame.png\"\n",
    "\n",
    "with open(eklenti_dosya_ismi, 'rb') as eklenti_dosyasi:\n",
    "    payload = MIMEBase('application', 'octet-stream')\n",
    "    payload.set_payload((eklenti_dosyasi).read())\n",
    "    encoders.encode_base64(payload)\n",
    "\n",
    "    payload.add_header(\"Content-Disposition\", \"attachment\", filename=eklenti_dosya_ismi)\n",
    "    posta.attach(payload)\n",
    "\n",
    "posta_str = posta.as_string()\n"
   ]
  },
  {
   "cell_type": "code",
   "execution_count": 31,
   "id": "9cf9e7c5-9095-4ca4-b52f-cb16f2beb670",
   "metadata": {},
   "outputs": [
    {
     "ename": "AttributeError",
     "evalue": "module 'smtplib' has no attribute 'SMPT_SSL'",
     "output_type": "error",
     "traceback": [
      "\u001b[1;31m---------------------------------------------------------------------------\u001b[0m",
      "\u001b[1;31mAttributeError\u001b[0m                            Traceback (most recent call last)",
      "Cell \u001b[1;32mIn[31], line 4\u001b[0m\n\u001b[0;32m      1\u001b[0m port \u001b[38;5;241m=\u001b[39m \u001b[38;5;241m465\u001b[39m\n\u001b[0;32m      2\u001b[0m host \u001b[38;5;241m=\u001b[39m \u001b[38;5;124m\"\u001b[39m\u001b[38;5;124msmtp.gmail.com\u001b[39m\u001b[38;5;124m\"\u001b[39m\n\u001b[1;32m----> 4\u001b[0m eposta_sunucusu \u001b[38;5;241m=\u001b[39m smtplib\u001b[38;5;241m.\u001b[39mSMPT_SSL(host \u001b[38;5;241m=\u001b[39m host, port \u001b[38;5;241m=\u001b[39m port, context \u001b[38;5;241m=\u001b[39m context)\n\u001b[0;32m      5\u001b[0m eposta_sunucusu\u001b[38;5;241m.\u001b[39mlogin(kullanici, sifre)\n\u001b[0;32m      6\u001b[0m eposta_sunucusu\u001b[38;5;241m.\u001b[39msendmail(kullanici, alici, posta_str)\n",
      "\u001b[1;31mAttributeError\u001b[0m: module 'smtplib' has no attribute 'SMPT_SSL'"
     ]
    }
   ],
   "source": [
    "port = 465\n",
    "host = \"smtp.gmail.com\"\n",
    "\n",
    "eposta_sunucusu = smtplib.SMPT_SSL(host = host, port = port, context = context)\n",
    "eposta_sunucusu.login(kullanici, sifre)\n",
    "eposta_sunucusu.sendmail(kullanici, alici, posta_str)"
   ]
  },
  {
   "cell_type": "markdown",
   "id": "9e89deb1-f900-4a4a-a2e1-cecde1a2a8b6",
   "metadata": {},
   "source": [
    "# E-Posta Okuma"
   ]
  },
  {
   "cell_type": "code",
   "execution_count": 33,
   "id": "7af3aa25-0341-4a88-8571-d242d316702c",
   "metadata": {},
   "outputs": [
    {
     "name": "stdout",
     "output_type": "stream",
     "text": [
      "Collecting imap_tools\n",
      "  Downloading imap_tools-1.6.0-py3-none-any.whl.metadata (20 kB)\n",
      "Downloading imap_tools-1.6.0-py3-none-any.whl (33 kB)\n",
      "Installing collected packages: imap_tools\n",
      "Successfully installed imap_tools-1.6.0\n",
      "Note: you may need to restart the kernel to use updated packages.\n"
     ]
    }
   ],
   "source": [
    "pip install imap_tools"
   ]
  },
  {
   "cell_type": "code",
   "execution_count": 34,
   "id": "236528d0-24eb-4196-911d-f15e325ff109",
   "metadata": {},
   "outputs": [
    {
     "ename": "MailboxLoginError",
     "evalue": "Response status \"OK\" expected, but \"NO\" received. Data: [b'[AUTHENTICATIONFAILED] Invalid credentials (Failure)']",
     "output_type": "error",
     "traceback": [
      "\u001b[1;31m---------------------------------------------------------------------------\u001b[0m",
      "\u001b[1;31mMailboxLoginError\u001b[0m                         Traceback (most recent call last)",
      "Cell \u001b[1;32mIn[34], line 5\u001b[0m\n\u001b[0;32m      1\u001b[0m \u001b[38;5;28;01mfrom\u001b[39;00m \u001b[38;5;21;01mimap_tools\u001b[39;00m \u001b[38;5;28;01mimport\u001b[39;00m MailBox\n\u001b[0;32m      3\u001b[0m posta_kutusu \u001b[38;5;241m=\u001b[39m MailBox(\u001b[38;5;124m'\u001b[39m\u001b[38;5;124mimap.gmail.com\u001b[39m\u001b[38;5;124m'\u001b[39m)\n\u001b[1;32m----> 5\u001b[0m posta_kutusu\u001b[38;5;241m.\u001b[39mlogin(kullanici, sifre,  initial_folder\u001b[38;5;241m=\u001b[39m\u001b[38;5;124m\"\u001b[39m\u001b[38;5;124mINBOX\u001b[39m\u001b[38;5;124m\"\u001b[39m)\n",
      "File \u001b[1;32m~\\anaconda3\\Lib\\site-packages\\imap_tools\\mailbox.py:63\u001b[0m, in \u001b[0;36mBaseMailBox.login\u001b[1;34m(self, username, password, initial_folder)\u001b[0m\n\u001b[0;32m     61\u001b[0m \u001b[38;5;250m\u001b[39m\u001b[38;5;124;03m\"\"\"Authenticate to account\"\"\"\u001b[39;00m\n\u001b[0;32m     62\u001b[0m login_result \u001b[38;5;241m=\u001b[39m \u001b[38;5;28mself\u001b[39m\u001b[38;5;241m.\u001b[39mclient\u001b[38;5;241m.\u001b[39m_simple_command(\u001b[38;5;124m'\u001b[39m\u001b[38;5;124mLOGIN\u001b[39m\u001b[38;5;124m'\u001b[39m, username, \u001b[38;5;28mself\u001b[39m\u001b[38;5;241m.\u001b[39mclient\u001b[38;5;241m.\u001b[39m_quote(password))  \u001b[38;5;66;03m# noqa\u001b[39;00m\n\u001b[1;32m---> 63\u001b[0m check_command_status(login_result, MailboxLoginError)\n\u001b[0;32m     64\u001b[0m \u001b[38;5;28mself\u001b[39m\u001b[38;5;241m.\u001b[39mclient\u001b[38;5;241m.\u001b[39mstate \u001b[38;5;241m=\u001b[39m \u001b[38;5;124m'\u001b[39m\u001b[38;5;124mAUTH\u001b[39m\u001b[38;5;124m'\u001b[39m  \u001b[38;5;66;03m# logic from self.client.login\u001b[39;00m\n\u001b[0;32m     65\u001b[0m \u001b[38;5;28;01mif\u001b[39;00m initial_folder \u001b[38;5;129;01mis\u001b[39;00m \u001b[38;5;129;01mnot\u001b[39;00m \u001b[38;5;28;01mNone\u001b[39;00m:\n",
      "File \u001b[1;32m~\\anaconda3\\Lib\\site-packages\\imap_tools\\utils.py:46\u001b[0m, in \u001b[0;36mcheck_command_status\u001b[1;34m(command_result, exception, expected)\u001b[0m\n\u001b[0;32m     44\u001b[0m typ, data \u001b[38;5;241m=\u001b[39m command_result[\u001b[38;5;241m0\u001b[39m], command_result[\u001b[38;5;241m1\u001b[39m]\n\u001b[0;32m     45\u001b[0m \u001b[38;5;28;01mif\u001b[39;00m typ \u001b[38;5;241m!=\u001b[39m expected:\n\u001b[1;32m---> 46\u001b[0m     \u001b[38;5;28;01mraise\u001b[39;00m exception(command_result\u001b[38;5;241m=\u001b[39mcommand_result, expected\u001b[38;5;241m=\u001b[39mexpected)\n",
      "\u001b[1;31mMailboxLoginError\u001b[0m: Response status \"OK\" expected, but \"NO\" received. Data: [b'[AUTHENTICATIONFAILED] Invalid credentials (Failure)']"
     ]
    }
   ],
   "source": [
    "from imap_tools import MailBox\n",
    "\n",
    "posta_kutusu = MailBox('imap.gmail.com')\n",
    "\n",
    "posta_kutusu.login(kullanici, sifre,  initial_folder=\"INBOX\")"
   ]
  },
  {
   "cell_type": "code",
   "execution_count": 36,
   "id": "ed219196-1b63-4e1c-887d-f7ca18a97eb5",
   "metadata": {},
   "outputs": [],
   "source": [
    "# Bu hata, giriş yaparken kullanıcı adı veya şifrenin yanlış olduğunu belirtiyor. \"AUTHENTICATIONFAILED\" hatası, kullanıcı kimliği doğrulama başarısız olduğunda oluşur. Kullanıcı adı ve şifrenizi doğru girdiğinizden emin olun ve tekrar deneyin. Bazı durumlarda, Google tarafından oturum açma denemeleri engellenebilir veya Google'un güvenlik politikaları nedeniyle giriş denemeleri engellenebilir. Bu durumda, Google hesabınızın güvenlik ayarlarını kontrol edebilir ve güvenlik duvarı ayarlarını düzenleyebilirsiniz."
   ]
  },
  {
   "cell_type": "code",
   "execution_count": 37,
   "id": "49d9f342-2116-40e2-904a-078d2d8af055",
   "metadata": {},
   "outputs": [
    {
     "ename": "SyntaxError",
     "evalue": "positional argument follows keyword argument (1710158746.py, line 4)",
     "output_type": "error",
     "traceback": [
      "\u001b[1;36m  Cell \u001b[1;32mIn[37], line 4\u001b[1;36m\u001b[0m\n\u001b[1;33m    kriter = AND(date_gte=2021,1,1), from_=kullanici\u001b[0m\n\u001b[1;37m                                  ^\u001b[0m\n\u001b[1;31mSyntaxError\u001b[0m\u001b[1;31m:\u001b[0m positional argument follows keyword argument\n"
     ]
    }
   ],
   "source": [
    "import datetime\n",
    "from imap_tools import AND\n",
    "\n",
    "kriter = AND(date_gte=2021,1,1), from_=kullanici\n",
    "for msg in posta_kutusu.fetch(kriter):\n",
    "    print(msg.text)"
   ]
  },
  {
   "cell_type": "markdown",
   "id": "a468b105-40c1-468b-9828-a8e64d7ccbdf",
   "metadata": {},
   "source": [
    "Yukarda alınan hatalar sadece gerçek bir e posta ve şifre girilmediği için çıkıyor..                                                             \n",
    "Gerekli ayarlamaları yaptığımız vekit başarılı bir şekilde çalışacaktır"
   ]
  },
  {
   "cell_type": "code",
   "execution_count": null,
   "id": "34224239-9b82-4799-bc08-be3fee7b0ff0",
   "metadata": {},
   "outputs": [],
   "source": []
  }
 ],
 "metadata": {
  "kernelspec": {
   "display_name": "Python 3 (ipykernel)",
   "language": "python",
   "name": "python3"
  },
  "language_info": {
   "codemirror_mode": {
    "name": "ipython",
    "version": 3
   },
   "file_extension": ".py",
   "mimetype": "text/x-python",
   "name": "python",
   "nbconvert_exporter": "python",
   "pygments_lexer": "ipython3",
   "version": "3.11.7"
  }
 },
 "nbformat": 4,
 "nbformat_minor": 5
}
